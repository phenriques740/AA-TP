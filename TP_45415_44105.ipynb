{
 "cells": [
  {
   "cell_type": "markdown",
   "id": "architectural-suicide",
   "metadata": {},
   "source": [
    "# Trabalho Prático Aprendizagem Automática\n"
   ]
  },
  {
   "cell_type": "code",
   "execution_count": 30,
   "id": "simplified-garage",
   "metadata": {},
   "outputs": [],
   "source": [
    "import re, pickle, time, datetime\n",
    "from tempfile import TemporaryDirectory\n",
    "\n",
    "from sklearn.svm import LinearSVC,SVC\n",
    "\n",
    "import numpy as np\n",
    "\n",
    "from matplotlib import pyplot as plt\n",
    "\n",
    "from sklearn.feature_extraction.text import CountVectorizer, TfidfTransformer, TfidfVectorizer\n",
    "from sklearn.model_selection import train_test_split\n",
    "from sklearn.linear_model import LogisticRegression, LogisticRegressionCV\n",
    "from sklearn.naive_bayes import MultinomialNB\n",
    "\n",
    "from sklearn.model_selection import cross_val_score , GridSearchCV , RandomizedSearchCV\n",
    "\n",
    "from sklearn.metrics import confusion_matrix, silhouette_samples, silhouette_score\n",
    "from sklearn.cluster import KMeans, MiniBatchKMeans\n",
    "from sklearn.decomposition import PCA , TruncatedSVD\n",
    "from sklearn.pipeline import Pipeline\n",
    "\n",
    "\n",
    "from nltk.stem import PorterStemmer, SnowballStemmer, LancasterStemmer\n",
    "#Possiveis de serem usadas : numpy, scipy, matplotlib, sklearn, nltk, re e opencv "
   ]
  },
  {
   "cell_type": "markdown",
   "id": "better-circular",
   "metadata": {},
   "source": [
    "Carregar os ficheiros"
   ]
  },
  {
   "cell_type": "code",
   "execution_count": 2,
   "id": "theoretical-registration",
   "metadata": {},
   "outputs": [
    {
     "name": "stderr",
     "output_type": "stream",
     "text": [
      "C:\\ProgramData\\Anaconda3\\lib\\site-packages\\sklearn\\base.py:329: UserWarning: Trying to unpickle estimator TfidfTransformer from version 0.22.1 when using version 0.23.2. This might lead to breaking code or invalid results. Use at your own risk.\n",
      "  warnings.warn(\n",
      "C:\\ProgramData\\Anaconda3\\lib\\site-packages\\sklearn\\base.py:329: UserWarning: Trying to unpickle estimator TfidfVectorizer from version 0.22.1 when using version 0.23.2. This might lead to breaking code or invalid results. Use at your own risk.\n",
      "  warnings.warn(\n"
     ]
    }
   ],
   "source": [
    "with open('imdbCriticas.p', 'rb') as f:\n",
    "    global D, Docs, y\n",
    "    D = pickle.load(f)\n",
    "    Docs = D.data\n",
    "    y = D.target\n",
    "\n",
    "with open('tfidf_dump.p', 'rb') as f:\n",
    "    global tfidf\n",
    "    tfidf = pickle.load(f)"
   ]
  },
  {
   "cell_type": "code",
   "execution_count": 3,
   "id": "continuous-sitting",
   "metadata": {},
   "outputs": [
    {
     "data": {
      "text/plain": [
       "TfidfVectorizer(max_df=0.5, min_df=4, ngram_range=(1, 2), stop_words='english',\n",
       "                token_pattern='\\\\b\\\\w{3,}\\\\b')"
      ]
     },
     "execution_count": 3,
     "metadata": {},
     "output_type": "execute_result"
    }
   ],
   "source": [
    "tfidf"
   ]
  },
  {
   "cell_type": "markdown",
   "id": "applicable-oliver",
   "metadata": {},
   "source": [
    "Podemos analisar a quantidade de reviews de cada uma das possíveis reviews"
   ]
  },
  {
   "cell_type": "markdown",
   "id": "parallel-triumph",
   "metadata": {},
   "source": [
    "### Quantidade de reviews por categoria"
   ]
  },
  {
   "cell_type": "code",
   "execution_count": 7,
   "id": "selective-timber",
   "metadata": {},
   "outputs": [
    {
     "name": "stdout",
     "output_type": "stream",
     "text": [
      "{1: 8352, 2: 3690, 3: 3923, 4: 4245, 7: 3744, 8: 4529, 9: 3612, 10: 7905}\n"
     ]
    },
    {
     "data": {
      "image/png": "[encoded data removed]",
      "text/plain": [
       "<Figure size 432x288 with 1 Axes>"
      ]
     },
     "metadata": {
      "needs_background": "light"
     },
     "output_type": "display_data"
    }
   ],
   "source": [
    "rating, value=np.unique(y,return_counts=True)\n",
    "print(dict(zip(rating, value)))\n",
    "plt.plot(rating,value,'*r')\n",
    "plt.grid()\n"
   ]
  },
  {
   "cell_type": "markdown",
   "id": "together-expense",
   "metadata": {},
   "source": [
    "###  Pré processamento de dados de texto"
   ]
  },
  {
   "cell_type": "markdown",
   "id": "critical-hybrid",
   "metadata": {},
   "source": [
    "Usamos este metodo para préprocessar os dados de texto, e reduzir as palavras tendo em conta os erros de ortografia\n",
    "\n",
    "O stemmer por defeito é o lancaster, porque teve os melhores resultados e se o argumento não corresponder a nenhum outro, este é utilizado"
   ]
  },
  {
   "cell_type": "code",
   "execution_count": 65,
   "id": "forbidden-married",
   "metadata": {},
   "outputs": [],
   "source": [
    "def preProcessDoc(Doc, stemmer = 'lancaster', decode = False):\n",
    "    stem = {\n",
    "        'porter'   : PorterStemmer(),\n",
    "        'snowball' : SnowballStemmer('english'),\n",
    "        'lancaster': LancasterStemmer()\n",
    "    }\n",
    "    stemFunc = stem.get(stemmer, LancasterStemmer())\n",
    "    if(decode):\n",
    "        Doc = Doc.decode('UTF-8')\n",
    "    Doc = Doc.replace('<br />', ' ')\n",
    "    Doc = re.sub(r'[^a-zA-Z\\u00C0\\u00FF]+', ' ', Doc)\n",
    "    Doc = ' '.join([stemFunc.stem(w) for w in Doc.split()])\n",
    "    return Doc\n",
    "\n",
    "def preProcessDocs(Docs, stemmer='lancaster', decode = False):\n",
    "    return [preProcessDoc(doc, stemmer, decode) for doc in Docs]\n",
    "\n",
    "def text2vector(Docs, tfidf=None,preProcess = False, stemmer='lancaster', decode=False):\n",
    "    if(preProcess):\n",
    "        Docs = preProcessDocs(Docs, stemmer=stemmer, decode=decode)\n",
    "    \n",
    "    if(tfidf==None):\n",
    "        tfidf = pickle.load(open('tfidf_dump.p','rb'))\n",
    "\n",
    "    return tfidf.transform(Docs)\n",
    "\n",
    "def binClassify(X, clf=None):\n",
    "    if(clf==None):\n",
    "        clf = pickle.load(open('svc_bool_dump.p' , 'rb'))\n",
    "    \n",
    "    return clf.predict(X)\n",
    "\n",
    "def multiClassify(X, clf=None):\n",
    "    if(clf==None):\n",
    "        clf = pickle.load(open('RidgeMultidump.p', 'rb'))\n",
    "    return clf.predict(X)"
   ]
  },
  {
   "cell_type": "markdown",
   "id": "after-prediction",
   "metadata": {},
   "source": [
    "## Classificação Binária\n",
    "\n",
    "Converter da escala de 0 a 10, para negativos/positivos"
   ]
  },
  {
   "cell_type": "code",
   "execution_count": 5,
   "id": "finnish-happening",
   "metadata": {},
   "outputs": [],
   "source": [
    "y_boolean = [0 if val<5 else 1 for val in y]"
   ]
  },
  {
   "cell_type": "markdown",
   "id": "loaded-connectivity",
   "metadata": {},
   "source": [
    "### Steemers\n",
    "\n",
    "O stemmer reduz uma palavra á sua raiz, ou seja, remove plurais, conjugacao de verbos, etc"
   ]
  },
  {
   "cell_type": "markdown",
   "id": "addressed-yugoslavia",
   "metadata": {},
   "source": [
    "#### Porter"
   ]
  },
  {
   "cell_type": "code",
   "execution_count": 7,
   "id": "durable-angle",
   "metadata": {},
   "outputs": [
    {
     "name": "stdout",
     "output_type": "stream",
     "text": [
      "Token len 26773\n",
      "0.9455\n"
     ]
    }
   ],
   "source": [
    "X = preProcessDocs(Docs, stemmer='porter')\n",
    "tfidf = TfidfVectorizer(min_df=3, token_pattern=r'\\b[a-zA-Z]{3,}\\b').fit(X)\n",
    "vector = text2vector(X)\n",
    "dl = LogisticRegression(max_iter = 1000, C=3.3, tol = 1e-3).fit(vector,y_boolean)\n",
    "print('Token len' , len(tfidf.get_feature_names()))\n",
    "print(dl.score(vector, y_boolean))"
   ]
  },
  {
   "cell_type": "markdown",
   "id": "answering-attitude",
   "metadata": {},
   "source": [
    "#### Snowball"
   ]
  },
  {
   "cell_type": "code",
   "execution_count": 8,
   "id": "dried-illustration",
   "metadata": {},
   "outputs": [
    {
     "name": "stdout",
     "output_type": "stream",
     "text": [
      "Token len 26394\n",
      "0.945375\n"
     ]
    }
   ],
   "source": [
    "X = preProcessDocs(Docs, stemmer='snowball')\n",
    "tfidf = TfidfVectorizer(min_df=3, token_pattern=r'\\b[a-zA-Z]{3,}\\b').fit(X)\n",
    "vector = text2vector(X)\n",
    "dl = LogisticRegression(max_iter = 1000, C=3.3, tol = 1e-3).fit(vector,y_boolean)\n",
    "print('Token len' , len(tfidf.get_feature_names()))\n",
    "print(dl.score(vector, y_boolean))"
   ]
  },
  {
   "cell_type": "markdown",
   "id": "similar-immigration",
   "metadata": {},
   "source": [
    "#### Lancaster"
   ]
  },
  {
   "cell_type": "code",
   "execution_count": 9,
   "id": "sapphire-indication",
   "metadata": {
    "scrolled": true
   },
   "outputs": [
    {
     "name": "stdout",
     "output_type": "stream",
     "text": [
      "Token len 21883\n",
      "0.9394\n"
     ]
    }
   ],
   "source": [
    "X = preProcessDocs(Docs, stemmer='lancaster')\n",
    "tfidf = TfidfVectorizer(min_df=3, token_pattern=r'\\b[a-zA-Z]{3,}\\b').fit(X)\n",
    "vector = text2vector(X)\n",
    "dl = LogisticRegression(max_iter = 1000, C=3.3, tol = 1e-3).fit(vector,y_boolean)\n",
    "print('Token len' , len(tfidf.get_feature_names()))\n",
    "print(dl.score(vector, y_boolean))"
   ]
  },
  {
   "cell_type": "code",
   "execution_count": 10,
   "id": "authorized-outreach",
   "metadata": {},
   "outputs": [
    {
     "name": "stdout",
     "output_type": "stream",
     "text": [
      "P 28315.486105602708\n",
      "S 27919.818056804357\n",
      "L 23294.036245575753\n"
     ]
    }
   ],
   "source": [
    "print('P' ,26773/0.945525)\n",
    "print('S' ,26394/0.94535)\n",
    "print('L' ,21883/0.939425)"
   ]
  },
  {
   "cell_type": "markdown",
   "id": "intense-forestry",
   "metadata": {},
   "source": [
    "É possivel ver que o lancaster é o que reduz ao maximo a quantidade de tokens, alem disso vamos optar por utilizar o Lancaster pois precisava de uma quantidade de tokens menores para atingir os teoricos 100% de score."
   ]
  },
  {
   "cell_type": "markdown",
   "id": "fluid-beast",
   "metadata": {},
   "source": [
    "## Comparar modelos lineares"
   ]
  },
  {
   "cell_type": "code",
   "execution_count": 6,
   "id": "blocked-carolina",
   "metadata": {
    "scrolled": true
   },
   "outputs": [],
   "source": [
    "with open('docs_dump.p', 'rb') as f:\n",
    "    X = pickle.load(f)"
   ]
  },
  {
   "cell_type": "code",
   "execution_count": 11,
   "id": "genuine-function",
   "metadata": {
    "scrolled": true
   },
   "outputs": [],
   "source": [
    "X = preProcessDocs(Docs)\n",
    "with open('docs_dump.p', 'wb') as f:\n",
    "    pickle.dump(X, f)"
   ]
  },
  {
   "cell_type": "code",
   "execution_count": 6,
   "id": "objective-viewer",
   "metadata": {
    "scrolled": false
   },
   "outputs": [
    {
     "name": "stdout",
     "output_type": "stream",
     "text": [
      "Started at 15:16:13\n",
      "Fitting 3 folds for each of 15 candidates, totalling 45 fits\n"
     ]
    },
    {
     "name": "stderr",
     "output_type": "stream",
     "text": [
      "[Parallel(n_jobs=-1)]: Using backend LokyBackend with 4 concurrent workers.\n",
      "[Parallel(n_jobs=-1)]: Done  24 tasks      | elapsed: 33.9min\n",
      "[Parallel(n_jobs=-1)]: Done  45 out of  45 | elapsed: 56.1min finished\n",
      "C:\\ProgramData\\Anaconda3\\lib\\site-packages\\sklearn\\pipeline.py:315: UserWarning: Persisting input arguments took 28.11s to run.\n",
      "If this happens often in your code, it can cause performance problems \n",
      "(results will be correct in all cases). \n",
      "The reason for this is probably some large input arguments for a wrapped\n",
      " function (e.g. large strings).\n",
      "THIS IS A JOBLIB ISSUE. If you can, kindly provide the joblib's team with an\n",
      " example so that they can fix the problem.\n",
      "  **fit_params_steps[name])\n"
     ]
    },
    {
     "name": "stdout",
     "output_type": "stream",
     "text": [
      "Done at 16:17:27\n"
     ]
    }
   ],
   "source": [
    "with TemporaryDirectory(prefix=\"sklearn_graph_cache_\") as tmpdir:\n",
    "    global pipeline, grid_param, grid_search\n",
    "    \n",
    "    pipeline =Pipeline([\n",
    "        ('tfidf' , TfidfVectorizer()),\n",
    "        ('clf' , LogisticRegressionCV(max_iter = 1000, tol=1e-3))\n",
    "    ], memory=tmpdir, verbose=True)\n",
    "\n",
    "    grid_param ={\n",
    "        'tfidf__strip_accents' :[None, 'unicode'],\n",
    "        #'tfidf__stop_words' : [None, 'english'],\n",
    "        'tfidf__token_pattern' : [r'\\b\\w{3,}\\b', r'\\b[a-zA-Z]{3,}\\b'], #\n",
    "        'tfidf__min_df' : np.arange(3, 6, 1), #\n",
    "        'tfidf__max_df' : [0.25, 0.5, 0.75], \n",
    "        #'tfidf__min_df' : [3,4,5],\n",
    "        #'tfidf__min_df' : [3],\n",
    "        #'tfidf__ngram_range' : [(i,j) for i in range(1,5) for j in range(1,5)],\n",
    "        'tfidf__ngram_range' : [(1,1), (1,2), (1,3) , (2,2)] , # BBBBB\n",
    "        'tfidf__norm' : ['l1', 'l2'],\n",
    "        'tfidf__max_features' : [None, 15000,20000,25000,30000],\n",
    "\n",
    "        #'clf__C' : np.linspace(0.1,10,100),\n",
    "        'clf__Cs' : [1,3,10,30,100], \n",
    "        #'clf__C' : [3.3],\n",
    "        'clf__solver' : ['sag', 'saga'],\n",
    "        #'clf__tol' : (1e-3, 1e-4, 1e-5)\n",
    "    }\n",
    "    t0 =time.localtime()\n",
    "    print('Started at'  , time.strftime(\"%H:%M:%S\", t0))\n",
    "    ## Se tiveres mais memoria que eu(8Gb), aumenta o pre_dispatch para um valor maior\n",
    "    grid_search = RandomizedSearchCV(pipeline, grid_param, cv = 5, n_jobs=-1, verbose=3,\\\n",
    "                                     pre_dispatch=8,n_iter = 30).fit(X, y_boolean)\n",
    "\n",
    "    t1 = time.localtime()\n",
    "    print('Done at' , time.strftime(\"%H:%M:%S\", t1))\n",
    "    \n",
    "with open('dump.p', 'wb') as f:\n",
    "    pickle.dump({'in' : grid_param ,\n",
    "                 'out': grid_search}, f)"
   ]
  },
  {
   "cell_type": "code",
   "execution_count": 7,
   "id": "toxic-merchandise",
   "metadata": {
    "collapsed": true
   },
   "outputs": [
    {
     "name": "stdout",
     "output_type": "stream",
     "text": [
      "mean_fit_time\n",
      "\t[690.02867977  37.32141058 369.89045056 137.35754371 456.18932152\n",
      " 184.8494792  236.27336701 402.69934948 289.6661249  756.45097788\n",
      " 268.18874661 187.31101513  66.68613791 175.29305712  90.3015159 ]\n",
      "std_fit_time\n",
      "\t[ 5.4261045   4.62307497 50.23601666  1.57604928  8.96949775  3.51713334\n",
      "  4.20336944  3.99793306 11.44582785 18.09002713  7.72037476  1.22601322\n",
      "  0.6180658   4.00822898 15.02676939]\n",
      "mean_score_time\n",
      "\t[7.50773851 5.12932785 6.34752345 4.35355218 5.90589515 6.3094004\n",
      " 4.53880405 6.44200897 3.91615399 5.21079381 9.53086813 6.47203175\n",
      " 6.27580039 4.19172374 2.21245686]\n",
      "std_score_time\n",
      "\t[0.21851615 0.71846843 0.46596361 0.10303288 0.20755637 0.20009386\n",
      " 0.14472093 0.11510817 0.48230765 0.36749729 0.60210629 0.21899587\n",
      " 0.3289914  0.46973708 0.67657892]\n",
      "param_tfidf__token_pattern\n",
      "\t['\\\\b[a-zA-Z]{3,}\\\\b' '\\\\b[a-zA-Z]{3,}\\\\b' '\\\\b[a-zA-Z]{3,}\\\\b'\n",
      " '\\\\b[a-zA-Z]{3,}\\\\b' '\\\\b[a-zA-Z]{3,}\\\\b' '\\\\b[a-zA-Z]{3,}\\\\b'\n",
      " '\\\\b[a-zA-Z]{3,}\\\\b' '\\\\b[a-zA-Z]{3,}\\\\b' '\\\\b\\\\w{3,}\\\\b' '\\\\b\\\\w{3,}\\\\b'\n",
      " '\\\\b\\\\w{3,}\\\\b' '\\\\b\\\\w{3,}\\\\b' '\\\\b\\\\w{3,}\\\\b' '\\\\b\\\\w{3,}\\\\b'\n",
      " '\\\\b[a-zA-Z]{3,}\\\\b']\n",
      "param_tfidf__strip_accents\n",
      "\t[None None 'unicode' 'unicode' 'unicode' 'unicode' 'unicode' None\n",
      " 'unicode' None None 'unicode' None None None]\n",
      "param_tfidf__norm\n",
      "\t['l2' 'l2' 'l2' 'l1' 'l2' 'l1' 'l1' 'l1' 'l1' 'l1' 'l1' 'l1' 'l2' 'l2'\n",
      " 'l2']\n",
      "param_tfidf__ngram_range\n",
      "\t[(1, 2) (1, 1) (1, 2) (2, 2) (1, 2) (1, 2) (2, 2) (1, 2) (1, 1) (2, 2)\n",
      " (1, 3) (1, 2) (1, 2) (2, 2) (1, 1)]\n",
      "param_tfidf__min_df\n",
      "\t[4 3 3 4 4 4 3 3 4 4 3 4 4 3 4]\n",
      "param_tfidf__max_features\n",
      "\t[None 15000 20000 30000 15000 15000 20000 25000 None None 20000 15000\n",
      " 20000 15000 20000]\n",
      "param_tfidf__max_df\n",
      "\t[0.75 0.25 0.25 0.25 0.25 0.5 0.75 0.75 0.5 0.75 0.25 0.5 0.25 0.25 0.5]\n",
      "param_norm__norm\n",
      "\t['l1' 'l2' 'l1' 'l2' 'l2' 'max' 'max' 'l1' 'l1' 'l2' 'l1' 'max' 'l2' 'l2'\n",
      " 'max']\n",
      "param_clf__solver\n",
      "\t['saga' 'sag' 'saga' 'saga' 'saga' 'saga' 'sag' 'saga' 'sag' 'sag' 'sag'\n",
      " 'saga' 'sag' 'saga' 'saga']\n",
      "param_clf__Cs\n",
      "\t[3 1 30 10 100 3 100 30 100 100 3 3 1 30 3]\n",
      "params\n",
      "\t[{'tfidf__token_pattern': '\\\\b[a-zA-Z]{3,}\\\\b', 'tfidf__strip_accents': None, 'tfidf__norm': 'l2', 'tfidf__ngram_range': (1, 2), 'tfidf__min_df': 4, 'tfidf__max_features': None, 'tfidf__max_df': 0.75, 'norm__norm': 'l1', 'clf__solver': 'saga', 'clf__Cs': 3}, {'tfidf__token_pattern': '\\\\b[a-zA-Z]{3,}\\\\b', 'tfidf__strip_accents': None, 'tfidf__norm': 'l2', 'tfidf__ngram_range': (1, 1), 'tfidf__min_df': 3, 'tfidf__max_features': 15000, 'tfidf__max_df': 0.25, 'norm__norm': 'l2', 'clf__solver': 'sag', 'clf__Cs': 1}, {'tfidf__token_pattern': '\\\\b[a-zA-Z]{3,}\\\\b', 'tfidf__strip_accents': 'unicode', 'tfidf__norm': 'l2', 'tfidf__ngram_range': (1, 2), 'tfidf__min_df': 3, 'tfidf__max_features': 20000, 'tfidf__max_df': 0.25, 'norm__norm': 'l1', 'clf__solver': 'saga', 'clf__Cs': 30}, {'tfidf__token_pattern': '\\\\b[a-zA-Z]{3,}\\\\b', 'tfidf__strip_accents': 'unicode', 'tfidf__norm': 'l1', 'tfidf__ngram_range': (2, 2), 'tfidf__min_df': 4, 'tfidf__max_features': 30000, 'tfidf__max_df': 0.25, 'norm__norm': 'l2', 'clf__solver': 'saga', 'clf__Cs': 10}, {'tfidf__token_pattern': '\\\\b[a-zA-Z]{3,}\\\\b', 'tfidf__strip_accents': 'unicode', 'tfidf__norm': 'l2', 'tfidf__ngram_range': (1, 2), 'tfidf__min_df': 4, 'tfidf__max_features': 15000, 'tfidf__max_df': 0.25, 'norm__norm': 'l2', 'clf__solver': 'saga', 'clf__Cs': 100}, {'tfidf__token_pattern': '\\\\b[a-zA-Z]{3,}\\\\b', 'tfidf__strip_accents': 'unicode', 'tfidf__norm': 'l1', 'tfidf__ngram_range': (1, 2), 'tfidf__min_df': 4, 'tfidf__max_features': 15000, 'tfidf__max_df': 0.5, 'norm__norm': 'max', 'clf__solver': 'saga', 'clf__Cs': 3}, {'tfidf__token_pattern': '\\\\b[a-zA-Z]{3,}\\\\b', 'tfidf__strip_accents': 'unicode', 'tfidf__norm': 'l1', 'tfidf__ngram_range': (2, 2), 'tfidf__min_df': 3, 'tfidf__max_features': 20000, 'tfidf__max_df': 0.75, 'norm__norm': 'max', 'clf__solver': 'sag', 'clf__Cs': 100}, {'tfidf__token_pattern': '\\\\b[a-zA-Z]{3,}\\\\b', 'tfidf__strip_accents': None, 'tfidf__norm': 'l1', 'tfidf__ngram_range': (1, 2), 'tfidf__min_df': 3, 'tfidf__max_features': 25000, 'tfidf__max_df': 0.75, 'norm__norm': 'l1', 'clf__solver': 'saga', 'clf__Cs': 30}, {'tfidf__token_pattern': '\\\\b\\\\w{3,}\\\\b', 'tfidf__strip_accents': 'unicode', 'tfidf__norm': 'l1', 'tfidf__ngram_range': (1, 1), 'tfidf__min_df': 4, 'tfidf__max_features': None, 'tfidf__max_df': 0.5, 'norm__norm': 'l1', 'clf__solver': 'sag', 'clf__Cs': 100}, {'tfidf__token_pattern': '\\\\b\\\\w{3,}\\\\b', 'tfidf__strip_accents': None, 'tfidf__norm': 'l1', 'tfidf__ngram_range': (2, 2), 'tfidf__min_df': 4, 'tfidf__max_features': None, 'tfidf__max_df': 0.75, 'norm__norm': 'l2', 'clf__solver': 'sag', 'clf__Cs': 100}, {'tfidf__token_pattern': '\\\\b\\\\w{3,}\\\\b', 'tfidf__strip_accents': None, 'tfidf__norm': 'l1', 'tfidf__ngram_range': (1, 3), 'tfidf__min_df': 3, 'tfidf__max_features': 20000, 'tfidf__max_df': 0.25, 'norm__norm': 'l1', 'clf__solver': 'sag', 'clf__Cs': 3}, {'tfidf__token_pattern': '\\\\b\\\\w{3,}\\\\b', 'tfidf__strip_accents': 'unicode', 'tfidf__norm': 'l1', 'tfidf__ngram_range': (1, 2), 'tfidf__min_df': 4, 'tfidf__max_features': 15000, 'tfidf__max_df': 0.5, 'norm__norm': 'max', 'clf__solver': 'saga', 'clf__Cs': 3}, {'tfidf__token_pattern': '\\\\b\\\\w{3,}\\\\b', 'tfidf__strip_accents': None, 'tfidf__norm': 'l2', 'tfidf__ngram_range': (1, 2), 'tfidf__min_df': 4, 'tfidf__max_features': 20000, 'tfidf__max_df': 0.25, 'norm__norm': 'l2', 'clf__solver': 'sag', 'clf__Cs': 1}, {'tfidf__token_pattern': '\\\\b\\\\w{3,}\\\\b', 'tfidf__strip_accents': None, 'tfidf__norm': 'l2', 'tfidf__ngram_range': (2, 2), 'tfidf__min_df': 3, 'tfidf__max_features': 15000, 'tfidf__max_df': 0.25, 'norm__norm': 'l2', 'clf__solver': 'saga', 'clf__Cs': 30}, {'tfidf__token_pattern': '\\\\b[a-zA-Z]{3,}\\\\b', 'tfidf__strip_accents': None, 'tfidf__norm': 'l2', 'tfidf__ngram_range': (1, 1), 'tfidf__min_df': 4, 'tfidf__max_features': 20000, 'tfidf__max_df': 0.5, 'norm__norm': 'max', 'clf__solver': 'saga', 'clf__Cs': 3}]\n",
      "split0_test_score\n",
      "\t[0.89485526 0.50524974 0.88870556 0.87288136 0.88615569 0.88255587\n",
      " 0.86703165 0.89223039 0.87490625 0.88233088 0.88750562 0.88225589\n",
      " 0.50524974 0.86440678 0.8720564 ]\n",
      "split1_test_score\n",
      "\t[0.9038476  0.50521263 0.90152254 0.87489687 0.89739743 0.89289732\n",
      " 0.8679967  0.90197255 0.88779719 0.8841221  0.89859746 0.89274732\n",
      " 0.50521263 0.86462162 0.88712218]\n",
      "split2_test_score\n",
      "\t[0.89949749 0.50528763 0.8961974  0.87924698 0.89552239 0.88839721\n",
      " 0.87114678 0.89724743 0.879997   0.88824721 0.89522238 0.88824721\n",
      " 0.50528763 0.8680717  0.880147  ]\n",
      "mean_test_score\n",
      "\t[0.89940011 0.50525    0.89547517 0.87567507 0.89302517 0.88795013\n",
      " 0.86872504 0.89715012 0.88090015 0.88490006 0.89377516 0.88775014\n",
      " 0.50525    0.86570003 0.87977519]\n",
      "std_test_score\n",
      "\t[3.67175264e-03 3.06199498e-05 5.25737068e-03 2.65637467e-03\n",
      " 4.91740188e-03 4.23369856e-03 1.75716367e-03 3.97781566e-03\n",
      " 5.30131084e-03 2.47718070e-03 4.64241837e-03 4.29750638e-03\n",
      " 3.06199498e-05 1.67931546e-03 6.15619584e-03]\n",
      "rank_test_score\n",
      "\t[ 1 14  3 11  5  6 12  2  9  8  4  7 14 13 10]\n",
      "0\n",
      "Pipeline(memory='C:\\\\Users\\\\pedro\\\\AppData\\\\Local\\\\Temp\\\\sklearn_graph_cache_mwl12peq',\n",
      "         steps=[('tfidf',\n",
      "                 TfidfVectorizer(analyzer='word', binary=False,\n",
      "                                 decode_error='strict',\n",
      "                                 dtype=<class 'numpy.float64'>,\n",
      "                                 encoding='utf-8', input='content',\n",
      "                                 lowercase=True, max_df=0.75, max_features=None,\n",
      "                                 min_df=4, ngram_range=(1, 2), norm='l2',\n",
      "                                 preprocessor=None, smooth_idf=True,\n",
      "                                 st...\n",
      "                                 tokenizer=None, use_idf=True,\n",
      "                                 vocabulary=None)),\n",
      "                ('norm', Normalizer(copy=True, norm='l1')),\n",
      "                ('clf',\n",
      "                 LogisticRegressionCV(Cs=3, class_weight=None, cv=None,\n",
      "                                      dual=False, fit_intercept=True,\n",
      "                                      intercept_scaling=1.0, l1_ratios=None,\n",
      "                                      max_iter=1000, multi_class='auto',\n",
      "                                      n_jobs=None, penalty='l2',\n",
      "                                      random_state=None, refit=True,\n",
      "                                      scoring=None, solver='saga', tol=0.001,\n",
      "                                      verbose=0))],\n",
      "         verbose=False)\n"
     ]
    }
   ],
   "source": [
    "def pretty(d, indent=0):\n",
    "    for key, value in d.items():\n",
    "        print('\\t' * indent + str(key))\n",
    "        if isinstance(value, dict):\n",
    "            pretty(value, indent+1)\n",
    "        else:\n",
    "             print('\\t' * (indent+1) + str(value))\n",
    "\n",
    "pretty(grid_search.cv_results_, 0)"
   ]
  },
  {
   "cell_type": "code",
   "execution_count": 23,
   "id": "italic-period",
   "metadata": {},
   "outputs": [
    {
     "name": "stdout",
     "output_type": "stream",
     "text": [
      "0\n",
      "Pipeline(memory='C:\\\\Users\\\\pedro\\\\AppData\\\\Local\\\\Temp\\\\sklearn_graph_cache_mwl12peq',\n",
      "         steps=[('tfidf',\n",
      "                 TfidfVectorizer(max_df=0.75, min_df=4, ngram_range=(1, 2),\n",
      "                                 token_pattern='\\\\b[a-zA-Z]{3,}\\\\b')),\n",
      "                ('norm', Normalizer(norm='l1')),\n",
      "                ('clf',\n",
      "                 LogisticRegressionCV(Cs=3, max_iter=1000, solver='saga',\n",
      "                                      tol=0.001))])\n"
     ]
    }
   ],
   "source": [
    "print(grid_search.best_index_)\n",
    "print(grid_search.best_estimator_)"
   ]
  },
  {
   "cell_type": "markdown",
   "id": "arctic-sixth",
   "metadata": {},
   "source": [
    "## Em vez de correr o codigo em cima, podemos fazer import do ficheiro dump"
   ]
  },
  {
   "cell_type": "code",
   "execution_count": 8,
   "id": "united-premises",
   "metadata": {
    "collapsed": true
   },
   "outputs": [
    {
     "name": "stderr",
     "output_type": "stream",
     "text": [
      "C:\\ProgramData\\Anaconda3\\lib\\site-packages\\sklearn\\base.py:329: UserWarning: Trying to unpickle estimator TfidfTransformer from version 0.22.1 when using version 0.23.2. This might lead to breaking code or invalid results. Use at your own risk.\n",
      "  warnings.warn(\n",
      "C:\\ProgramData\\Anaconda3\\lib\\site-packages\\sklearn\\base.py:329: UserWarning: Trying to unpickle estimator TfidfVectorizer from version 0.22.1 when using version 0.23.2. This might lead to breaking code or invalid results. Use at your own risk.\n",
      "  warnings.warn(\n",
      "C:\\ProgramData\\Anaconda3\\lib\\site-packages\\sklearn\\base.py:329: UserWarning: Trying to unpickle estimator Normalizer from version 0.22.1 when using version 0.23.2. This might lead to breaking code or invalid results. Use at your own risk.\n",
      "  warnings.warn(\n",
      "C:\\ProgramData\\Anaconda3\\lib\\site-packages\\sklearn\\base.py:329: UserWarning: Trying to unpickle estimator LogisticRegressionCV from version 0.22.1 when using version 0.23.2. This might lead to breaking code or invalid results. Use at your own risk.\n",
      "  warnings.warn(\n",
      "C:\\ProgramData\\Anaconda3\\lib\\site-packages\\sklearn\\base.py:329: UserWarning: Trying to unpickle estimator Pipeline from version 0.22.1 when using version 0.23.2. This might lead to breaking code or invalid results. Use at your own risk.\n",
      "  warnings.warn(\n"
     ]
    },
    {
     "name": "stdout",
     "output_type": "stream",
     "text": [
      "Pipeline(memory='C:\\\\Users\\\\pedro\\\\AppData\\\\Local\\\\Temp\\\\sklearn_graph_cache_mwl12peq',\n",
      "         steps=[('tfidf',\n",
      "                 TfidfVectorizer(max_df=0.75, min_df=4, ngram_range=(1, 2),\n",
      "                                 token_pattern='\\\\b[a-zA-Z]{3,}\\\\b')),\n",
      "                ('norm', Normalizer(norm='l1')),\n",
      "                ('clf',\n",
      "                 LogisticRegressionCV(Cs=3, max_iter=1000, solver='saga',\n",
      "                                      tol=0.001))])\n"
     ]
    },
    {
     "name": "stderr",
     "output_type": "stream",
     "text": [
      "C:\\ProgramData\\Anaconda3\\lib\\site-packages\\sklearn\\base.py:329: UserWarning: Trying to unpickle estimator RandomizedSearchCV from version 0.22.1 when using version 0.23.2. This might lead to breaking code or invalid results. Use at your own risk.\n",
      "  warnings.warn(\n"
     ]
    }
   ],
   "source": [
    "with open('dump.p' ,'rb') as f:\n",
    "    global grid_param, grid_search\n",
    "    temp = pickle.load(f)\n",
    "    grid_param = temp['in']\n",
    "    grid_search = temp['out']\n",
    "print(grid_search.best_estimator_)"
   ]
  },
  {
   "cell_type": "code",
   "execution_count": 22,
   "id": "younger-shell",
   "metadata": {
    "collapsed": true
   },
   "outputs": [
    {
     "name": "stdout",
     "output_type": "stream",
     "text": [
      "TOKEN PATTERN : \\b[a-zA-Z]{3,}\\b , \n",
      "MinDF 4\n",
      "Result 0.8994001136214096 \n",
      "\n",
      "\n",
      "TOKEN PATTERN : \\b[a-zA-Z]{3,}\\b , \n",
      "MinDF 3\n",
      "Result 0.5052500000065624 \n",
      "\n",
      "\n",
      "TOKEN PATTERN : \\b[a-zA-Z]{3,}\\b , \n",
      "MinDF 3\n",
      "Result 0.8954751692401128 \n",
      "\n",
      "\n",
      "TOKEN PATTERN : \\b[a-zA-Z]{3,}\\b , \n",
      "MinDF 4\n",
      "Result 0.8756750698428478 \n",
      "\n",
      "\n",
      "TOKEN PATTERN : \\b[a-zA-Z]{3,}\\b , \n",
      "MinDF 4\n",
      "Result 0.893025171736988 \n",
      "\n",
      "\n",
      "TOKEN PATTERN : \\b[a-zA-Z]{3,}\\b , \n",
      "MinDF 4\n",
      "Result 0.8879501348565663 \n",
      "\n",
      "\n",
      "TOKEN PATTERN : \\b[a-zA-Z]{3,}\\b , \n",
      "MinDF 3\n",
      "Result 0.8687250423348479 \n",
      "\n",
      "\n",
      "TOKEN PATTERN : \\b[a-zA-Z]{3,}\\b , \n",
      "MinDF 3\n",
      "Result 0.8971501229933628 \n",
      "\n",
      "\n",
      "TOKEN PATTERN : \\b\\w{3,}\\b , \n",
      "MinDF 4\n",
      "Result 0.8809001498473791 \n",
      "\n",
      "\n",
      "TOKEN PATTERN : \\b\\w{3,}\\b , \n",
      "MinDF 4\n",
      "Result 0.8849000642295194 \n",
      "\n",
      "\n",
      "TOKEN PATTERN : \\b\\w{3,}\\b , \n",
      "MinDF 3\n",
      "Result 0.8937751567383004 \n",
      "\n",
      "\n",
      "TOKEN PATTERN : \\b\\w{3,}\\b , \n",
      "MinDF 4\n",
      "Result 0.8877501373562539 \n",
      "\n",
      "\n",
      "TOKEN PATTERN : \\b\\w{3,}\\b , \n",
      "MinDF 4\n",
      "Result 0.5052500000065624 \n",
      "\n",
      "\n",
      "TOKEN PATTERN : \\b\\w{3,}\\b , \n",
      "MinDF 3\n",
      "Result 0.8657000323313166 \n",
      "\n",
      "\n",
      "TOKEN PATTERN : \\b[a-zA-Z]{3,}\\b , \n",
      "MinDF 4\n",
      "Result 0.8797751929698947 \n",
      "\n",
      "\n"
     ]
    }
   ],
   "source": [
    "#print(grid_search.cv_results_.keys())\n",
    "\n",
    "for i in range(len(grid_search.cv_results_['std_test_score'])):\n",
    "    print(f'TOKEN PATTERN : {grid_search.cv_results_[\"param_tfidf__token_pattern\"][i]} , '+\n",
    "          f'\\nMinDF {grid_search.cv_results_[\"param_tfidf__min_df\"][i]}' +\n",
    "          f'\\nResult {grid_search.cv_results_[\"mean_test_score\"][i]} \\n\\n')"
   ]
  },
  {
   "cell_type": "markdown",
   "id": "consistent-victorian",
   "metadata": {},
   "source": [
    "###  TFIDF optimizado\n",
    "\n",
    "Não é exatamente o mesmo que foi eleito pelo pipeline, mas este remove stop words e palavras redundantes porque ajuda a reduzir o ruido"
   ]
  },
  {
   "cell_type": "code",
   "execution_count": 99,
   "id": "exempt-settlement",
   "metadata": {
    "scrolled": true
   },
   "outputs": [],
   "source": [
    "with open('tfidf_dump.p', 'wb') as f:\n",
    "    tfidf = TfidfVectorizer(max_df=0.5 , min_df=4,ngram_range=(1, 2), norm='l2', token_pattern=r'\\b\\w{3,}\\b'\\\n",
    "                            ,stop_words='english').fit(X)\n",
    "    pickle.dump(tfidf, f)"
   ]
  },
  {
   "cell_type": "code",
   "execution_count": 100,
   "id": "seventh-purpose",
   "metadata": {
    "scrolled": true
   },
   "outputs": [
    {
     "data": {
      "text/plain": [
       "174366"
      ]
     },
     "execution_count": 100,
     "metadata": {},
     "output_type": "execute_result"
    }
   ],
   "source": [
    "len(tfidf.get_feature_names())"
   ]
  },
  {
   "cell_type": "markdown",
   "id": "excellent-memphis",
   "metadata": {},
   "source": [
    "### Classificacao booleana"
   ]
  },
  {
   "cell_type": "code",
   "execution_count": 166,
   "id": "familiar-least",
   "metadata": {},
   "outputs": [
    {
     "data": {
      "text/plain": [
       "(40000, 174366)"
      ]
     },
     "execution_count": 166,
     "metadata": {},
     "output_type": "execute_result"
    }
   ],
   "source": [
    "vector = text2vector(X)\n",
    "vector.shape"
   ]
  },
  {
   "cell_type": "code",
   "execution_count": 17,
   "id": "recreational-haven",
   "metadata": {},
   "outputs": [],
   "source": [
    "with open('vector_dump.p', 'wb') as f:\n",
    "    pickle.dump(vector, f)"
   ]
  },
  {
   "cell_type": "code",
   "execution_count": 25,
   "id": "comic-access",
   "metadata": {},
   "outputs": [],
   "source": [
    "with open('vector_dump.p', 'rb') as f:\n",
    "    vector = pickle.load(f)"
   ]
  },
  {
   "cell_type": "code",
   "execution_count": 28,
   "id": "ultimate-organ",
   "metadata": {},
   "outputs": [
    {
     "name": "stdout",
     "output_type": "stream",
     "text": [
      "1.0\n",
      "{1: array([[0.50525 , 0.888   , 0.896375],\n",
      "       [0.50525 , 0.89375 , 0.90275 ],\n",
      "       [0.50525 , 0.89875 , 0.90475 ],\n",
      "       [0.50525 , 0.90375 , 0.913625],\n",
      "       [0.50525 , 0.89575 , 0.909375]])}\n"
     ]
    }
   ],
   "source": [
    "##tfidf = TfidfVectorizer(min_df = 3, token_pattern=r'\\b\\w{3,}\\b', norm = 'l2' , ngram_range=(1,2)).fit(Docs)\n",
    "dl = LogisticRegressionCV(max_iter = 1000, Cs=3, tol = 1e-3, cv=5, penalty='l2', solver='saga', n_jobs=-1).fit(vector,y_boolean)\n",
    "print(dl.score(vector, y_boolean))\n",
    "print(dl.scores_)"
   ]
  },
  {
   "cell_type": "code",
   "execution_count": 29,
   "id": "emotional-mercury",
   "metadata": {},
   "outputs": [
    {
     "name": "stdout",
     "output_type": "stream",
     "text": [
      "1.0\n",
      "0.9069\n"
     ]
    }
   ],
   "source": [
    "x_train, x_test, y_train, y_test = train_test_split(vector, y_boolean, test_size=1/4)\n",
    "\n",
    "dl = LogisticRegressionCV(max_iter = 1000, Cs=3, tol = 1e-3, cv=5, penalty='l2', solver='saga', n_jobs=-1).fit(x_train, y_train)\n",
    "print(dl.score(x_train, y_train))\n",
    "print(dl.score(x_test, y_test))"
   ]
  },
  {
   "cell_type": "markdown",
   "id": "sharp-permit",
   "metadata": {},
   "source": [
    "### Classificacao multi-classe"
   ]
  },
  {
   "cell_type": "code",
   "execution_count": 23,
   "id": "available-sample",
   "metadata": {},
   "outputs": [
    {
     "name": "stdout",
     "output_type": "stream",
     "text": [
      "0.8051\n",
      "0.4466\n"
     ]
    }
   ],
   "source": [
    "x_train, x_test, y_train, y_test = train_test_split(vector, y, test_size=1/4)\n",
    "\n",
    "dl = LogisticRegressionCV(max_iter = 1000, Cs=3, tol = 1e-3, cv=5, penalty='l2', solver='saga').fit(x_train, y_train)\n",
    "print(dl.score(x_train, y_train))\n",
    "print(dl.score(x_test, y_test))"
   ]
  },
  {
   "cell_type": "code",
   "execution_count": null,
   "id": "wrong-patient",
   "metadata": {},
   "outputs": [],
   "source": []
  },
  {
   "cell_type": "code",
   "execution_count": null,
   "id": "judicial-visitor",
   "metadata": {},
   "outputs": [],
   "source": []
  },
  {
   "cell_type": "markdown",
   "id": "southwest-appendix",
   "metadata": {},
   "source": [
    "# Linear SVC (multiclasse)"
   ]
  },
  {
   "cell_type": "code",
   "execution_count": 22,
   "id": "employed-actor",
   "metadata": {},
   "outputs": [],
   "source": [
    "X1,X2,y1,y2=train_test_split(vector,y,test_size=1/4)"
   ]
  },
  {
   "cell_type": "code",
   "execution_count": 23,
   "id": "dying-encoding",
   "metadata": {},
   "outputs": [],
   "source": [
    "svm=LinearSVC(dual=False,C=1).fit(X1,y1)"
   ]
  },
  {
   "cell_type": "code",
   "execution_count": 24,
   "id": "acting-flavor",
   "metadata": {},
   "outputs": [],
   "source": [
    "ye=svm.predict(X2)"
   ]
  },
  {
   "cell_type": "code",
   "execution_count": 25,
   "id": "complimentary-typing",
   "metadata": {
    "scrolled": true
   },
   "outputs": [
    {
     "name": "stdout",
     "output_type": "stream",
     "text": [
      "tamanho y:  (40000,)\n",
      "tamanho ye:  (8000,)\n",
      "N erros(teste): 4813\n"
     ]
    }
   ],
   "source": [
    "print(\"tamanho y: \",y.shape)\n",
    "print(\"tamanho ye: \",ye.shape)\n",
    "print('N erros(teste):',np.sum(y2!=ye))"
   ]
  },
  {
   "cell_type": "code",
   "execution_count": 26,
   "id": "arbitrary-russia",
   "metadata": {},
   "outputs": [
    {
     "name": "stdout",
     "output_type": "stream",
     "text": [
      "Linear SVC Score train:  0.85334375\n"
     ]
    }
   ],
   "source": [
    "print(\"Linear SVC Score train: \", svm.score(X1,y1))"
   ]
  },
  {
   "cell_type": "code",
   "execution_count": 27,
   "id": "attended-africa",
   "metadata": {},
   "outputs": [
    {
     "name": "stdout",
     "output_type": "stream",
     "text": [
      "Linear SVC Score test:  0.398375\n"
     ]
    }
   ],
   "source": [
    "print(\"Linear SVC Score test: \", svm.score(X2,y2))"
   ]
  },
  {
   "cell_type": "markdown",
   "id": "objective-shopper",
   "metadata": {},
   "source": [
    "Estas condições de teste não são as mais adequadas para o conjunto de dados pois como podemos visualizar no teste acima, os valores de score para o conjunto de train e teste são bastante díspares,sendo o de train bastante bom ao contrário do de test que não é muito bom."
   ]
  },
  {
   "cell_type": "markdown",
   "id": "gothic-conducting",
   "metadata": {},
   "source": [
    "# Linear SVC (booleana)"
   ]
  },
  {
   "cell_type": "code",
   "execution_count": 57,
   "id": "interesting-young",
   "metadata": {},
   "outputs": [],
   "source": [
    "X1,X2,y1,y2=train_test_split(vector,y_boolean,test_size=1/4)"
   ]
  },
  {
   "cell_type": "code",
   "execution_count": 58,
   "id": "renewable-current",
   "metadata": {},
   "outputs": [],
   "source": [
    "svm=LinearSVC(dual=False,C=1).fit(X1,y1)"
   ]
  },
  {
   "cell_type": "code",
   "execution_count": 59,
   "id": "forbidden-middle",
   "metadata": {},
   "outputs": [],
   "source": [
    "ye=svm.predict(X2)"
   ]
  },
  {
   "cell_type": "code",
   "execution_count": 44,
   "id": "bizarre-productivity",
   "metadata": {},
   "outputs": [
    {
     "name": "stdout",
     "output_type": "stream",
     "text": [
      "tamanho ye:  (10000,)\n",
      "N erros(teste): 952\n"
     ]
    }
   ],
   "source": [
    "print(\"tamanho ye: \",ye.shape)\n",
    "print('N erros(teste):',np.sum(y2!=ye))"
   ]
  },
  {
   "cell_type": "code",
   "execution_count": 45,
   "id": "champion-cedar",
   "metadata": {},
   "outputs": [
    {
     "name": "stdout",
     "output_type": "stream",
     "text": [
      "Linear SVC Score test:  0.9993\n"
     ]
    }
   ],
   "source": [
    "print(\"Linear SVC Score test: \", svm.score(X1,y1))"
   ]
  },
  {
   "cell_type": "code",
   "execution_count": 46,
   "id": "phantom-energy",
   "metadata": {},
   "outputs": [
    {
     "name": "stdout",
     "output_type": "stream",
     "text": [
      "Linear SVC Score test:  0.9048\n"
     ]
    }
   ],
   "source": [
    "print(\"Linear SVC Score test: \", svm.score(X2,y2))"
   ]
  },
  {
   "cell_type": "code",
   "execution_count": 60,
   "id": "developmental-mistake",
   "metadata": {},
   "outputs": [],
   "source": [
    "with open('svc_bool_dump.p', 'wb') as f:\n",
    "    pickle.dump(svm, f)"
   ]
  },
  {
   "cell_type": "code",
   "execution_count": null,
   "id": "functional-fundamental",
   "metadata": {},
   "outputs": [],
   "source": []
  },
  {
   "cell_type": "markdown",
   "id": "indie-atmosphere",
   "metadata": {},
   "source": [
    "### MultinomialNB ( ‘Naive Bayes' ) (Multiclasse)"
   ]
  },
  {
   "cell_type": "code",
   "execution_count": 32,
   "id": "dependent-native",
   "metadata": {},
   "outputs": [],
   "source": [
    "X1,X2,y1,y2=train_test_split(vector,y,test_size=1/4)\n",
    "clf = MultinomialNB().fit(X1, y1)\n",
    "y2e = clf.predict(X2)\n"
   ]
  },
  {
   "cell_type": "code",
   "execution_count": 35,
   "id": "completed-heather",
   "metadata": {},
   "outputs": [
    {
     "name": "stdout",
     "output_type": "stream",
     "text": [
      "N erros(teste): 6318\n",
      "Score  0.3682\n"
     ]
    }
   ],
   "source": [
    "print('N erros(teste):',np.sum(y2!=y2e))\n",
    "print('Score ', clf.score(X2, y2))"
   ]
  },
  {
   "cell_type": "code",
   "execution_count": 36,
   "id": "permanent-madonna",
   "metadata": {},
   "outputs": [
    {
     "name": "stdout",
     "output_type": "stream",
     "text": [
      "N erros(teste): 1136\n",
      "Score  0.8864\n"
     ]
    }
   ],
   "source": [
    "X1,X2,y1,y2=train_test_split(vector,y_boolean,test_size=1/4)\n",
    "clf = MultinomialNB().fit(X1, y1)\n",
    "y2e = clf.predict(X2)\n",
    "\n",
    "print('N erros(teste):',np.sum(y2!=y2e))\n",
    "print('Score ', clf.score(X2, y2))"
   ]
  },
  {
   "cell_type": "code",
   "execution_count": null,
   "id": "pleased-jewel",
   "metadata": {},
   "outputs": [],
   "source": []
  },
  {
   "cell_type": "code",
   "execution_count": null,
   "id": "enhanced-passing",
   "metadata": {},
   "outputs": [],
   "source": []
  },
  {
   "cell_type": "code",
   "execution_count": null,
   "id": "proud-congo",
   "metadata": {},
   "outputs": [],
   "source": []
  },
  {
   "cell_type": "markdown",
   "id": "residential-emerald",
   "metadata": {},
   "source": [
    "## Decomposição em componentes principais\n",
    "\n",
    "Temos 40000 documentos, com 170000 tokens, logo para reduzir a complixidade usamos LDA. A LDA remove os componentes com pouco relevo."
   ]
  },
  {
   "cell_type": "code",
   "execution_count": null,
   "id": "respected-belize",
   "metadata": {
    "scrolled": true
   },
   "outputs": [],
   "source": [
    "vector.shape"
   ]
  },
  {
   "cell_type": "code",
   "execution_count": 167,
   "id": "powered-moscow",
   "metadata": {},
   "outputs": [],
   "source": [
    "pca = TruncatedSVD(n_components=100).fit(vector)"
   ]
  },
  {
   "cell_type": "code",
   "execution_count": 168,
   "id": "anticipated-olympus",
   "metadata": {},
   "outputs": [
    {
     "data": {
      "text/plain": [
       "0.0530847474352232"
      ]
     },
     "execution_count": 168,
     "metadata": {},
     "output_type": "execute_result"
    }
   ],
   "source": [
    "sum(pca.explained_variance_ratio_)"
   ]
  },
  {
   "cell_type": "code",
   "execution_count": 8,
   "id": "broken-footwear",
   "metadata": {},
   "outputs": [],
   "source": [
    "with open('pca_dump.p' ,'wb') as f:\n",
    "    pickle.dump(pca , f)"
   ]
  },
  {
   "cell_type": "code",
   "execution_count": 80,
   "id": "manual-angel",
   "metadata": {},
   "outputs": [
    {
     "name": "stdout",
     "output_type": "stream",
     "text": [
      "Num Componentes         10 ||  Variance  0.0145753481\n",
      "Num Componentes         20 ||  Variance  0.0210284684\n",
      "Num Componentes         30 ||  Variance  0.0261841245\n",
      "Num Componentes         50 ||  Variance  0.0347922198\n",
      "Num Componentes        100 ||  Variance  0.0521353079\n",
      "Num Componentes        200 ||  Variance  0.0791129334\n",
      "Num Componentes        300 ||  Variance  0.1008270827\n",
      "Num Componentes        500 ||  Variance  0.1364963751\n"
     ]
    }
   ],
   "source": [
    "list = [10,20,30,50,100,200,300,500]\n",
    "\n",
    "for n_comps in list:\n",
    "    pca = TruncatedSVD(n_components=n_comps, n_iter=2).fit(vector)\n",
    "    print(f'Num Componentes {n_comps : >10} ||  Variance {pca.explained_variance_ratio_.sum() : .10f}')"
   ]
  },
  {
   "cell_type": "code",
   "execution_count": 8,
   "id": "shaped-shareware",
   "metadata": {
    "scrolled": true
   },
   "outputs": [],
   "source": [
    "with open('pca_dump.p' , 'rb') as f:\n",
    "    global pca\n",
    "    pca = pickle.load(f)"
   ]
  },
  {
   "cell_type": "code",
   "execution_count": 157,
   "id": "beginning-administrator",
   "metadata": {
    "scrolled": true
   },
   "outputs": [
    {
     "data": {
      "text/plain": [
       "TruncatedSVD(algorithm='randomized', n_components=100, n_iter=5,\n",
       "             random_state=None, tol=0.0)"
      ]
     },
     "execution_count": 157,
     "metadata": {},
     "output_type": "execute_result"
    }
   ],
   "source": [
    "pca"
   ]
  },
  {
   "cell_type": "code",
   "execution_count": 158,
   "id": "antique-jordan",
   "metadata": {},
   "outputs": [
    {
     "data": {
      "text/plain": [
       "(40000, 100)"
      ]
     },
     "execution_count": 158,
     "metadata": {},
     "output_type": "execute_result"
    }
   ],
   "source": [
    "vec = pca.transform(vector)\n",
    "vec.shape"
   ]
  },
  {
   "cell_type": "code",
   "execution_count": 108,
   "id": "sublime-bouquet",
   "metadata": {
    "scrolled": false
   },
   "outputs": [
    {
     "name": "stdout",
     "output_type": "stream",
     "text": [
      "0.86865\n",
      "Class 1 \n",
      "Score [[0.50525  0.859125 0.864875]\n",
      " [0.50525  0.864625 0.864875]\n",
      " [0.50525  0.863375 0.86525 ]\n",
      " [0.50525  0.870375 0.871125]\n",
      " [0.50525  0.863    0.865125]]\n",
      "\n",
      "\n"
     ]
    }
   ],
   "source": [
    "dl = LogisticRegressionCV(Cs=3, max_iter=1000, multi_class='auto', n_jobs=-1, penalty='l2', solver='saga', \n",
    "                     tol=0.001).fit(vec, y_boolean)\n",
    "print(dl.score(vec, y_boolean))\n",
    "for target, score in dl.scores_.items():\n",
    "    print(f'Class {target} \\nScore {score}\\n\\n')"
   ]
  },
  {
   "cell_type": "code",
   "execution_count": 112,
   "id": "precious-alaska",
   "metadata": {
    "collapsed": true
   },
   "outputs": [
    {
     "name": "stdout",
     "output_type": "stream",
     "text": [
      "0.43515\n",
      "Class 1 \n",
      "Scores\n",
      "[[0.208875 0.417125 0.419875]\n",
      " [0.208875 0.4245   0.4295  ]\n",
      " [0.20875  0.42525  0.427125]\n",
      " [0.20875  0.421125 0.43175 ]\n",
      " [0.20875  0.422    0.42975 ]]\n",
      "\n",
      "\n",
      "Class 2 \n",
      "Scores\n",
      "[[0.208875 0.417125 0.419875]\n",
      " [0.208875 0.4245   0.4295  ]\n",
      " [0.20875  0.42525  0.427125]\n",
      " [0.20875  0.421125 0.43175 ]\n",
      " [0.20875  0.422    0.42975 ]]\n",
      "\n",
      "\n",
      "Class 3 \n",
      "Scores\n",
      "[[0.208875 0.417125 0.419875]\n",
      " [0.208875 0.4245   0.4295  ]\n",
      " [0.20875  0.42525  0.427125]\n",
      " [0.20875  0.421125 0.43175 ]\n",
      " [0.20875  0.422    0.42975 ]]\n",
      "\n",
      "\n",
      "Class 4 \n",
      "Scores\n",
      "[[0.208875 0.417125 0.419875]\n",
      " [0.208875 0.4245   0.4295  ]\n",
      " [0.20875  0.42525  0.427125]\n",
      " [0.20875  0.421125 0.43175 ]\n",
      " [0.20875  0.422    0.42975 ]]\n",
      "\n",
      "\n",
      "Class 7 \n",
      "Scores\n",
      "[[0.208875 0.417125 0.419875]\n",
      " [0.208875 0.4245   0.4295  ]\n",
      " [0.20875  0.42525  0.427125]\n",
      " [0.20875  0.421125 0.43175 ]\n",
      " [0.20875  0.422    0.42975 ]]\n",
      "\n",
      "\n",
      "Class 8 \n",
      "Scores\n",
      "[[0.208875 0.417125 0.419875]\n",
      " [0.208875 0.4245   0.4295  ]\n",
      " [0.20875  0.42525  0.427125]\n",
      " [0.20875  0.421125 0.43175 ]\n",
      " [0.20875  0.422    0.42975 ]]\n",
      "\n",
      "\n",
      "Class 9 \n",
      "Scores\n",
      "[[0.208875 0.417125 0.419875]\n",
      " [0.208875 0.4245   0.4295  ]\n",
      " [0.20875  0.42525  0.427125]\n",
      " [0.20875  0.421125 0.43175 ]\n",
      " [0.20875  0.422    0.42975 ]]\n",
      "\n",
      "\n",
      "Class 10 \n",
      "Scores\n",
      "[[0.208875 0.417125 0.419875]\n",
      " [0.208875 0.4245   0.4295  ]\n",
      " [0.20875  0.42525  0.427125]\n",
      " [0.20875  0.421125 0.43175 ]\n",
      " [0.20875  0.422    0.42975 ]]\n",
      "\n",
      "\n"
     ]
    }
   ],
   "source": [
    "dl = LogisticRegressionCV(Cs=3, max_iter=1000, multi_class='auto', n_jobs=-1, penalty='l2', solver='saga', \n",
    "                     tol=0.001).fit(vec, y)\n",
    "print(dl.score(vec, y))\n",
    "for target, score in dl.scores_.items():\n",
    "    print(f'Class {target} \\nScores\\n{score}\\n\\n')"
   ]
  },
  {
   "cell_type": "markdown",
   "id": "married-massage",
   "metadata": {},
   "source": [
    "### Clustering\n",
    "\n",
    "Depois de termos os componentes principais podemos partir para o clustering"
   ]
  },
  {
   "cell_type": "markdown",
   "id": "hollow-moore",
   "metadata": {},
   "source": [
    "## Clustering, demora um bocado. Tipo 20 minutos para 100 componentes\n",
    "Ajuda a calcular o numero de cluster otimo, entre 8 e max_k"
   ]
  },
  {
   "cell_type": "code",
   "execution_count": 169,
   "id": "constant-charleston",
   "metadata": {
    "scrolled": false
   },
   "outputs": [
    {
     "name": "stdout",
     "output_type": "stream",
     "text": [
      "8: 0.01727609164102796\n",
      "12: 0.014671603641129204\n",
      "17: 0.014547233811309844\n",
      "22: 0.01070997376350327\n",
      "27: 0.006392872912502531\n",
      "32: 0.00032030175785603763\n",
      "37: 0.0010240857668412985\n",
      "41: 0.0018852309922306925\n",
      "46: -0.002698102085462428\n",
      "51: -0.0028233905116202373\n",
      "56: -0.00427956890341355\n",
      "61: -0.0043870379380380855\n",
      "66: -0.006350922973037516\n",
      "70: -0.004228058886275824\n",
      "75: -0.007984401596689141\n",
      "80: -0.0063800567906028265\n",
      "85: -0.00808473661769697\n",
      "90: -0.00866850582134188\n",
      "95: -0.006716387106266033\n",
      "100: -0.009438970326674\n"
     ]
    }
   ],
   "source": [
    "min_k = len(np.unique(y))\n",
    "max_k = 100\n",
    "indx = np.linspace(min_k,max_k, num=20, dtype=np.uint8)\n",
    "sse = []\n",
    "\n",
    "for k in indx:\n",
    "    kmeans = KMeans(n_clusters = k)\n",
    "\n",
    "    sse.append(kmeans.fit(x_train).inertia_)\n",
    "    print (str(k) + \": \"+ str(silhouette_score(x_train, kmeans.labels_, metric='euclidean')))"
   ]
  },
  {
   "cell_type": "code",
   "execution_count": 170,
   "id": "digital-causing",
   "metadata": {},
   "outputs": [
    {
     "data": {
      "image/png": "[encoded data removed]",
      "text/plain": [
       "<Figure size 432x288 with 1 Axes>"
      ]
     },
     "metadata": {
      "needs_background": "light"
     },
     "output_type": "display_data"
    }
   ],
   "source": [
    "plt.plot(indx, sse, marker='o')\n",
    "plt.plot([min_k, max_k] , [sse[0], sse[len(sse)-1]])\n",
    "\n",
    "\n",
    "plt.xlabel('Clusters Centroides')\n",
    "plt.xticks(indx)\n",
    "plt.ylabel('SSE')\n",
    "plt.title('SSE por número de clusters')\n",
    "plt.grid(True)\n"
   ]
  },
  {
   "cell_type": "code",
   "execution_count": 171,
   "id": "secondary-architect",
   "metadata": {},
   "outputs": [
    {
     "name": "stdout",
     "output_type": "stream",
     "text": [
      "37\n"
     ]
    }
   ],
   "source": [
    "x1, y1 = min_k, sse[0]\n",
    "x2, y2 = max_k, sse[len(sse)-1]\n",
    "\n",
    "distances = []\n",
    "for i in range(len(wcss)):\n",
    "    x0 = indx[i]\n",
    "    y0 = wcss[i]\n",
    "    numerator = abs((y2-y1)*x0 - (x2-x1)*y0 + x2*y1 - y2*x1)\n",
    "    denominator = np.sqrt((y2 - y1)**2 + (x2 - x1)**2)\n",
    "    distances.append(np.round(numerator/denominator , 6))\n",
    "\n",
    "best_n = indx[distances.index(max(distances))]\n",
    "print(best_n)"
   ]
  },
  {
   "cell_type": "code",
   "execution_count": 176,
   "id": "educated-alpha",
   "metadata": {},
   "outputs": [],
   "source": [
    "with open('dump_cluster.p ', 'wb') as f:\n",
    "    pickle.dump({\n",
    "        'indx' : indx,\n",
    "        'sse' : sse,\n",
    "        'distances' : distances,\n",
    "        'best_n' : best_n\n",
    "    }, f)"
   ]
  },
  {
   "cell_type": "code",
   "execution_count": 172,
   "id": "significant-engineer",
   "metadata": {},
   "outputs": [],
   "source": [
    "km = KMeans(n_clusters=best_n).fit(x_train)"
   ]
  },
  {
   "cell_type": "code",
   "execution_count": 173,
   "id": "quarterly-appliance",
   "metadata": {},
   "outputs": [
    {
     "name": "stdout",
     "output_type": "stream",
     "text": [
      "Top terms per cluster:\n",
      "Cluster 0: thi movy, tim, watch, just, hor, mor, lik, gre, som, saw,\n",
      "Cluster 1: lov, ther, story, gre, watch, charact, good, som, just, scen,\n",
      "Cluster 2: good, wil, wer, ther, mus, plot, thi film, gre, charact, dant,\n",
      "Cluster 3: watch, bad, just, don, end, gre, tim, watch thi, thi movy, anim,\n",
      "Cluster 4: funny, good, comedy, just, gre, scen, best, mus, gam, wil,\n",
      "Cluster 5: thi movy, gre, lov, story, gam, real, play, wil, lik, best,\n",
      "Cluster 6: ther, kil, lik, don, think, lif, charact, end, plot, just,\n",
      "Cluster 7: just, charact, wel, thi film, mor, ther, play, kid, seen, thing,\n",
      "Cluster 8: real, guy, charact, book, ther, lov, thi movy, did, end, lik,\n",
      "Cluster 9: thi movy, bad, tim, watch, ther, lov, year, funny, lik, seen,\n",
      "Cluster 10: lik, bad, gre, thi film, peopl, ther, just, som, lov, mak,\n",
      "Cluster 11: lik, episod, watch, just, sery, peopl, tim, don, wer, think,\n",
      "Cluster 12: lik, just, real, ther, tim, watch, episod, mor, don, wer,\n",
      "Cluster 13: thi film, tim, watch, lov, story, thi movy, mor, lif, direct, oth,\n",
      "Cluster 14: real, charact, lov, thi movy, lik, play, ther, story, gre, tim,\n",
      "Cluster 15: thi movy, real, just, lik, story, bad, mak, gam, charact, scen,\n",
      "Cluster 16: lov, wil, thi film, story, tim, lif, charact, thi movy, watch, real,\n",
      "Cluster 17: lik, good, scen, thi movy, wel, look, thi film, story, just, wer,\n",
      "Cluster 18: bad, thi film, story, direct, som, scen, mak, ther, look, good,\n",
      "Cluster 19: lik, real, good, just, charact, mor, ther, story, thi movy, som,\n",
      "Cluster 20: thi film, gam, watch, hor, real, tim, seen, don, just, watch thi,\n",
      "Cluster 21: real, som, man, mor, thi film, mak, good, wom, story, play,\n",
      "Cluster 22: watch, mak, charact, don, scen, gre, som, mus, play, guy,\n",
      "Cluster 23: watch, zomby, thi movy, mus, lik, look, sery, charact, kid, good,\n",
      "Cluster 24: funny, good, som, scen, episod, sery, comedy, gre, wil, real,\n",
      "Cluster 25: wer, thi film, gam, kid, charact, funny, scen, thi movy, laugh, year,\n",
      "Cluster 26: episod, sery, good, charact, gre, bad, play, best, season, funny,\n",
      "Cluster 27: thi movy, bad, watch, just, good, tim, ther, don, lik, wil,\n",
      "Cluster 28: thi movy, real, charact, ther, bad, watch, peopl, scen, gre, just,\n",
      "Cluster 29: bad, ther, kil, som, episod, thi film, scen, direct, sery, end,\n",
      "Cluster 30: man, wel, hor, mad, ther, real, end, laugh, lik, mak,\n",
      "Cluster 31: thi movy, mak, som, bad, wil, wel, just, don, ther, charact,\n",
      "Cluster 32: thi movy, watch, real, lik, bad, good, lov, som, just, peopl,\n",
      "Cluster 33: man, ther, bad, kil, scen, oth, direct, som, mak, com,\n",
      "Cluster 34: thi movy, bad, gre, story, good, direct, book, thi film, mus, mak,\n",
      "Cluster 35: thi film, lov, lif, story, tim, book, watch, wil, peopl, mak,\n",
      "Cluster 36: thi movy, bad, good, lik, thi film, seen, watch, don, mak, book,\n"
     ]
    }
   ],
   "source": [
    "print(\"Top terms per cluster:\")\n",
    "original_space_centroids = pca.inverse_transform(km.cluster_centers_)\n",
    "order_centroids = original_space_centroids.argsort()[:, ::-1]\n",
    "\n",
    "terms = tfidf.get_feature_names()\n",
    "for i in range(len(km.cluster_centers_)):\n",
    "    print(\"Cluster %d:\" % i, end='')\n",
    "    for ind in order_centroids[i, :10]:\n",
    "        print(' %s' % terms[ind], end=',')\n",
    "    print()"
   ]
  },
  {
   "cell_type": "code",
   "execution_count": 174,
   "id": "north-sense",
   "metadata": {},
   "outputs": [
    {
     "data": {
      "text/plain": [
       "(37, 174366)"
      ]
     },
     "execution_count": 174,
     "metadata": {},
     "output_type": "execute_result"
    }
   ],
   "source": [
    "original_space_centroids.shape"
   ]
  },
  {
   "cell_type": "code",
   "execution_count": null,
   "id": "transparent-crime",
   "metadata": {},
   "outputs": [],
   "source": []
  },
  {
   "cell_type": "code",
   "execution_count": null,
   "id": "immediate-dover",
   "metadata": {},
   "outputs": [],
   "source": []
  },
  {
   "cell_type": "markdown",
   "id": "artistic-spending",
   "metadata": {},
   "source": [
    "# Bibliografia\n",
    "\n",
    "### Geral\n",
    "- Slides Professor\n",
    "\n",
    "### Pré processamento do texto\n",
    "- https://blog.ekbana.com/pre-processing-text-in-python-ad13ea544dae\n",
    "- https://medium.com/@wenxuan0923/feature-extraction-from-text-using-countvectorizer-tfidfvectorizer-9f74f38f86cc\n",
    "\n",
    "### Escolher o classificador\n",
    "- https://scikit-learn.org/stable/tutorial/machine_learning_map/index.html\n",
    "\n",
    "### Grid Search\n",
    "- https://scikit-learn.org/stable/modules/grid_search.html\n",
    "- https://scikit-learn.org/stable/auto_examples/model_selection/grid_search_text_feature_extraction.html\n",
    "- https://www.youtube.com/watch?v=Gol_qOgRqfA\n",
    "\n",
    "### Pipeline\n",
    "- https://scikit-learn.org/stable/modules/generated/sklearn.pipeline.Pipeline.html#sklearn.pipeline.Pipeline\n",
    "\n",
    "### Clustering\n",
    "- https://medium.com/hanman/data-clustering-what-type-of-movies-are-in-the-imdb-top-250-7ef59372a93b\n",
    "- https://jtemporal.com/kmeans-and-elbow-method/\n",
    "\n",
    "### Naive Bayse\n",
    "- https://scikit-learn.org/stable/modules/generated/sklearn.naive_bayes.MultinomialNB.html\n",
    "\n",
    "### Decomposição PCA/LSA\n",
    "- https://scikit-learn.org/stable/modules/generated/sklearn.decomposition.TruncatedSVD.html#sklearn.decomposition.TruncatedSVD\n",
    "- https://www.datascienceassn.org/sites/default/files/users/user1/lsa_presentation_final.pdf\n",
    "- https://towardsdatascience.com/latent-semantic-analysis-intuition-math-implementation-a194aff870f8"
   ]
  },
  {
   "cell_type": "code",
   "execution_count": null,
   "id": "regulation-delivery",
   "metadata": {},
   "outputs": [],
   "source": []
  }
 ],
 "metadata": {
  "kernelspec": {
   "display_name": "Python 3",
   "language": "python",
   "name": "python3"
  },
  "language_info": {
   "codemirror_mode": {
    "name": "ipython",
    "version": 3
   },
   "file_extension": ".py",
   "mimetype": "text/x-python",
   "name": "python",
   "nbconvert_exporter": "python",
   "pygments_lexer": "ipython3",
   "version": "3.8.5"
  }
 },
 "nbformat": 4,
 "nbformat_minor": 5
}
