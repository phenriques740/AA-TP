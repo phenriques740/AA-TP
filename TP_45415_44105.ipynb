{
 "cells": [
  {
   "cell_type": "markdown",
   "id": "professional-geology",
   "metadata": {},
   "source": [
    "# Trabalho Prático Aprendizagem Automática\n"
   ]
  },
  {
   "cell_type": "code",
   "execution_count": 1,
   "id": "integral-slave",
   "metadata": {},
   "outputs": [],
   "source": [
    "import re, pickle, time, datetime\n",
    "from tempfile import TemporaryDirectory\n",
    "\n",
    "from sklearn.svm import LinearSVC,SVC\n",
    "\n",
    "import numpy as np\n",
    "\n",
    "from matplotlib import pyplot as plt\n",
    "\n",
    "from sklearn.feature_extraction.text import CountVectorizer, TfidfTransformer, TfidfVectorizer\n",
    "from sklearn.model_selection import train_test_split\n",
    "from sklearn.linear_model import LogisticRegression, LogisticRegressionCV,RidgeClassifier\n",
    "from sklearn.naive_bayes import MultinomialNB\n",
    "from sklearn.multiclass import OneVsRestClassifier\n",
    "from sklearn.preprocessing import Normalizer\n",
    "\n",
    "from sklearn.model_selection import cross_val_score , GridSearchCV , RandomizedSearchCV\n",
    "\n",
    "from sklearn.metrics import confusion_matrix, silhouette_samples, silhouette_score\n",
    "from sklearn.cluster import KMeans, MiniBatchKMeans\n",
    "from sklearn.decomposition import PCA , TruncatedSVD\n",
    "from sklearn.pipeline import Pipeline\n",
    "\n",
    "\n",
    "from nltk.stem import PorterStemmer, SnowballStemmer, LancasterStemmer\n",
    "#Possiveis de serem usadas : numpy, scipy, matplotlib, sklearn, nltk, re e opencv "
   ]
  },
  {
   "cell_type": "markdown",
   "id": "engaging-lying",
   "metadata": {},
   "source": [
    "Carregar os ficheiros dump"
   ]
  },
  {
   "cell_type": "code",
   "execution_count": 2,
   "id": "front-jewelry",
   "metadata": {},
   "outputs": [
    {
     "name": "stdout",
     "output_type": "stream",
     "text": [
      "done criticas\n",
      "done tfidf\n",
      "done\n"
     ]
    }
   ],
   "source": [
    "with open('imdbCriticas.p', 'rb') as f:\n",
    "    global D, Docs, y\n",
    "    D = pickle.load(f)\n",
    "    Docs = D.data\n",
    "    y = D.target\n",
    "print('done criticas')\n",
    "\n",
    "with open('tfidf_dump.p', 'rb') as f:\n",
    "    global tfidf\n",
    "    tfidf = pickle.load(f)\n",
    "print('done tfidf')\n",
    "\n",
    "print('done')"
   ]
  },
  {
   "cell_type": "code",
   "execution_count": 13,
   "id": "roman-wagner",
   "metadata": {
    "scrolled": false
   },
   "outputs": [
    {
     "data": {
      "text/plain": [
       "(40000, 174366)"
      ]
     },
     "execution_count": 13,
     "metadata": {},
     "output_type": "execute_result"
    }
   ],
   "source": [
    "vector.shape"
   ]
  },
  {
   "cell_type": "markdown",
   "id": "revolutionary-installation",
   "metadata": {},
   "source": [
    "### Quantidade de reviews por categoria\n",
    "Podemos analisar a quantidade de reviews de cada uma das possíveis reviews"
   ]
  },
  {
   "cell_type": "code",
   "execution_count": 3,
   "id": "conceptual-massage",
   "metadata": {},
   "outputs": [
    {
     "name": "stdout",
     "output_type": "stream",
     "text": [
      "{1: 8352, 2: 3690, 3: 3923, 4: 4245, 7: 3744, 8: 4529, 9: 3612, 10: 7905}\n"
     ]
    },
    {
     "data": {
      "image/png": "[encoded data removed]",
      "text/plain": [
       "<Figure size 432x288 with 1 Axes>"
      ]
     },
     "metadata": {
      "needs_background": "light"
     },
     "output_type": "display_data"
    }
   ],
   "source": [
    "rating, value=np.unique(y,return_counts=True)\n",
    "print(dict(zip(rating, value)))\n",
    "plt.plot(rating,value,'*r')\n",
    "plt.grid()"
   ]
  },
  {
   "cell_type": "markdown",
   "id": "friendly-effects",
   "metadata": {},
   "source": [
    "###  Pré processamento de dados de texto"
   ]
  },
  {
   "cell_type": "markdown",
   "id": "guided-steel",
   "metadata": {},
   "source": [
    "Usamos este metodo para préprocessar os dados de texto, e reduzir as palavras tendo em conta os erros de ortografia\n",
    "\n",
    "O stemmer por defeito é o lancaster, porque teve os melhores resultados e se o argumento não corresponder a nenhum outro, este é utilizado"
   ]
  },
  {
   "cell_type": "code",
   "execution_count": 4,
   "id": "serious-prescription",
   "metadata": {},
   "outputs": [],
   "source": [
    "def preProcessDoc(Doc, stemmer = 'lancaster', decode = False):\n",
    "    \"\"\"\n",
    "    Transforma um documento numa forma passivel de ser vetorizada removendo ruido e erros ortograficos\n",
    "    \n",
    "    Parameters\n",
    "    ----------\n",
    "    Doc :str\n",
    "        documento para prá Processar\n",
    "    stemmer : str\n",
    "        stemmer a utilizar, escolher entre porter, snowball, lancaster\n",
    "        defaults to lancaster\n",
    "    decode : boolean\n",
    "        se a string não estiver descodificada, descodifica em formato utf-8\n",
    "        defaults to False\n",
    "    Returns\n",
    "    ---------\n",
    "    str\n",
    "        uma string semelhante á original mas passivel de ser vetorizada para representacao TF-IDF\n",
    "    \"\"\"\n",
    "    stem = {\n",
    "        'porter'   : PorterStemmer(),\n",
    "        'snowball' : SnowballStemmer('english'),\n",
    "        'lancaster': LancasterStemmer()\n",
    "    }\n",
    "    stemFunc = stem.get(stemmer, LancasterStemmer())\n",
    "    if(decode):\n",
    "        Doc = Doc.decode('UTF-8')\n",
    "    Doc = Doc.replace('<br />', ' ')\n",
    "    Doc = re.sub(r'[^a-zA-Z\\u00C0\\u00FF]+', ' ', Doc)\n",
    "    Doc = ' '.join([stemFunc.stem(w) for w in Doc.split()])\n",
    "    return Doc\n",
    "\n",
    "def preProcessDocs(Docs, stemmer='lancaster', decode = False):\n",
    "    \"\"\"\n",
    "    Metodo que pré processa uma lista de strings para uma forma passivel de ser vetorizada para representacao TF-IDF\n",
    "    Não é obrigatório chamar este método para converter para representação, mas é recomendado pois melhora o resultado dos classificadores.\n",
    "    \n",
    "    Parameters\n",
    "    ----------\n",
    "    Doc : list of str\n",
    "        documento para prá Processar\n",
    "    stemmer : str\n",
    "        stemmer a utilizar, escolher entre porter, snowball, lancaster\n",
    "        defaults to lancaster\n",
    "    decode : boolean\n",
    "        se a string não estiver descodificada, descodifica em formato utf-8\n",
    "        defaults to False\n",
    "    \n",
    "    Returns\n",
    "    ---------\n",
    "    list\n",
    "        lista com strings preproprecessadas\n",
    "    \n",
    "    See Also\n",
    "    ---------\n",
    "    preProcessDoc : Método que ira processar uma unica string\n",
    "    \"\"\"\n",
    "    \n",
    "    return [preProcessDoc(doc, stemmer, decode) for doc in Docs]\n",
    "\n",
    "def text2vector(Docs, tfidf=None, preProcess = False, stemmer='lancaster', decode=False):\n",
    "    \"\"\"\n",
    "    Transforma uma string ou lista de strings numa matriz de dimensões (len(Docs), len(tfidf.get_feature_names()))\n",
    "    \n",
    "    Parameters\n",
    "    ----------\n",
    "    Docs : list of str\n",
    "        Documentos para vetorizar. Cada documento irá corresponder a uma linha da nova matriz\n",
    "    \n",
    "    tfidf : TfidfVectorizer\n",
    "        Transformador a utilizar para criar a matriz termo dos documentos. \n",
    "        Defaults to None , neste caso importa um transformador previamente treinado.\n",
    "    \n",
    "    preProcess : boolean\n",
    "        Se os documentos devem ser pré processados antes de serem transformados na matriz-termo\n",
    "    \n",
    "    See Also\n",
    "    ---------\n",
    "    preProcessDocs : Metodo que irá pre processar um conjunto de string\n",
    "    preProcessDoc : Método que ira pre processar uma unica string\n",
    "    \"\"\"\n",
    "    \n",
    "    if(preProcess):\n",
    "        Docs = preProcessDocs(Docs, stemmer=stemmer, decode=decode)\n",
    "    \n",
    "    if(tfidf==None):\n",
    "        tfidf = pickle.load(open('tfidf_dump.p','rb'))\n",
    "\n",
    "    return tfidf.transform(Docs)\n",
    "\n",
    "def binClassify(X, clf=None):\n",
    "    \"\"\"\n",
    "    Classifica uma matriz de formato (n_components, n_features) em termos de positivo / negativo, tendo em conta o classificador fornecido\n",
    "    \n",
    "    Parameters\n",
    "    ----------\n",
    "    X : np.array or scipy.sparse\n",
    "        Matriz para ser classificada. \n",
    "        Deve ter rigorosamente o mesmo numero de features da matriz utilizada para treinar o classificador.\n",
    "    \n",
    "    clf : SKLearn object that implements predict\n",
    "        Classificador, deve implementar o método predict e ter sido previamente treinado\n",
    "        defaults to None, nesse caso importa um classificador previamente treinado \n",
    "    \"\"\"\n",
    "    if(clf==None):\n",
    "        clf = pickle.load(open('svc_bool_dump.p' , 'rb'))\n",
    "    \n",
    "    return clf.predict(X)\n",
    "\n",
    "def multiClassify(X, clf=None):\n",
    "    \"\"\"\n",
    "    Classifica uma matriz de formato (n_components, n_features) no conjunto de classes do classificador\n",
    "    \n",
    "    Parameters\n",
    "    ----------\n",
    "    X : np.array or scipy.sparse\n",
    "        Matriz para ser classificada. \n",
    "        Deve ter rigorosamente o mesmo numero de features da matriz utilizada para treinar o classificador.\n",
    "    \n",
    "    clf : SKLearn object that implements predict\n",
    "        Classificador, deve implementar o método predict e ter sido previamente treinado\n",
    "        defaults to None, nesse caso importa um classificador previamente treinado \n",
    "    \"\"\"\n",
    "    \n",
    "    if(clf==None):\n",
    "        clf = pickle.load(open('RidgeMultidump.p', 'rb'))\n",
    "    return clf.predict(X)"
   ]
  },
  {
   "cell_type": "markdown",
   "id": "fitted-alloy",
   "metadata": {},
   "source": [
    "## Classificação Binária\n",
    "\n",
    "Converter da escala de 0 a 10, para negativos/positivos"
   ]
  },
  {
   "cell_type": "code",
   "execution_count": 5,
   "id": "electrical-stopping",
   "metadata": {},
   "outputs": [],
   "source": [
    "y_boolean = [0 if val<5 else 1 for val in y]"
   ]
  },
  {
   "cell_type": "markdown",
   "id": "neutral-cement",
   "metadata": {},
   "source": [
    "### Steemers\n",
    "\n",
    "O stemmer reduz uma palavra á sua raiz, ou seja, remove plurais, conjugacao de verbos, etc"
   ]
  },
  {
   "cell_type": "markdown",
   "id": "handy-spectrum",
   "metadata": {},
   "source": [
    "#### Sem Steeming"
   ]
  },
  {
   "cell_type": "code",
   "execution_count": 7,
   "id": "economic-penny",
   "metadata": {},
   "outputs": [
    {
     "name": "stdout",
     "output_type": "stream",
     "text": [
      "Token len 40269\n",
      "0.50525\n"
     ]
    }
   ],
   "source": [
    "tfidf_raw = TfidfVectorizer(min_df=3, token_pattern=r'\\b[a-zA-Z]{3,}\\b').fit(Docs)\n",
    "vector = text2vector(X, tfidf=tfidf_raw)\n",
    "dl_raw = LogisticRegression(max_iter = 1000, C=3.3, tol = 1e-3).fit(vector,y_boolean)\n",
    "print('Token len' , len(tfidf_raw.get_feature_names()))\n",
    "print(dl_raw.score(vector, y_boolean))"
   ]
  },
  {
   "cell_type": "markdown",
   "id": "jewish-skating",
   "metadata": {},
   "source": [
    "#### Porter"
   ]
  },
  {
   "cell_type": "code",
   "execution_count": 8,
   "id": "personalized-zealand",
   "metadata": {},
   "outputs": [
    {
     "name": "stdout",
     "output_type": "stream",
     "text": [
      "Token len 26773\n",
      "0.945525\n"
     ]
    }
   ],
   "source": [
    "X = preProcessDocs(Docs, stemmer='porter')\n",
    "tfidf_p = TfidfVectorizer(min_df=3, token_pattern=r'\\b[a-zA-Z]{3,}\\b').fit(X)\n",
    "vector = text2vector(X, tfidf=tfidf_p)\n",
    "dl_p = LogisticRegression(max_iter = 1000, C=3.3, tol = 1e-3).fit(vector,y_boolean)\n",
    "print('Token len' , len(tfidf_p.get_feature_names()))\n",
    "print(dl_p.score(vector, y_boolean))"
   ]
  },
  {
   "cell_type": "markdown",
   "id": "respected-hearts",
   "metadata": {},
   "source": [
    "#### Snowball"
   ]
  },
  {
   "cell_type": "code",
   "execution_count": 9,
   "id": "static-junior",
   "metadata": {},
   "outputs": [
    {
     "name": "stdout",
     "output_type": "stream",
     "text": [
      "Token len 26394\n",
      "0.94535\n"
     ]
    }
   ],
   "source": [
    "X = preProcessDocs(Docs, stemmer='snowball')\n",
    "tfidf_s = TfidfVectorizer(min_df=3, token_pattern=r'\\b[a-zA-Z]{3,}\\b').fit(X)\n",
    "vector = text2vector(X, tfidf=tfidf_s)\n",
    "dl_s = LogisticRegression(max_iter = 1000, C=3.3, tol = 1e-3).fit(vector,y_boolean)\n",
    "print('Token len' , len(tfidf_s.get_feature_names()))\n",
    "print(dl_s.score(vector, y_boolean))"
   ]
  },
  {
   "cell_type": "markdown",
   "id": "loving-superintendent",
   "metadata": {},
   "source": [
    "#### Lancaster"
   ]
  },
  {
   "cell_type": "code",
   "execution_count": 10,
   "id": "forbidden-satellite",
   "metadata": {
    "scrolled": true
   },
   "outputs": [
    {
     "name": "stdout",
     "output_type": "stream",
     "text": [
      "Token len 21883\n",
      "0.939425\n"
     ]
    }
   ],
   "source": [
    "X = preProcessDocs(Docs, stemmer='lancaster')\n",
    "tfidf_l = TfidfVectorizer(min_df=3, token_pattern=r'\\b[a-zA-Z]{3,}\\b').fit(X)\n",
    "vector = text2vector(X, tfidf=tfidf_l)\n",
    "dl_l = LogisticRegression(max_iter = 1000, C=3.3, tol = 1e-3).fit(vector,y_boolean)\n",
    "print('Token len' , len(tfidf_l.get_feature_names()))\n",
    "print(dl_l.score(vector, y_boolean))"
   ]
  },
  {
   "cell_type": "markdown",
   "id": "removed-netscape",
   "metadata": {},
   "source": [
    "Comporar documento original com o documento depois de ter sido feito o pré processamento"
   ]
  },
  {
   "cell_type": "code",
   "execution_count": 11,
   "id": "focused-contest",
   "metadata": {
    "scrolled": false
   },
   "outputs": [
    {
     "name": "stdout",
     "output_type": "stream",
     "text": [
      "Original \n",
      " Zero Day leads you to think, even re-think why two boys/young men would do what they did - commit mutual suicide via slaughtering their classmates. It captures what must be beyond a bizarre mode of being for two humans who have decided to withdraw from common civility in order to define their own/mutual world via coupled destruction.<br /><br />It is not a perfect movie but given what money/time the filmmaker and actors had - it is a remarkable product. In terms of explaining the motives and actions of the two young suicide/murderers it is better than 'Elephant' - in terms of being a film that gets under our 'rationalistic' skin it is a far, far better film than almost anything you are likely to see. <br /><br />Flawed but honest with a terrible honesty.\n",
      "\n",
      "Stemmed \n",
      " zero day lead you to think ev re think why two boy young men would do what they did commit mut suicid via slaught their classm it capt what must be beyond a bizar mod of being for two hum who hav decid to withdraw from common civil in ord to defin their own mut world via coupl destruct it is not a perfect movy but giv what money tim the filmmak and act had it is a remark produc in term of explain the mot and act of the two young suicid murd it is bet than eleph in term of being a film that get und our rat skin it is a far far bet film than almost anyth you ar lik to see flaw but honest with a terr honesty\n",
      "\n"
     ]
    }
   ],
   "source": [
    "print(f'Original \\n {Docs[0]}\\n')\n",
    "print(f'Stemmed \\n {X[0]}\\n')"
   ]
  },
  {
   "cell_type": "code",
   "execution_count": 12,
   "id": "dynamic-modem",
   "metadata": {
    "scrolled": true
   },
   "outputs": [
    {
     "name": "stdout",
     "output_type": "stream",
     "text": [
      "R 44001.42049334827\n",
      "P 28315.486105602708\n",
      "S 27919.818056804357\n",
      "L 23294.036245575753\n"
     ]
    }
   ],
   "source": [
    "print('R' ,40269/0.915175)\n",
    "print('P' ,26773/0.945525)\n",
    "print('S' ,26394/0.94535)\n",
    "print('L' ,21883/0.939425)"
   ]
  },
  {
   "cell_type": "code",
   "execution_count": 17,
   "id": "contrary-protection",
   "metadata": {},
   "outputs": [
    {
     "data": {
      "image/png": "[encoded data removed]",
      "text/plain": [
       "<Figure size 432x288 with 1 Axes>"
      ]
     },
     "metadata": {
      "needs_background": "light"
     },
     "output_type": "display_data"
    }
   ],
   "source": [
    "tk_len = [40269, 26773, 26394, 21883]\n",
    "scores = [0.915175, 0.945525, 0.94535, 0.939425]\n",
    "plt.plot(tk_len, scores, '*r')\n",
    "plt.grid(True)"
   ]
  },
  {
   "cell_type": "markdown",
   "id": "sized-peter",
   "metadata": {},
   "source": [
    "É possivel ver que o lancaster é o que reduz ao maximo a quantidade de tokens, alem disso vamos optar por utilizar o Lancaster pois precisava de uma quantidade de tokens menores para atingir os teoricos 100% de score."
   ]
  },
  {
   "cell_type": "markdown",
   "id": "arctic-moral",
   "metadata": {},
   "source": [
    "## Comparar modelos lineares"
   ]
  },
  {
   "cell_type": "code",
   "execution_count": 6,
   "id": "unsigned-petersburg",
   "metadata": {
    "scrolled": true
   },
   "outputs": [],
   "source": [
    "X = preProcessDocs(Docs)"
   ]
  },
  {
   "cell_type": "code",
   "execution_count": 14,
   "id": "beneficial-corps",
   "metadata": {
    "collapsed": true,
    "jupyter": {
     "outputs_hidden": true
    }
   },
   "outputs": [
    {
     "name": "stdout",
     "output_type": "stream",
     "text": [
      "Started at 03:54:17\n",
      "Fitting 5 folds for each of 30 candidates, totalling 150 fits\n"
     ]
    },
    {
     "name": "stderr",
     "output_type": "stream",
     "text": [
      "[Parallel(n_jobs=-1)]: Using backend LokyBackend with 4 concurrent workers.\n",
      "[Parallel(n_jobs=-1)]: Done  24 tasks      | elapsed:  5.7min\n",
      "[Parallel(n_jobs=-1)]: Done 120 tasks      | elapsed: 28.1min\n",
      "[Parallel(n_jobs=-1)]: Done 150 out of 150 | elapsed: 32.8min finished\n"
     ]
    },
    {
     "name": "stdout",
     "output_type": "stream",
     "text": [
      "[Pipeline] ............. (step 1 of 2) Processing tfidf, total=  20.7s\n"
     ]
    },
    {
     "name": "stderr",
     "output_type": "stream",
     "text": [
      "C:\\ProgramData\\Anaconda3\\lib\\site-packages\\sklearn\\pipeline.py:292: UserWarning: Persisting input arguments took 9.24s to run.\n",
      "If this happens often in your code, it can cause performance problems \n",
      "(results will be correct in all cases). \n",
      "The reason for this is probably some large input arguments for a wrapped\n",
      " function (e.g. large strings).\n",
      "THIS IS A JOBLIB ISSUE. If you can, kindly provide the joblib's team with an\n",
      " example so that they can fix the problem.\n",
      "  X, fitted_transformer = fit_transform_one_cached(\n"
     ]
    },
    {
     "name": "stdout",
     "output_type": "stream",
     "text": [
      "[Pipeline] ............... (step 2 of 2) Processing clf, total=   8.6s\n",
      "Done at 04:27:48\n"
     ]
    }
   ],
   "source": [
    "with TemporaryDirectory(prefix=\"sklearn_graph_cache_\") as tmpdir:\n",
    "    global pipeline, grid_param, grid_search\n",
    "    \n",
    "    pipeline =Pipeline([\n",
    "        ('tfidf' , TfidfVectorizer()),\n",
    "        ('clf' , LogisticRegression(max_iter = 1000, tol=1e-3))\n",
    "    ], memory=tmpdir, verbose=True)\n",
    "\n",
    "    grid_param ={\n",
    "        'tfidf__strip_accents' :[None, 'unicode'],\n",
    "        #'tfidf__stop_words' : [None, 'english'],\n",
    "        'tfidf__token_pattern' : [r'\\b\\w{3,}\\b', r'\\b[a-zA-Z]{3,}\\b'], \n",
    "        'tfidf__min_df' : [3,4,5], \n",
    "        'tfidf__max_df' : [0.25, 0.5, 0.75], \n",
    "        'tfidf__ngram_range' : [(1,1), (1,2), (1,3) , (2,2)] , \n",
    "        'tfidf__norm' : ['l1', 'l2'],\n",
    "        'tfidf__max_features' : [None, 15000,20000,25000,30000],\n",
    "\n",
    "        'clf__C' : [1,3,10,30,100], \n",
    "        'clf__solver' : ['sag', 'saga'],\n",
    "    }\n",
    "    t0 =time.localtime()\n",
    "    print('Started at'  , time.strftime(\"%H:%M:%S\", t0))\n",
    "    ## Se tiveres mais memoria que eu(8Gb), aumenta o pre_dispatch para um valor maior\n",
    "    grid_search = RandomizedSearchCV(pipeline, grid_param, cv = 5, n_jobs=-1, verbose=3,\\\n",
    "                                     pre_dispatch=8,n_iter = 30).fit(X, y_boolean)\n",
    "\n",
    "    t1 = time.localtime()\n",
    "    print('Done at' , time.strftime(\"%H:%M:%S\", t1))\n",
    "\n",
    "## guardar os resultados do grid_search\n",
    "with open('dump.p', 'wb') as f:\n",
    "    pickle.dump({'in' : grid_param ,\n",
    "                 'out': grid_search}, f)"
   ]
  },
  {
   "cell_type": "code",
   "execution_count": 15,
   "id": "extraordinary-condition",
   "metadata": {
    "scrolled": true
   },
   "outputs": [
    {
     "name": "stdout",
     "output_type": "stream",
     "text": [
      "Pipeline(memory='C:\\\\Users\\\\pedro\\\\AppData\\\\Local\\\\Temp\\\\sklearn_graph_cache__b1l3hhf',\n",
      "         steps=[('tfidf',\n",
      "                 TfidfVectorizer(max_df=0.5, min_df=3, ngram_range=(1, 2),\n",
      "                                 token_pattern='\\\\b\\\\w{3,}\\\\b')),\n",
      "                ('clf',\n",
      "                 LogisticRegression(C=30, max_iter=1000, solver='sag',\n",
      "                                    tol=0.001))],\n",
      "         verbose=True)\n"
     ]
    }
   ],
   "source": [
    "print(grid_search.best_estimator_)"
   ]
  },
  {
   "cell_type": "markdown",
   "id": "streaming-correlation",
   "metadata": {},
   "source": [
    "###### Em vez de correr o codigo em cima, podemos fazer import do ficheiro dump"
   ]
  },
  {
   "cell_type": "code",
   "execution_count": 111,
   "id": "primary-accountability",
   "metadata": {
    "jupyter": {
     "outputs_hidden": true
    },
    "scrolled": true
   },
   "outputs": [
    {
     "name": "stdout",
     "output_type": "stream",
     "text": [
      "Pipeline(memory='C:\\\\Users\\\\pedro\\\\AppData\\\\Local\\\\Temp\\\\sklearn_graph_cache__b1l3hhf',\n",
      "         steps=[('tfidf',\n",
      "                 TfidfVectorizer(max_df=0.5, min_df=3, ngram_range=(1, 2),\n",
      "                                 token_pattern='\\\\b\\\\w{3,}\\\\b')),\n",
      "                ('clf',\n",
      "                 LogisticRegression(C=30, max_iter=1000, solver='sag',\n",
      "                                    tol=0.001))],\n",
      "         verbose=True)\n"
     ]
    }
   ],
   "source": [
    "with open('dump.p' ,'rb') as f:\n",
    "    global grid_param, grid_search\n",
    "    temp = pickle.load(f)\n",
    "    grid_param = temp['in']\n",
    "    grid_search = temp['out']\n",
    "print(grid_search.best_estimator_)"
   ]
  },
  {
   "cell_type": "code",
   "execution_count": 7,
   "id": "refined-turtle",
   "metadata": {},
   "outputs": [],
   "source": [
    "def plot_against_score(gridSearchResults, param):\n",
    "    \"\"\"\n",
    "    Este metodo mostra como uma variavel em particular se comporta em relacao aos \n",
    "    resultados provenientes do gridSearch\n",
    "    \n",
    "    Parameters\n",
    "    ----------\n",
    "    gridSearchResults : dict\n",
    "        resultados do gridSearch, usar grid_search.cv_results_ para obtero dicionario\n",
    "    param: str\n",
    "        param a comparar, deve ser uma key de gridSearchResults\n",
    "    \n",
    "    \"\"\"\n",
    "    \n",
    "    ranks = gridSearchResults['rank_test_score']\n",
    "    scores = gridSearchResults['mean_test_score']\n",
    "    p = gridSearchResults[param].data\n",
    "    p = np.array(p, dtype=np.float64)\n",
    "    data = np.array(sorted(zip(ranks,p,scores), key=lambda x : x[0]))\n",
    "\n",
    "    plt.plot(data[:,1], data[:,2], 'o')\n",
    "    plt.xticks(np.unique(p))\n",
    "    plt.xlabel(param)\n",
    "    plt.ylabel('Score')\n",
    "    plt.grid(True)"
   ]
  },
  {
   "cell_type": "markdown",
   "id": "universal-arkansas",
   "metadata": {},
   "source": [
    "###### Como o C do logisticRegression influencia o score"
   ]
  },
  {
   "cell_type": "code",
   "execution_count": 236,
   "id": "blond-ribbon",
   "metadata": {
    "scrolled": false
   },
   "outputs": [
    {
     "data": {
      "image/png": "[encoded data removed]",
      "text/plain": [
       "<Figure size 432x288 with 1 Axes>"
      ]
     },
     "metadata": {
      "needs_background": "light"
     },
     "output_type": "display_data"
    }
   ],
   "source": [
    "plot_against_score(grid_search.cv_results_,'param_clf__C' )"
   ]
  },
  {
   "cell_type": "markdown",
   "id": "latin-authorization",
   "metadata": {},
   "source": [
    "O C não foi testado independentemente de outras variaveis, no entanto valores menores parecem apresentar melhores resultados"
   ]
  },
  {
   "cell_type": "markdown",
   "id": "fitted-kuwait",
   "metadata": {},
   "source": [
    "######  Influencia de min_df e max_df\n",
    "Min_df define a quantidade minima de documentos em que um token tem de aparecer antes de ser considerado\n",
    "Max_df define a quantidade maxima de documentos em que um token pode aparecer antes de ser eliminado"
   ]
  },
  {
   "cell_type": "code",
   "execution_count": 237,
   "id": "contained-providence",
   "metadata": {},
   "outputs": [
    {
     "data": {
      "image/png": "[encoded data removed]",
      "text/plain": [
       "<Figure size 432x288 with 1 Axes>"
      ]
     },
     "metadata": {
      "needs_background": "light"
     },
     "output_type": "display_data"
    }
   ],
   "source": [
    "plot_against_score(grid_search.cv_results_,'param_tfidf__min_df')"
   ]
  },
  {
   "cell_type": "code",
   "execution_count": 238,
   "id": "positive-architecture",
   "metadata": {},
   "outputs": [],
   "source": []
  },
  {
   "cell_type": "code",
   "execution_count": null,
   "id": "ordinary-corrections",
   "metadata": {},
   "outputs": [
    {
     "data": {
      "image/png": "[encoded data removed]",
      "text/plain": [
       "<Figure size 432x288 with 1 Axes>"
      ]
     },
     "metadata": {
      "needs_background": "light"
     },
     "output_type": "display_data"
    }
   ],
   "source": [
    "plot_against_score(grid_search.cv_results_,'param_tfidf__max_df')"
   ]
  },
  {
   "cell_type": "markdown",
   "id": "shared-performer",
   "metadata": {},
   "source": [
    "Palavras com uma frequencia minima de 3, mas que aparecem em menos de 50% dos documentos parece ser o intervalo ideal para o TFIDF"
   ]
  },
  {
   "cell_type": "markdown",
   "id": "dental-muslim",
   "metadata": {},
   "source": [
    "###  TFIDF optimizado\n",
    "\n",
    "Não é exatamente o mesmo que foi eleito pelo pipeline, mas este remove stop words e palavras redundantes porque ajuda a reduzir o ruido. Grava tambem o objeto num documento pickle"
   ]
  },
  {
   "cell_type": "code",
   "execution_count": 18,
   "id": "difficult-million",
   "metadata": {
    "scrolled": true
   },
   "outputs": [],
   "source": [
    "with open('tfidf_dump.p', 'wb') as f:\n",
    "    tfidf = TfidfVectorizer(max_df=0.5 , min_df=4,ngram_range=(1, 2), norm='l2', token_pattern=r'\\b\\w{3,}\\b'\\\n",
    "                            ,stop_words='english').fit(X)\n",
    "    pickle.dump(tfidf, f)"
   ]
  },
  {
   "cell_type": "code",
   "execution_count": 19,
   "id": "identical-collector",
   "metadata": {
    "scrolled": false
   },
   "outputs": [
    {
     "data": {
      "text/plain": [
       "174366"
      ]
     },
     "execution_count": 19,
     "metadata": {},
     "output_type": "execute_result"
    }
   ],
   "source": [
    "len(tfidf.get_feature_names())"
   ]
  },
  {
   "cell_type": "code",
   "execution_count": 10,
   "id": "actual-conditions",
   "metadata": {
    "jupyter": {
     "outputs_hidden": true
    }
   },
   "outputs": [
    {
     "data": {
      "text/plain": [
       "(40000, 174366)"
      ]
     },
     "execution_count": 10,
     "metadata": {},
     "output_type": "execute_result"
    }
   ],
   "source": [
    "vector = text2vector(X)\n",
    "with open('vector_dump.p', 'wb') as f:\n",
    "    pickle.dump(vector, f)\n",
    "vector.shape"
   ]
  },
  {
   "cell_type": "markdown",
   "id": "alert-natural",
   "metadata": {},
   "source": [
    "## LogisticRegression booleana"
   ]
  },
  {
   "cell_type": "code",
   "execution_count": 22,
   "id": "perceived-satin",
   "metadata": {},
   "outputs": [
    {
     "name": "stdout",
     "output_type": "stream",
     "text": [
      "1.0\n",
      "0.8968\n"
     ]
    }
   ],
   "source": [
    "x_train, x_test, y_train, y_test = train_test_split(vector, y_boolean, test_size=1/4)\n",
    "\n",
    "dl = LogisticRegression(max_iter = 1000, C=10, tol = 1e-3, cv=5,\\\n",
    "                          penalty='l2', solver='saga', n_jobs=-1).fit(x_train, y_train)\n",
    "print(dl.score(x_train, y_train))\n",
    "print(dl.score(x_test, y_test))"
   ]
  },
  {
   "cell_type": "markdown",
   "id": "funded-martin",
   "metadata": {},
   "source": [
    "## LogisticRegression multi-classe"
   ]
  },
  {
   "cell_type": "code",
   "execution_count": 222,
   "id": "forty-hierarchy",
   "metadata": {
    "jupyter": {
     "outputs_hidden": true
    }
   },
   "outputs": [
    {
     "name": "stdout",
     "output_type": "stream",
     "text": [
      "0.9998666666666667\n",
      "0.4304\n"
     ]
    }
   ],
   "source": [
    "x_train, x_test, y_train, y_test = train_test_split(vector, y, test_size=1/4)\n",
    "\n",
    "dl = LogisticRegression(max_iter = 1000, C=10, tol = 1e-3,  \\\n",
    "                          penalty='l2', solver='saga').fit(x_train, y_train)\n",
    "print(dl.score(x_train, y_train))\n",
    "print(dl.score(x_test, y_test))"
   ]
  },
  {
   "cell_type": "code",
   "execution_count": 223,
   "id": "vocational-communications",
   "metadata": {},
   "outputs": [],
   "source": [
    "with (open('lr_multi_dump.p','wb')) as f:\n",
    "    pickle.dump(dl,f)"
   ]
  },
  {
   "cell_type": "markdown",
   "id": "foster-georgia",
   "metadata": {},
   "source": [
    "O logistic regression é bastante bom com dados booleanos. Possivelmente poderia ser melhorado para dados multi classe se encontrassemos um TF-IDF adequado"
   ]
  },
  {
   "cell_type": "markdown",
   "id": "capital-canada",
   "metadata": {},
   "source": [
    "## Linear SVC (booleana)"
   ]
  },
  {
   "cell_type": "code",
   "execution_count": 5,
   "id": "described-packet",
   "metadata": {},
   "outputs": [],
   "source": [
    "X1,X2,y1,y2=train_test_split(vector,y_boolean,test_size=1/4)"
   ]
  },
  {
   "cell_type": "code",
   "execution_count": 6,
   "id": "pleasant-pepper",
   "metadata": {},
   "outputs": [
    {
     "name": "stdout",
     "output_type": "stream",
     "text": [
      "Started at 18:41:27\n",
      "Fitting 5 folds for each of 5 candidates, totalling 25 fits\n"
     ]
    },
    {
     "name": "stderr",
     "output_type": "stream",
     "text": [
      "[Parallel(n_jobs=-1)]: Using backend LokyBackend with 8 concurrent workers.\n",
      "[Parallel(n_jobs=-1)]: Done  23 out of  25 | elapsed:   39.6s remaining:    3.3s\n",
      "[Parallel(n_jobs=-1)]: Done  25 out of  25 | elapsed:   40.7s finished\n"
     ]
    },
    {
     "name": "stdout",
     "output_type": "stream",
     "text": [
      "Done at 18:42:09 took 41.71728777885437 seconds\n"
     ]
    }
   ],
   "source": [
    "with TemporaryDirectory(prefix=\"sklearn_graph_cache_\") as tmpdir:\n",
    "    pipeline = Pipeline([\n",
    "        ('svm' , LinearSVC(dual=True)) \n",
    "    ] , memory=tmpdir)\n",
    "    \n",
    "    grid_param = {\n",
    "        'svm__C' : [0.1,1.0,5.0,10.0,100.0]\n",
    "    }\n",
    "    t0 =time.time()\n",
    "    print('Started at'  , time.strftime(\"%H:%M:%S\", time.localtime()))\n",
    "    grid_search = GridSearchCV(pipeline, grid_param, n_jobs=-1, verbose=2).fit(X1,y1)\n",
    "    print(f'Done at {time.strftime(\"%H:%M:%S\", time.localtime())} took {str(time.time()-t0)} seconds')"
   ]
  },
  {
   "cell_type": "code",
   "execution_count": 26,
   "id": "qualified-investigator",
   "metadata": {
    "scrolled": true
   },
   "outputs": [
    {
     "data": {
      "text/plain": [
       "LinearSVC()"
      ]
     },
     "execution_count": 7,
     "metadata": {},
     "output_type": "execute_result"
    }
   ],
   "source": [
    "svm= grid_search.best_estimator_[0]\n",
    "svm"
   ]
  },
  {
   "cell_type": "code",
   "execution_count": 8,
   "id": "finnish-award",
   "metadata": {
    "scrolled": true
   },
   "outputs": [],
   "source": [
    "ye=svm.predict(X2)"
   ]
  },
  {
   "cell_type": "code",
   "execution_count": 9,
   "id": "forty-links",
   "metadata": {
    "scrolled": true
   },
   "outputs": [
    {
     "name": "stdout",
     "output_type": "stream",
     "text": [
      "N erros(teste): 1014\n",
      "Matriz confusao\n",
      " [[4506  572]\n",
      " [ 442 4480]] \n",
      "\n",
      "Linear SVC Score train:  0.9990666666666667\n",
      "Linear SVC Score test:  0.8986\n"
     ]
    }
   ],
   "source": [
    "print('N erros(teste):',np.sum(y2!=ye))\n",
    "print('Matriz confusao\\n' , confusion_matrix(y2,ye), '\\n')\n",
    "print(\"Linear SVC Score train: \", svm.score(X1,y1))\n",
    "print(\"Linear SVC Score test: \", svm.score(X2,y2))"
   ]
  },
  {
   "cell_type": "code",
   "execution_count": 10,
   "id": "regulated-gardening",
   "metadata": {},
   "outputs": [
    {
     "data": {
      "text/plain": [
       "dict_keys(['mean_fit_time', 'std_fit_time', 'mean_score_time', 'std_score_time', 'param_svm__C', 'params', 'split0_test_score', 'split1_test_score', 'split2_test_score', 'split3_test_score', 'split4_test_score', 'mean_test_score', 'std_test_score', 'rank_test_score'])"
      ]
     },
     "execution_count": 10,
     "metadata": {},
     "output_type": "execute_result"
    }
   ],
   "source": [
    "grid_search.cv_results_.keys()"
   ]
  },
  {
   "cell_type": "code",
   "execution_count": 11,
   "id": "satisfied-amplifier",
   "metadata": {},
   "outputs": [
    {
     "data": {
      "image/png": "[encoded data removed]",
      "text/plain": [
       "<Figure size 432x288 with 1 Axes>"
      ]
     },
     "metadata": {
      "needs_background": "light"
     },
     "output_type": "display_data"
    }
   ],
   "source": [
    "plot_against_score(grid_search.cv_results_,'param_svm__C')"
   ]
  },
  {
   "cell_type": "code",
   "execution_count": 29,
   "id": "equivalent-petersburg",
   "metadata": {},
   "outputs": [],
   "source": [
    "with open('svc_bool_dump.p', 'wb') as f:\n",
    "    pickle.dump(svm, f)"
   ]
  },
  {
   "cell_type": "markdown",
   "id": "palestinian-settle",
   "metadata": {},
   "source": [
    "A maquina de suporte vetorial é bastante rápida a classificar os resultados, alem disso, apresentou os melhores resultados dentre todos os classificadores para classificacao binaria"
   ]
  },
  {
   "cell_type": "markdown",
   "id": "hourly-plenty",
   "metadata": {},
   "source": [
    "# Linear SVC (multiclasse)"
   ]
  },
  {
   "cell_type": "code",
   "execution_count": 12,
   "id": "victorian-playing",
   "metadata": {},
   "outputs": [],
   "source": [
    "X1,X2,y1,y2=train_test_split(Normalizer().fit_transform(vector), y ,test_size=1/4)"
   ]
  },
  {
   "cell_type": "code",
   "execution_count": 13,
   "id": "meaning-yesterday",
   "metadata": {
    "scrolled": true
   },
   "outputs": [
    {
     "name": "stdout",
     "output_type": "stream",
     "text": [
      "Started at 18:45:55\n",
      "Fitting 5 folds for each of 10 candidates, totalling 50 fits\n"
     ]
    },
    {
     "name": "stderr",
     "output_type": "stream",
     "text": [
      "[Parallel(n_jobs=-1)]: Using backend LokyBackend with 8 concurrent workers.\n",
      "[Parallel(n_jobs=-1)]: Done  25 tasks      | elapsed:  2.5min\n",
      "[Parallel(n_jobs=-1)]: Done  50 out of  50 | elapsed: 10.8min finished\n"
     ]
    },
    {
     "name": "stdout",
     "output_type": "stream",
     "text": [
      "Done at 18:56:47 took 651.9998297691345 seconds\n"
     ]
    }
   ],
   "source": [
    "with TemporaryDirectory(prefix=\"sklearn_graph_cache_\") as tmpdir:\n",
    "    pipeline = Pipeline([\n",
    "        ('svm' , LinearSVC()) \n",
    "    ] , memory=tmpdir)\n",
    "    \n",
    "    grid_param = {\n",
    "        'svm__dual' : [True, False],\n",
    "        'svm__C' : [0.1,1.0,5.0,10.0,100.0]\n",
    "    }\n",
    "    t0 =time.time()\n",
    "    print('Started at'  , time.strftime(\"%H:%M:%S\", time.localtime()))\n",
    "    grid_search = GridSearchCV(pipeline, grid_param, n_jobs=-1, verbose=2).fit(X1,y1)\n",
    "    print(f'Done at {time.strftime(\"%H:%M:%S\", time.localtime())} took {str(time.time()-t0)} seconds')"
   ]
  },
  {
   "cell_type": "code",
   "execution_count": 14,
   "id": "primary-mentor",
   "metadata": {},
   "outputs": [
    {
     "data": {
      "text/plain": [
       "LinearSVC(C=0.1)"
      ]
     },
     "execution_count": 14,
     "metadata": {},
     "output_type": "execute_result"
    }
   ],
   "source": [
    "svm= grid_search.best_estimator_[0]\n",
    "svm"
   ]
  },
  {
   "cell_type": "code",
   "execution_count": 15,
   "id": "pressing-connectivity",
   "metadata": {},
   "outputs": [],
   "source": [
    "ye=svm.predict(X2)"
   ]
  },
  {
   "cell_type": "code",
   "execution_count": 16,
   "id": "dutch-romance",
   "metadata": {
    "scrolled": true
   },
   "outputs": [
    {
     "name": "stdout",
     "output_type": "stream",
     "text": [
      "N erros(teste): 5622\n",
      "Matriz confusao\n",
      " [[1874   14   36   56   14   10    1  102]\n",
      " [ 647   27   43   84   13   18    1   85]\n",
      " [ 512   27   76  205   30   30    5   93]\n",
      " [ 378   28   87  298   65   67    9  161]\n",
      " [  78    1   28   79  188  210   16  342]\n",
      " [  59    0    9   34  123  208   26  634]\n",
      " [  51    1    6   13   42  109   12  616]\n",
      " [  96    3    7   21   46  120   31 1695]] \n",
      "\n",
      "Linear SVC Score train:  0.7755333333333333\n",
      "Linear SVC Score test:  0.4378\n"
     ]
    }
   ],
   "source": [
    "print('N erros(teste):',np.sum(y2!=ye))\n",
    "conf_matrix = confusion_matrix(y2,ye)\n",
    "print('Matriz confusao\\n' , conf_matrix,  '\\n')\n",
    "print(\"Linear SVC Score train: \", svm.score(X1,y1))\n",
    "print(\"Linear SVC Score test: \", svm.score(X2,y2))"
   ]
  },
  {
   "cell_type": "code",
   "execution_count": 17,
   "id": "becoming-battle",
   "metadata": {},
   "outputs": [
    {
     "data": {
      "image/png": "[encoded data removed]",
      "text/plain": [
       "<Figure size 432x288 with 1 Axes>"
      ]
     },
     "metadata": {
      "needs_background": "light"
     },
     "output_type": "display_data"
    }
   ],
   "source": [
    "plot_against_score(grid_search.cv_results_,'param_svm__C')"
   ]
  },
  {
   "cell_type": "markdown",
   "id": "handed-courage",
   "metadata": {},
   "source": [
    "Os resultados de treino e teste são bastantes dispares. O classificador pode-se dizer que se encontra em sobre aprendizagem. Através de reducao do criterio de regularizacao poderiamos mitigar este problema, no entanto os resultados de teste seriam tambem piores."
   ]
  },
  {
   "cell_type": "markdown",
   "id": "invalid-still",
   "metadata": {},
   "source": [
    "# Ridge (boolean)"
   ]
  },
  {
   "cell_type": "code",
   "execution_count": 18,
   "id": "unnecessary-collar",
   "metadata": {},
   "outputs": [],
   "source": [
    "X1,X2,y1,y2=train_test_split(vector,y_boolean,test_size=1/5)"
   ]
  },
  {
   "cell_type": "code",
   "execution_count": 19,
   "id": "young-packing",
   "metadata": {},
   "outputs": [
    {
     "name": "stdout",
     "output_type": "stream",
     "text": [
      "Started at 18:57:18\n",
      "Fitting 5 folds for each of 10 candidates, totalling 50 fits\n"
     ]
    },
    {
     "name": "stderr",
     "output_type": "stream",
     "text": [
      "[Parallel(n_jobs=-1)]: Using backend LokyBackend with 8 concurrent workers.\n",
      "[Parallel(n_jobs=-1)]: Done  25 tasks      | elapsed:   13.7s\n",
      "[Parallel(n_jobs=-1)]: Done  50 out of  50 | elapsed:   19.6s finished\n"
     ]
    },
    {
     "name": "stdout",
     "output_type": "stream",
     "text": [
      "Done at 18:57:39 took 21.10773730278015 seconds\n"
     ]
    }
   ],
   "source": [
    "with TemporaryDirectory(prefix=\"sklearn_graph_cache_\") as tmpdir:\n",
    "    pipeline = Pipeline([\n",
    "        ('ridge' , RidgeClassifier()) \n",
    "    ] , memory=tmpdir)\n",
    "    \n",
    "    grid_param = {\n",
    "        'ridge__alpha' : [0.1,1.0,5.0,10.0,100.0],\n",
    "        'ridge__normalize':[True, False]\n",
    "    }\n",
    "    t0 =time.time()\n",
    "    print('Started at'  , time.strftime(\"%H:%M:%S\", time.localtime()))\n",
    "    grid_search = GridSearchCV(pipeline, grid_param, n_jobs=-1, verbose=2).fit(X1,y1)\n",
    "    print(f'Done at {time.strftime(\"%H:%M:%S\", time.localtime())} took {str(time.time()-t0)} seconds')"
   ]
  },
  {
   "cell_type": "code",
   "execution_count": 20,
   "id": "middle-reduction",
   "metadata": {},
   "outputs": [
    {
     "data": {
      "text/plain": [
       "RidgeClassifier()"
      ]
     },
     "execution_count": 20,
     "metadata": {},
     "output_type": "execute_result"
    }
   ],
   "source": [
    "ridge= grid_search.best_estimator_[0]\n",
    "ridge"
   ]
  },
  {
   "cell_type": "code",
   "execution_count": 21,
   "id": "aggressive-dress",
   "metadata": {},
   "outputs": [],
   "source": [
    "ye=ridge.predict(X2)"
   ]
  },
  {
   "cell_type": "code",
   "execution_count": 22,
   "id": "southern-israel",
   "metadata": {},
   "outputs": [
    {
     "name": "stdout",
     "output_type": "stream",
     "text": [
      "N erros(teste): 758\n",
      "Ridge Score train:  0.99534375\n",
      "Ridge SVC Score test:  0.90525\n"
     ]
    }
   ],
   "source": [
    "print('N erros(teste):',np.sum(y2!=ye))\n",
    "print(\"Ridge Score train: \", ridge.score(X1,y1))\n",
    "print(\"Ridge SVC Score test: \", ridge.score(X2,y2))"
   ]
  },
  {
   "cell_type": "code",
   "execution_count": 23,
   "id": "underlying-relations",
   "metadata": {},
   "outputs": [
    {
     "data": {
      "text/plain": [
       "dict_keys(['mean_fit_time', 'std_fit_time', 'mean_score_time', 'std_score_time', 'param_ridge__alpha', 'param_ridge__normalize', 'params', 'split0_test_score', 'split1_test_score', 'split2_test_score', 'split3_test_score', 'split4_test_score', 'mean_test_score', 'std_test_score', 'rank_test_score'])"
      ]
     },
     "execution_count": 23,
     "metadata": {},
     "output_type": "execute_result"
    }
   ],
   "source": [
    "grid_search.cv_results_.keys()"
   ]
  },
  {
   "cell_type": "code",
   "execution_count": 26,
   "id": "consolidated-suicide",
   "metadata": {},
   "outputs": [
    {
     "data": {
      "image/png": "[encoded data removed]",
      "text/plain": [
       "<Figure size 432x288 with 1 Axes>"
      ]
     },
     "metadata": {
      "needs_background": "light"
     },
     "output_type": "display_data"
    }
   ],
   "source": [
    "plot_against_score(grid_search.cv_results_,'param_ridge__alpha')"
   ]
  },
  {
   "cell_type": "markdown",
   "id": "numerous-bernard",
   "metadata": {},
   "source": [
    "# Ridge (multiclasse)"
   ]
  },
  {
   "cell_type": "code",
   "execution_count": 27,
   "id": "weighted-strain",
   "metadata": {},
   "outputs": [],
   "source": [
    "X1,X2,y1,y2=train_test_split(vector,y,test_size=1/5)"
   ]
  },
  {
   "cell_type": "code",
   "execution_count": 28,
   "id": "historical-decimal",
   "metadata": {},
   "outputs": [
    {
     "name": "stdout",
     "output_type": "stream",
     "text": [
      "Started at 18:59:02\n",
      "Fitting 5 folds for each of 5 candidates, totalling 25 fits\n"
     ]
    },
    {
     "name": "stderr",
     "output_type": "stream",
     "text": [
      "[Parallel(n_jobs=-1)]: Using backend LokyBackend with 8 concurrent workers.\n",
      "[Parallel(n_jobs=-1)]: Done  23 out of  25 | elapsed:  1.2min remaining:    6.3s\n",
      "[Parallel(n_jobs=-1)]: Done  25 out of  25 | elapsed:  1.2min finished\n"
     ]
    },
    {
     "name": "stdout",
     "output_type": "stream",
     "text": [
      "Done at 19:00:20 took 77.84582901000977 seconds\n"
     ]
    }
   ],
   "source": [
    "with TemporaryDirectory(prefix=\"sklearn_graph_cache_\") as tmpdir:\n",
    "    pipeline = Pipeline([\n",
    "        ('ridge' , RidgeClassifier()) \n",
    "    ] , memory=tmpdir)\n",
    "    \n",
    "    grid_param = {\n",
    "        'ridge__alpha' : [0.1,1.0,5.0,10.0,100.0],\n",
    "    }\n",
    "    t0 =time.time()\n",
    "    print('Started at'  , time.strftime(\"%H:%M:%S\", time.localtime()))\n",
    "    grid_search = GridSearchCV(pipeline, grid_param, n_jobs=-1, verbose=2).fit(X1,y1)\n",
    "    print(f'Done at {time.strftime(\"%H:%M:%S\", time.localtime())} took {str(time.time()-t0)} seconds')"
   ]
  },
  {
   "cell_type": "code",
   "execution_count": 29,
   "id": "secondary-picture",
   "metadata": {},
   "outputs": [
    {
     "data": {
      "text/plain": [
       "RidgeClassifier(alpha=5.0)"
      ]
     },
     "execution_count": 29,
     "metadata": {},
     "output_type": "execute_result"
    }
   ],
   "source": [
    "ridge= grid_search.best_estimator_[0]\n",
    "ridge"
   ]
  },
  {
   "cell_type": "code",
   "execution_count": 30,
   "id": "detailed-grave",
   "metadata": {},
   "outputs": [],
   "source": [
    "ye=ridge.predict(X2)"
   ]
  },
  {
   "cell_type": "code",
   "execution_count": 44,
   "id": "governmental-judges",
   "metadata": {
    "scrolled": false
   },
   "outputs": [
    {
     "name": "stdout",
     "output_type": "stream",
     "text": [
      "N erros(teste): 4495\n",
      "Matriz confusao\n",
      " [[1495   15   18   39    4    6    1   98]\n",
      " [ 511   18   35   65   15    4    3   72]\n",
      " [ 442   18   59  145   25   14    7   93]\n",
      " [ 306    4   72  247   50   39    3  118]\n",
      " [  47    2    7   60  159  152    7  304]\n",
      " [  62    2    6   39   95  150   17  545]\n",
      " [  41    0    4   14   41   88   13  528]\n",
      " [  80    3    5   13   38   58   15 1364]] \n",
      "\n",
      "Ridge Score train:  0.76809375\n",
      "Ridge SVC Score test:  0.438125\n"
     ]
    }
   ],
   "source": [
    "print('N erros(teste):',np.sum(y2!=ye))\n",
    "print('Matriz confusao\\n' , confusion_matrix(y2,ye), '\\n')\n",
    "print(\"Ridge Score train: \", ridge.score(X1,y1))\n",
    "print(\"Ridge SVC Score test: \", ridge.score(X2,y2))"
   ]
  },
  {
   "cell_type": "code",
   "execution_count": 32,
   "id": "liberal-wallpaper",
   "metadata": {},
   "outputs": [
    {
     "data": {
      "image/png": "[encoded data removed]",
      "text/plain": [
       "<Figure size 432x288 with 1 Axes>"
      ]
     },
     "metadata": {
      "needs_background": "light"
     },
     "output_type": "display_data"
    }
   ],
   "source": [
    "plot_against_score(grid_search.cv_results_,'param_ridge__alpha')"
   ]
  },
  {
   "cell_type": "markdown",
   "id": "super-archives",
   "metadata": {},
   "source": [
    "Para os classificadores testados, podemos analizar pelos plots que os valores relativamente mais baixos do alpha têm uma regularização mais forte e vão originar melhores resultados."
   ]
  },
  {
   "cell_type": "code",
   "execution_count": 45,
   "id": "bronze-health",
   "metadata": {},
   "outputs": [],
   "source": [
    "with open('RidgeMultidump.p', 'wb') as f:\n",
    "    pickle.dump(ridge, f)"
   ]
  },
  {
   "cell_type": "markdown",
   "id": "twenty-ordinance",
   "metadata": {},
   "source": [
    "### MultinomialNB ( ‘Naive Bayes' ) (Multiclasse)"
   ]
  },
  {
   "cell_type": "code",
   "execution_count": 66,
   "id": "coastal-stations",
   "metadata": {},
   "outputs": [],
   "source": [
    "X1,X2,y1,y2=train_test_split(vector,y,test_size=1/4)"
   ]
  },
  {
   "cell_type": "code",
   "execution_count": 83,
   "id": "ongoing-glass",
   "metadata": {},
   "outputs": [
    {
     "name": "stdout",
     "output_type": "stream",
     "text": [
      "Started at 16:16:16\n",
      "Fitting 5 folds for each of 3 candidates, totalling 15 fits\n"
     ]
    },
    {
     "name": "stderr",
     "output_type": "stream",
     "text": [
      "[Parallel(n_jobs=-1)]: Using backend LokyBackend with 4 concurrent workers.\n",
      "[Parallel(n_jobs=-1)]: Done  15 out of  15 | elapsed:    1.2s finished\n"
     ]
    },
    {
     "name": "stdout",
     "output_type": "stream",
     "text": [
      "Done at 16:16:18 took 1.6507184505462646 seconds\n"
     ]
    }
   ],
   "source": [
    "with TemporaryDirectory(prefix=\"sklearn_graph_cache_\") as tmpdir:\n",
    "    pipeline = Pipeline([\n",
    "        ('multinb' , MultinomialNB()) \n",
    "    ] , memory=tmpdir)\n",
    "    \n",
    "    grid_param = {\n",
    "        'multinb__alpha' : [0.1, 1, 10]\n",
    "    }\n",
    "    t0 =time.time()\n",
    "    print('Started at'  , time.strftime(\"%H:%M:%S\", time.localtime()))\n",
    "    grid_search = GridSearchCV(pipeline, grid_param, n_jobs=-1, verbose=2).fit(X1,y1)\n",
    "    print(f'Done at {time.strftime(\"%H:%M:%S\", time.localtime())} took {str(time.time()-t0)} seconds')"
   ]
  },
  {
   "cell_type": "code",
   "execution_count": 84,
   "id": "smooth-formation",
   "metadata": {
    "scrolled": true
   },
   "outputs": [
    {
     "data": {
      "text/plain": [
       "MultinomialNB(alpha=0.1)"
      ]
     },
     "execution_count": 84,
     "metadata": {},
     "output_type": "execute_result"
    }
   ],
   "source": [
    "multinb= grid_search.best_estimator_[0]\n",
    "multinb"
   ]
  },
  {
   "cell_type": "code",
   "execution_count": 85,
   "id": "prime-designer",
   "metadata": {},
   "outputs": [],
   "source": [
    "y2e = multinb.predict(X2)"
   ]
  },
  {
   "cell_type": "code",
   "execution_count": 86,
   "id": "laughing-diploma",
   "metadata": {
    "scrolled": false
   },
   "outputs": [
    {
     "name": "stdout",
     "output_type": "stream",
     "text": [
      "N erros(teste): 5843\n",
      "Matriz confusao\n",
      " [[   0    0    0    0    0    0    0    0    0]\n",
      " [1009 1007    0    0    0    0    0    0    0]\n",
      " [ 473  481    0    0    0    0    0    0    0]\n",
      " [ 491  508    0    0    0    0    0    0    0]\n",
      " [ 529  562    0    0    0    0    0    0    0]\n",
      " [ 478  444    0    0    0    0    0    0    0]\n",
      " [ 553  609    0    0    0    0    0    0    0]\n",
      " [ 423  452    0    0    0    0    0    0    0]\n",
      " [ 960 1021    0    0    0    0    0    0    0]] \n",
      "\n",
      "Score  0.4157\n"
     ]
    }
   ],
   "source": [
    "print('N erros(teste):',np.sum(y2!=y2e))\n",
    "print('Matriz confusao\\n' , confusion_matrix(y2,ye), '\\n')\n",
    "print('Score ', multinb.score(X2, y2))"
   ]
  },
  {
   "cell_type": "markdown",
   "id": "interstate-cycle",
   "metadata": {},
   "source": [
    "### MultinomialNB ( ‘Naive Bayes' ) (Boolean)"
   ]
  },
  {
   "cell_type": "code",
   "execution_count": 71,
   "id": "cheap-picture",
   "metadata": {},
   "outputs": [],
   "source": [
    "X1,X2,y1,y2=train_test_split(vector,y_boolean,test_size=1/4)"
   ]
  },
  {
   "cell_type": "code",
   "execution_count": 72,
   "id": "accepting-wright",
   "metadata": {},
   "outputs": [
    {
     "name": "stdout",
     "output_type": "stream",
     "text": [
      "Started at 16:01:45\n",
      "Fitting 5 folds for each of 3 candidates, totalling 15 fits\n"
     ]
    },
    {
     "name": "stderr",
     "output_type": "stream",
     "text": [
      "[Parallel(n_jobs=-1)]: Using backend LokyBackend with 4 concurrent workers.\n",
      "[Parallel(n_jobs=-1)]: Done  15 out of  15 | elapsed:    0.8s finished\n"
     ]
    },
    {
     "name": "stdout",
     "output_type": "stream",
     "text": [
      "Done at 16:01:46 took 1.3420095443725586 seconds\n"
     ]
    }
   ],
   "source": [
    "with TemporaryDirectory(prefix=\"sklearn_graph_cache_\") as tmpdir:\n",
    "    pipeline = Pipeline([\n",
    "        ('multinb' , MultinomialNB()) \n",
    "    ] , memory=tmpdir)\n",
    "    \n",
    "    grid_param = {\n",
    "        'multinb__alpha' : [0.1, 1, 10]\n",
    "    }\n",
    "    t0 =time.time()\n",
    "    print('Started at'  , time.strftime(\"%H:%M:%S\", time.localtime()))\n",
    "    grid_search = GridSearchCV(pipeline, grid_param, n_jobs=-1, verbose=2).fit(X1,y1)\n",
    "    print(f'Done at {time.strftime(\"%H:%M:%S\", time.localtime())} took {str(time.time()-t0)} seconds')"
   ]
  },
  {
   "cell_type": "code",
   "execution_count": 73,
   "id": "rational-validity",
   "metadata": {},
   "outputs": [
    {
     "data": {
      "text/plain": [
       "MultinomialNB(alpha=1)"
      ]
     },
     "execution_count": 73,
     "metadata": {},
     "output_type": "execute_result"
    }
   ],
   "source": [
    "multinb= grid_search.best_estimator_[0]\n",
    "multinb"
   ]
  },
  {
   "cell_type": "code",
   "execution_count": 74,
   "id": "announced-bangladesh",
   "metadata": {},
   "outputs": [],
   "source": [
    "y2e = multinb.predict(X2)"
   ]
  },
  {
   "cell_type": "code",
   "execution_count": 75,
   "id": "spanish-senator",
   "metadata": {},
   "outputs": [
    {
     "name": "stdout",
     "output_type": "stream",
     "text": [
      "N erros(teste): 1190\n",
      "Matriz confusao\n",
      " [[2482 2592]\n",
      " [2434 2492]] \n",
      "\n",
      "Score  0.881\n"
     ]
    }
   ],
   "source": [
    "print('N erros(teste):',np.sum(y2!=y2e))\n",
    "print('Matriz confusao\\n' , confusion_matrix(y2,ye), '\\n')\n",
    "print('Score ', multinb.score(X2, y2))"
   ]
  },
  {
   "cell_type": "markdown",
   "id": "alternative-living",
   "metadata": {},
   "source": [
    "### SGB (Multiclasse)"
   ]
  },
  {
   "cell_type": "code",
   "execution_count": 76,
   "id": "efficient-metropolitan",
   "metadata": {},
   "outputs": [],
   "source": [
    "X1,X2,y1,y2=train_test_split(vector,y,test_size=1/4)"
   ]
  },
  {
   "cell_type": "code",
   "execution_count": 87,
   "id": "infrared-princeton",
   "metadata": {},
   "outputs": [
    {
     "name": "stdout",
     "output_type": "stream",
     "text": [
      "Started at 16:16:48\n",
      "Fitting 5 folds for each of 5 candidates, totalling 25 fits\n"
     ]
    },
    {
     "name": "stderr",
     "output_type": "stream",
     "text": [
      "[Parallel(n_jobs=-1)]: Using backend LokyBackend with 4 concurrent workers.\n",
      "[Parallel(n_jobs=-1)]: Done  25 out of  25 | elapsed:   16.8s finished\n"
     ]
    },
    {
     "name": "stdout",
     "output_type": "stream",
     "text": [
      "Done at 16:17:06 took 18.59254217147827 seconds\n"
     ]
    }
   ],
   "source": [
    "from sklearn.linear_model import SGDClassifier\n",
    "with TemporaryDirectory(prefix=\"sklearn_graph_cache_\") as tmpdir:\n",
    "    pipeline = Pipeline([\n",
    "        ('sgd' , SGDClassifier(early_stopping=True)) \n",
    "    ] , memory=tmpdir)\n",
    "    \n",
    "    grid_param = {\n",
    "        'sgd__alpha' : [0.0001, 0.01 , 0.1, 1, 10]\n",
    "    }\n",
    "    t0 =time.time()\n",
    "    print('Started at'  , time.strftime(\"%H:%M:%S\", time.localtime()))\n",
    "    grid_search = GridSearchCV(pipeline, grid_param, n_jobs=-1, verbose=2).fit(X1,y1)\n",
    "    print(f'Done at {time.strftime(\"%H:%M:%S\", time.localtime())} took {str(time.time()-t0)} seconds')"
   ]
  },
  {
   "cell_type": "code",
   "execution_count": 88,
   "id": "interracial-rabbit",
   "metadata": {},
   "outputs": [
    {
     "data": {
      "text/plain": [
       "SGDClassifier(early_stopping=True)"
      ]
     },
     "execution_count": 88,
     "metadata": {},
     "output_type": "execute_result"
    }
   ],
   "source": [
    "SGB= grid_search.best_estimator_[0]\n",
    "SGB"
   ]
  },
  {
   "cell_type": "code",
   "execution_count": 89,
   "id": "awful-austin",
   "metadata": {
    "scrolled": true
   },
   "outputs": [
    {
     "name": "stdout",
     "output_type": "stream",
     "text": [
      "N erros(teste): 5790\n",
      "Matriz confusao\n",
      " [[   0    0    0    0    0    0    0    0    0]\n",
      " [1009 1007    0    0    0    0    0    0    0]\n",
      " [ 473  481    0    0    0    0    0    0    0]\n",
      " [ 491  508    0    0    0    0    0    0    0]\n",
      " [ 529  562    0    0    0    0    0    0    0]\n",
      " [ 478  444    0    0    0    0    0    0    0]\n",
      " [ 553  609    0    0    0    0    0    0    0]\n",
      " [ 423  452    0    0    0    0    0    0    0]\n",
      " [ 960 1021    0    0    0    0    0    0    0]] \n",
      "\n",
      "Score  0.421\n"
     ]
    }
   ],
   "source": [
    "y2e = SGB.predict(X2)\n",
    "print('N erros(teste):',np.sum(y2!=y2e))\n",
    "print('Matriz confusao\\n' , confusion_matrix(y2,ye), '\\n')\n",
    "print('Score ', SGB.score(X2, y2))"
   ]
  },
  {
   "cell_type": "markdown",
   "id": "unable-pilot",
   "metadata": {},
   "source": [
    "O mesmo erro que ocorreu na classificacao de MultiNB ocorreu aqui. Acredito que é devido ao formato presente na matriz TF-IDF pois estes classificadores utilizam dados inteiros.  "
   ]
  },
  {
   "cell_type": "markdown",
   "id": "common-elephant",
   "metadata": {},
   "source": [
    "## Decomposição em componentes principais\n",
    "\n",
    "Temos 40000 documentos, com 170000 tokens, logo para reduzir a complixidade usamos LDA. A LDA remove os componentes com pouco relevo."
   ]
  },
  {
   "cell_type": "code",
   "execution_count": 11,
   "id": "overhead-waterproof",
   "metadata": {
    "scrolled": true
   },
   "outputs": [
    {
     "data": {
      "text/plain": [
       "(40000, 174366)"
      ]
     },
     "execution_count": 11,
     "metadata": {},
     "output_type": "execute_result"
    }
   ],
   "source": [
    "vector.shape"
   ]
  },
  {
   "cell_type": "code",
   "execution_count": 12,
   "id": "dedicated-gender",
   "metadata": {},
   "outputs": [],
   "source": [
    "pca = TruncatedSVD(n_components=100).fit(vector)"
   ]
  },
  {
   "cell_type": "code",
   "execution_count": 13,
   "id": "curious-mechanics",
   "metadata": {},
   "outputs": [
    {
     "data": {
      "text/plain": [
       "0.05306962949947875"
      ]
     },
     "execution_count": 13,
     "metadata": {},
     "output_type": "execute_result"
    }
   ],
   "source": [
    "sum(pca.explained_variance_ratio_)"
   ]
  },
  {
   "cell_type": "code",
   "execution_count": 54,
   "id": "biological-investment",
   "metadata": {},
   "outputs": [],
   "source": [
    "with open('pca_dump.p' ,'wb') as f:\n",
    "    pickle.dump(pca , f)"
   ]
  },
  {
   "cell_type": "code",
   "execution_count": 56,
   "id": "impaired-fellowship",
   "metadata": {},
   "outputs": [
    {
     "name": "stdout",
     "output_type": "stream",
     "text": [
      "Num Componentes    10 ||  Variance  0.0099617900\n",
      "Num Componentes    20 ||  Variance  0.0162114546\n",
      "Num Componentes    30 ||  Variance  0.0216348239\n",
      "Num Componentes    50 ||  Variance  0.0305994647\n",
      "Num Componentes   100 ||  Variance  0.0489051279\n",
      "Num Componentes   200 ||  Variance  0.0780041568\n",
      "Num Componentes   300 ||  Variance  0.1019431901\n",
      "Num Componentes   500 ||  Variance  0.1415056050\n",
      "Num Componentes  1000 ||  Variance  0.2134037217\n",
      "Num Componentes  1500 ||  Variance  0.2654003144\n"
     ]
    }
   ],
   "source": [
    "lista = [10,20,30,50,100,200,300,500,1000,1500]\n",
    "variance_sum =[]\n",
    "for n_comps in lista:\n",
    "    pca = TruncatedSVD(n_components=n_comps, n_iter=2, ).fit(vector)\n",
    "    variance_sum.append(pca.explained_variance_ratio_.sum())\n",
    "    print(f'Num Componentes {n_comps : >5} ||  Variance { variance_sum[-1]: .10f}')"
   ]
  },
  {
   "cell_type": "code",
   "execution_count": 57,
   "id": "incredible-mirror",
   "metadata": {},
   "outputs": [
    {
     "data": {
      "image/png": "[encoded data removed]",
      "text/plain": [
       "<Figure size 432x288 with 1 Axes>"
      ]
     },
     "metadata": {
      "needs_background": "light"
     },
     "output_type": "display_data"
    }
   ],
   "source": [
    "plt.plot(lista, variance_sum, marker='o')\n",
    "plt.plot([lista[0], lista[-1]] , [variance_sum[0], variance_sum[-1]])\n",
    "\n",
    "plt.xlabel('Numero componentes')\n",
    "plt.xticks(lista)\n",
    "plt.ylabel('variance')\n",
    "plt.title('Variancia por numero de componentes')\n",
    "plt.grid(True)"
   ]
  },
  {
   "cell_type": "code",
   "execution_count": null,
   "id": "charged-royalty",
   "metadata": {
    "scrolled": true
   },
   "outputs": [],
   "source": [
    "with open('pca_dump.p' , 'rb') as f:\n",
    "    global pca\n",
    "    pca = pickle.load(f)"
   ]
  },
  {
   "cell_type": "code",
   "execution_count": 14,
   "id": "quantitative-three",
   "metadata": {},
   "outputs": [
    {
     "data": {
      "text/plain": [
       "(40000, 100)"
      ]
     },
     "execution_count": 14,
     "metadata": {},
     "output_type": "execute_result"
    }
   ],
   "source": [
    "vec = pca.transform(vector)\n",
    "vec.shape"
   ]
  },
  {
   "cell_type": "code",
   "execution_count": null,
   "id": "passive-works",
   "metadata": {},
   "outputs": [],
   "source": [
    "dl = LogisticRegressionCV(Cs=3, max_iter=1000, multi_class='auto', n_jobs=-1, penalty='l2', solver='saga', \n",
    "                     tol=0.001).fit(vec, y_boolean)\n",
    "print(dl.score(vec, y_boolean))\n",
    "for target, score in dl.scores_.items():\n",
    "    print(f'Class {target} \\nScore {score}\\n\\n')"
   ]
  },
  {
   "cell_type": "code",
   "execution_count": null,
   "id": "north-astrology",
   "metadata": {
    "collapsed": true,
    "jupyter": {
     "outputs_hidden": true
    }
   },
   "outputs": [],
   "source": [
    "dl = LogisticRegressionCV(Cs=3, max_iter=1000,  n_jobs=-1, penalty='l2', solver='saga', \n",
    "                     tol=0.001).fit(vec, y)\n",
    "print(dl.score(vec, y))\n",
    "for target, score in dl.scores_.items():\n",
    "    print(f'Class {target} \\nScores\\n{score}\\n\\n')"
   ]
  },
  {
   "cell_type": "markdown",
   "id": "electoral-malawi",
   "metadata": {},
   "source": [
    "# Clustering\n",
    "\n",
    "Depois de termos os componentes principais podemos partir para o clustering"
   ]
  },
  {
   "cell_type": "markdown",
   "id": "cultural-horizontal",
   "metadata": {},
   "source": [
    "## Clustering, demora um bocado. Tipo 20 minutos para 100 componentes\n",
    "Ajuda a calcular o numero de cluster otimo, entre 8 e max_k"
   ]
  },
  {
   "cell_type": "code",
   "execution_count": 15,
   "id": "speaking-whale",
   "metadata": {},
   "outputs": [],
   "source": [
    "x_train, x_test, y_train, y_test = train_test_split(vec, y, test_size=1/4)"
   ]
  },
  {
   "cell_type": "code",
   "execution_count": 16,
   "id": "banner-empire",
   "metadata": {},
   "outputs": [
    {
     "name": "stdout",
     "output_type": "stream",
     "text": [
      "8: 0.019714199472521954\n",
      "12: 0.005379266714503267\n",
      "17: 0.013010012316078684\n",
      "22: 0.008064320152068491\n",
      "27: 0.011583555681538606\n",
      "32: 0.007882530686771375\n",
      "37: 0.00811040891061277\n",
      "41: 0.006747119322487197\n",
      "46: 0.006507465118082415\n",
      "51: 0.008966913297589155\n",
      "56: 0.0022642073470701112\n",
      "61: 0.004019441027423106\n",
      "66: 0.0027766422771776907\n",
      "70: 0.002307179928594244\n",
      "75: 0.004563136409926237\n",
      "80: 0.0029174349067152823\n",
      "85: 0.00023025600964114872\n",
      "90: -0.0025541418282769455\n",
      "95: -0.0007012023674260551\n",
      "100: -0.0025402782608364145\n"
     ]
    }
   ],
   "source": [
    "min_k = len(np.unique(y))\n",
    "max_k = 100\n",
    "indx = np.linspace(min_k,max_k, num=20, dtype=np.uint8)\n",
    "sse = []\n",
    "\n",
    "for k in indx:\n",
    "    kmeans = KMeans(n_clusters = k)\n",
    "\n",
    "    sse.append(kmeans.fit(x_train).inertia_)\n",
    "    print (str(k) + \": \"+ str(silhouette_score(x_train, kmeans.labels_, metric='euclidean')))"
   ]
  },
  {
   "cell_type": "code",
   "execution_count": 17,
   "id": "interested-jurisdiction",
   "metadata": {},
   "outputs": [
    {
     "data": {
      "image/png": "[encoded data removed]",
      "text/plain": [
       "<Figure size 432x288 with 1 Axes>"
      ]
     },
     "metadata": {
      "needs_background": "light"
     },
     "output_type": "display_data"
    }
   ],
   "source": [
    "plt.plot(indx, sse, marker='o')\n",
    "plt.plot([min_k, max_k] , [sse[0], sse[len(sse)-1]])\n",
    "\n",
    "\n",
    "plt.xlabel('Clusters Centroides')\n",
    "plt.xticks(indx)\n",
    "plt.ylabel('SSE')\n",
    "plt.title('SSE por número de clusters')\n",
    "plt.grid(True)\n"
   ]
  },
  {
   "cell_type": "code",
   "execution_count": 20,
   "id": "south-salvation",
   "metadata": {},
   "outputs": [
    {
     "name": "stdout",
     "output_type": "stream",
     "text": [
      "41\n"
     ]
    }
   ],
   "source": [
    "x1, y1 = min_k, sse[0]\n",
    "x2, y2 = max_k, sse[len(sse)-1]\n",
    "\n",
    "distances = []\n",
    "for i in range(len(sse)):\n",
    "    x0 = indx[i]\n",
    "    y0 = sse[i]\n",
    "    numerator = abs((y2-y1)*x0 - (x2-x1)*y0 + x2*y1 - y2*x1)\n",
    "    denominator = np.sqrt((y2 - y1)**2 + (x2 - x1)**2)\n",
    "    distances.append(np.round(numerator/denominator , 6))\n",
    "\n",
    "best_n = indx[distances.index(max(distances))]\n",
    "print(best_n)"
   ]
  },
  {
   "cell_type": "code",
   "execution_count": null,
   "id": "devoted-reset",
   "metadata": {},
   "outputs": [],
   "source": [
    "with open('dump_cluster.p ', 'wb') as f:\n",
    "    pickle.dump({\n",
    "        'indx' : indx,\n",
    "        'sse' : sse,\n",
    "        'distances' : distances,\n",
    "        'best_n' : best_n\n",
    "    }, f)"
   ]
  },
  {
   "cell_type": "code",
   "execution_count": 21,
   "id": "close-registration",
   "metadata": {},
   "outputs": [],
   "source": [
    "km = KMeans(n_clusters=best_n).fit(x_train)"
   ]
  },
  {
   "cell_type": "code",
   "execution_count": 22,
   "id": "continent-jefferson",
   "metadata": {},
   "outputs": [
    {
     "name": "stdout",
     "output_type": "stream",
     "text": [
      "Top terms per cluster:\n",
      "Cluster 0: thi movy, lik, watch, just, real, gre, ther, good, wil, becaus,\n",
      "Cluster 1: kid, childr, lik, thi movy, littl, wer, watch, just, adult, par,\n",
      "Cluster 2: vert, origin, mor, thi vert, dvd, oth, bet, jan, novel, play,\n",
      "Cluster 3: bad, thi movy, bad movy, bad act, just, watch, good, real, lik, mak,\n",
      "Cluster 4: charact, story, main, real, ther, plot, lik, main charact, mor, just,\n",
      "Cluster 5: school, high, high school, girl, teen, stud, lik, friend, kid, boy,\n",
      "Cluster 6: book, read, read book, novel, hav read, adapt, charact, thi movy, story, watch,\n",
      "Cluster 7: funny, comedy, laugh, jok, lik, just, thi movy, tim, ther, com,\n",
      "Cluster 8: anim, cartoon, disney, charact, short, littl, voic, lik, story, real,\n",
      "Cluster 9: effect, spec, spec effect, thi movy, good, bad, lik, som, wer, ther,\n",
      "Cluster 10: wast, tim, wast tim, thi movy, money, don, watch, don wast, just, bad,\n",
      "Cluster 11: ther, just, som, lik, real, mak, end, thing, don, scen,\n",
      "Cluster 12: direct, tim, mor, com, ther, just, gre, best, mak, story,\n",
      "Cluster 13: man, direct, tak, story, tim, mor, wel, new, mak, ther,\n",
      "Cluster 14: play, rol, perform, gre, wel, charact, cast, best, real, tim,\n",
      "Cluster 15: gam, thi gam, play, video gam, video, graph, real, bond, level, mario,\n",
      "Cluster 16: vampir, dracul, vampir movy, blood, lot, don, aft, ther, oth, monst,\n",
      "Cluster 17: kil, murd, peopl, ther, ser, just, som, ser kil, aft, real,\n",
      "Cluster 18: zomby, dead, zomby movy, mak, gor, som, liv, bad, fulc, just,\n",
      "Cluster 19: mus, song, sing, dant, lik, gre, play, perform, rock, sound,\n",
      "Cluster 20: sci, spac, aly, monst, ear, som, star, hum, cre, fict,\n",
      "Cluster 21: good, gre, story, thi movy, pretty, real, lik, som, wel, just,\n",
      "Cluster 22: peopl, lif, docu, liv, real, mak, mor, story, wil, view,\n",
      "Cluster 23: fight, art, mart, mart art, scen, fight scen, jacky, good, chan, kung,\n",
      "Cluster 24: budget, low, low budget, lik, just, real, som, thi movy, bad, littl,\n",
      "Cluster 25: dant, song, mus, sing, lov, numb, kel, girl, wel, thi movy,\n",
      "Cluster 26: guy, bad, bad guy, good, thi movy, girl, lik, som, just, ther,\n",
      "Cluster 27: lov, story, thi movy, lov thi, gre, wil, tim, just, beauty, real,\n",
      "Cluster 28: episod, season, thi episod, sery, watch, just, lik, columbo, wer, real,\n",
      "Cluster 29: seen, worst, hav seen, worst movy, thi movy, movy hav, bad, watch, thi worst, mad,\n",
      "Cluster 30: lik, look, look lik, just, mak, lik thi, thi movy, mor, real, ther,\n",
      "Cluster 31: sery, thi sery, episod, charact, mor, watch, lik, real, season, just,\n",
      "Cluster 32: wom, sex, men, young, man, scen, ther, real, lik, oth,\n",
      "Cluster 33: thi film, watch, mak, real, ther, lik, just, som, story, good,\n",
      "Cluster 34: year, old, year old, saw, thi movy, watch, tim, ago, rememb, stil,\n",
      "Cluster 35: hor, hor movy, hor film, fan, good, ther, scary, gor, thi movy, real,\n",
      "Cluster 36: watch, thi movy, watch thi, just, don, tim, lik, mak, want, wil,\n",
      "Cluster 37: real, lik, thi movy, gre, just, story, mor, watch, lif, good,\n",
      "Cluster 38: famy, fath, moth, son, childr, lif, young, lov, daught, liv,\n",
      "Cluster 39: book, read, read book, story, novel, charact, lik, just, wer, good,\n",
      "Cluster 40: war, world, soldy, germ, world war, hist, star, real, scen, mor,\n"
     ]
    }
   ],
   "source": [
    "print(\"Top terms per cluster:\")\n",
    "original_space_centroids = pca.inverse_transform(km.cluster_centers_)\n",
    "order_centroids = original_space_centroids.argsort()[:, ::-1]\n",
    "\n",
    "terms = tfidf.get_feature_names()\n",
    "for i in range(len(km.cluster_centers_)):\n",
    "    print(\"Cluster %d:\" % i, end='')\n",
    "    for ind in order_centroids[i, :10]:\n",
    "        print(' %s' % terms[ind], end=',')\n",
    "    print()"
   ]
  },
  {
   "cell_type": "code",
   "execution_count": null,
   "id": "divine-tonight",
   "metadata": {},
   "outputs": [],
   "source": []
  },
  {
   "cell_type": "code",
   "execution_count": null,
   "id": "becoming-influence",
   "metadata": {},
   "outputs": [],
   "source": []
  },
  {
   "cell_type": "markdown",
   "id": "disciplinary-round",
   "metadata": {},
   "source": [
    "# Bibliografia\n",
    "\n",
    "### Geral\n",
    "- Slides Professor\n",
    "\n",
    "### Pré processamento do texto\n",
    "- https://blog.ekbana.com/pre-processing-text-in-python-ad13ea544dae\n",
    "- https://medium.com/@wenxuan0923/feature-extraction-from-text-using-countvectorizer-tfidfvectorizer-9f74f38f86cc\n",
    "\n",
    "### Escolher o classificador\n",
    "- https://scikit-learn.org/stable/tutorial/machine_learning_map/index.html\n",
    "\n",
    "### Grid Search\n",
    "- https://scikit-learn.org/stable/modules/grid_search.html\n",
    "- https://scikit-learn.org/stable/auto_examples/model_selection/grid_search_text_feature_extraction.html\n",
    "- https://www.youtube.com/watch?v=Gol_qOgRqfA\n",
    "\n",
    "### Pipeline\n",
    "- https://scikit-learn.org/stable/modules/generated/sklearn.pipeline.Pipeline.html#sklearn.pipeline.Pipeline\n",
    "\n",
    "### Clustering\n",
    "- https://medium.com/hanman/data-clustering-what-type-of-movies-are-in-the-imdb-top-250-7ef59372a93b\n",
    "- https://jtemporal.com/kmeans-and-elbow-method/\n",
    "\n",
    "### Naive Bayse\n",
    "- https://scikit-learn.org/stable/modules/generated/sklearn.naive_bayes.MultinomialNB.html\n",
    "\n",
    "### Decomposição PCA/LSA\n",
    "- https://scikit-learn.org/stable/modules/generated/sklearn.decomposition.TruncatedSVD.html#sklearn.decomposition.TruncatedSVD\n",
    "- https://www.datascienceassn.org/sites/default/files/users/user1/lsa_presentation_final.pdf\n",
    "- https://towardsdatascience.com/latent-semantic-analysis-intuition-math-implementation-a194aff870f8"
   ]
  }
 ],
 "metadata": {
  "kernelspec": {
   "display_name": "Python 3",
   "language": "python",
   "name": "python3"
  },
  "language_info": {
   "codemirror_mode": {
    "name": "ipython",
    "version": 3
   },
   "file_extension": ".py",
   "mimetype": "text/x-python",
   "name": "python",
   "nbconvert_exporter": "python",
   "pygments_lexer": "ipython3",
   "version": "3.8.5"
  }
 },
 "nbformat": 4,
 "nbformat_minor": 5
}
