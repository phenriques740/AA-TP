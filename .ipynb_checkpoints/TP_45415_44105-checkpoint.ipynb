{
 "cells": [
  {
   "cell_type": "markdown",
   "id": "running-timeline",
   "metadata": {},
   "source": [
    "# Trabalho Prático Aprendizagem Automática\n"
   ]
  },
  {
   "cell_type": "code",
   "execution_count": 1,
   "id": "cooperative-nitrogen",
   "metadata": {},
   "outputs": [],
   "source": [
    "import re, pickle, time, datetime\n",
    "from tempfile import TemporaryDirectory\n",
    "\n",
    "from sklearn.svm import LinearSVC,SVC\n",
    "\n",
    "import numpy as np\n",
    "\n",
    "from matplotlib import pyplot as plt\n",
    "\n",
    "from sklearn.feature_extraction.text import CountVectorizer, TfidfTransformer, TfidfVectorizer\n",
    "from sklearn.model_selection import train_test_split\n",
    "from sklearn.linear_model import LogisticRegression, LogisticRegressionCV,RidgeClassifier\n",
    "from sklearn.naive_bayes import MultinomialNB\n",
    "from sklearn.multiclass import OneVsRestClassifier\n",
    "from sklearn.preprocessing import Normalizer\n",
    "\n",
    "from sklearn.model_selection import cross_val_score , GridSearchCV , RandomizedSearchCV\n",
    "\n",
    "from sklearn.metrics import confusion_matrix, silhouette_samples, silhouette_score\n",
    "from sklearn.cluster import KMeans, MiniBatchKMeans\n",
    "from sklearn.decomposition import PCA , TruncatedSVD\n",
    "from sklearn.pipeline import Pipeline\n",
    "\n",
    "\n",
    "from nltk.stem import PorterStemmer, SnowballStemmer, LancasterStemmer\n",
    "#Possiveis de serem usadas : numpy, scipy, matplotlib, sklearn, nltk, re e opencv "
   ]
  },
  {
   "cell_type": "markdown",
   "id": "waiting-working",
   "metadata": {},
   "source": [
    "Carregar os ficheiros dump"
   ]
  },
  {
   "cell_type": "code",
   "execution_count": 2,
   "id": "hundred-probe",
   "metadata": {},
   "outputs": [
    {
     "name": "stdout",
     "output_type": "stream",
     "text": [
      "done criticas\n"
     ]
    },
    {
     "name": "stderr",
     "output_type": "stream",
     "text": [
      "C:\\ProgramData\\Anaconda3\\lib\\site-packages\\sklearn\\base.py:329: UserWarning: Trying to unpickle estimator TfidfTransformer from version 0.22.1 when using version 0.23.2. This might lead to breaking code or invalid results. Use at your own risk.\n",
      "  warnings.warn(\n"
     ]
    },
    {
     "name": "stdout",
     "output_type": "stream",
     "text": [
      "done tfidf\n",
      "done docs\n",
      "done\n"
     ]
    },
    {
     "name": "stderr",
     "output_type": "stream",
     "text": [
      "C:\\ProgramData\\Anaconda3\\lib\\site-packages\\sklearn\\base.py:329: UserWarning: Trying to unpickle estimator TfidfVectorizer from version 0.22.1 when using version 0.23.2. This might lead to breaking code or invalid results. Use at your own risk.\n",
      "  warnings.warn(\n"
     ]
    }
   ],
   "source": [
    "with open('imdbCriticas.p', 'rb') as f:\n",
    "    global D, Docs, y\n",
    "    D = pickle.load(f)\n",
    "    Docs = D.data\n",
    "    y = D.target\n",
    "print('done criticas')\n",
    "\n",
    "with open('tfidf_dump.p', 'rb') as f:\n",
    "    global tfidf\n",
    "    tfidf = pickle.load(f)\n",
    "print('done tfidf')\n",
    "\n",
    "with open('docs_dump.p', 'rb') as f:\n",
    "    X = pickle.load(f)\n",
    "print('done docs')\n",
    "\n",
    "with open('vector_dump.p', 'rb') as f:\n",
    "    global vector\n",
    "    vector = pickle.load(f)\n",
    "print('done')"
   ]
  },
  {
   "cell_type": "code",
   "execution_count": 3,
   "id": "architectural-interference",
   "metadata": {
    "scrolled": true
   },
   "outputs": [
    {
     "data": {
      "text/plain": [
       "(40000, 174366)"
      ]
     },
     "execution_count": 3,
     "metadata": {},
     "output_type": "execute_result"
    }
   ],
   "source": [
    "vector.shape"
   ]
  },
  {
   "cell_type": "markdown",
   "id": "productive-aruba",
   "metadata": {},
   "source": [
    "### Quantidade de reviews por categoria\n",
    "Podemos analisar a quantidade de reviews de cada uma das possíveis reviews"
   ]
  },
  {
   "cell_type": "code",
   "execution_count": 4,
   "id": "surprising-girlfriend",
   "metadata": {},
   "outputs": [
    {
     "name": "stdout",
     "output_type": "stream",
     "text": [
      "{1: 8352, 2: 3690, 3: 3923, 4: 4245, 7: 3744, 8: 4529, 9: 3612, 10: 7905}\n"
     ]
    },
    {
     "data": {
      "image/png": "[encoded data removed]",
      "text/plain": [
       "<Figure size 432x288 with 1 Axes>"
      ]
     },
     "metadata": {
      "needs_background": "light"
     },
     "output_type": "display_data"
    }
   ],
   "source": [
    "rating, value=np.unique(y,return_counts=True)\n",
    "print(dict(zip(rating, value)))\n",
    "plt.plot(rating,value,'*r')\n",
    "plt.grid()"
   ]
  },
  {
   "cell_type": "markdown",
   "id": "optional-diana",
   "metadata": {},
   "source": [
    "###  Pré processamento de dados de texto"
   ]
  },
  {
   "cell_type": "markdown",
   "id": "quick-single",
   "metadata": {},
   "source": [
    "Usamos este metodo para préprocessar os dados de texto, e reduzir as palavras tendo em conta os erros de ortografia\n",
    "\n",
    "O stemmer por defeito é o lancaster, porque teve os melhores resultados e se o argumento não corresponder a nenhum outro, este é utilizado"
   ]
  },
  {
   "cell_type": "code",
   "execution_count": 5,
   "id": "cultural-faith",
   "metadata": {},
   "outputs": [],
   "source": [
    "def preProcessDoc(Doc, stemmer = 'lancaster', decode = False):\n",
    "    \"\"\"\n",
    "    Transforma um documento numa forma passivel de ser vetorizada removendo ruido e erros ortograficos\n",
    "    \n",
    "    Parameters\n",
    "    ----------\n",
    "    Doc :str\n",
    "        documento para prá Processar\n",
    "    stemmer : str\n",
    "        stemmer a utilizar, escolher entre porter, snowball, lancaster\n",
    "        defaults to lancaster\n",
    "    decode : boolean\n",
    "        se a string não estiver descodificada, descodifica em formato utf-8\n",
    "        defaults to False\n",
    "    Returns\n",
    "    ---------\n",
    "    str\n",
    "        uma string semelhante á original mas passivel de ser vetorizada para representacao TF-IDF\n",
    "    \"\"\"\n",
    "    stem = {\n",
    "        'porter'   : PorterStemmer(),\n",
    "        'snowball' : SnowballStemmer('english'),\n",
    "        'lancaster': LancasterStemmer()\n",
    "    }\n",
    "    stemFunc = stem.get(stemmer, LancasterStemmer())\n",
    "    if(decode):\n",
    "        Doc = Doc.decode('UTF-8')\n",
    "    Doc = Doc.replace('<br />', ' ')\n",
    "    Doc = re.sub(r'[^a-zA-Z\\u00C0\\u00FF]+', ' ', Doc)\n",
    "    Doc = ' '.join([stemFunc.stem(w) for w in Doc.split()])\n",
    "    return Doc\n",
    "\n",
    "def preProcessDocs(Docs, stemmer='lancaster', decode = False):\n",
    "    \"\"\"\n",
    "    Metodo que pré processa uma lista de strings para uma forma passivel de ser vetorizada para representacao TF-IDF\n",
    "    Não é obrigatório chamar este método para converter para representação, mas é recomendado pois melhora o resultado dos classificadores.\n",
    "    \n",
    "    Parameters\n",
    "    ----------\n",
    "    Doc : list of str\n",
    "        documento para prá Processar\n",
    "    stemmer : str\n",
    "        stemmer a utilizar, escolher entre porter, snowball, lancaster\n",
    "        defaults to lancaster\n",
    "    decode : boolean\n",
    "        se a string não estiver descodificada, descodifica em formato utf-8\n",
    "        defaults to False\n",
    "    \n",
    "    Returns\n",
    "    ---------\n",
    "    list\n",
    "        lista com strings preproprecessadas\n",
    "    \n",
    "    See Also\n",
    "    ---------\n",
    "    preProcessDoc : Método que ira processar uma unica string\n",
    "    \"\"\"\n",
    "    \n",
    "    return [preProcessDoc(doc, stemmer, decode) for doc in Docs]\n",
    "\n",
    "def text2vector(Docs, tfidf=None, preProcess = False, stemmer='lancaster', decode=False):\n",
    "    \"\"\"\n",
    "    Transforma uma string ou lista de strings numa matriz de dimensões (len(Docs), len(tfidf.get_feature_names()))\n",
    "    \n",
    "    Parameters\n",
    "    ----------\n",
    "    Docs : list of str\n",
    "        Documentos para vetorizar. Cada documento irá corresponder a uma linha da nova matriz\n",
    "    \n",
    "    tfidf : TfidfVectorizer\n",
    "        Transformador a utilizar para criar a matriz termo dos documentos. \n",
    "        Defaults to None , neste caso importa um transformador previamente treinado.\n",
    "    \n",
    "    preProcess : boolean\n",
    "        Se os documentos devem ser pré processados antes de serem transformados na matriz-termo\n",
    "    \n",
    "    See Also\n",
    "    ---------\n",
    "    preProcessDocs : Metodo que irá pre processar um conjunto de string\n",
    "    preProcessDoc : Método que ira pre processar uma unica string\n",
    "    \"\"\"\n",
    "    \n",
    "    if(preProcess):\n",
    "        Docs = preProcessDocs(Docs, stemmer=stemmer, decode=decode)\n",
    "    \n",
    "    if(tfidf==None):\n",
    "        tfidf = pickle.load(open('tfidf_dump.p','rb'))\n",
    "\n",
    "    return tfidf.transform(Docs)\n",
    "\n",
    "def binClassify(X, clf=None):\n",
    "    \"\"\"\n",
    "    Classifica uma matriz de formato (n_components, n_features) em termos de positivo / negativo, tendo em conta o classificador fornecido\n",
    "    \n",
    "    Parameters\n",
    "    ----------\n",
    "    X : np.array or scipy.sparse\n",
    "        Matriz para ser classificada. \n",
    "        Deve ter rigorosamente o mesmo numero de features da matriz utilizada para treinar o classificador.\n",
    "    \n",
    "    clf : SKLearn object that implements predict\n",
    "        Classificador, deve implementar o método predict e ter sido previamente treinado\n",
    "        defaults to None, nesse caso importa um classificador previamente treinado \n",
    "    \"\"\"\n",
    "    if(clf==None):\n",
    "        clf = pickle.load(open('svc_bool_dump.p' , 'rb'))\n",
    "    \n",
    "    return clf.predict(X)\n",
    "\n",
    "def multiClassify(X, clf=None):\n",
    "    \"\"\"\n",
    "    Classifica uma matriz de formato (n_components, n_features) no conjunto de classes do classificador\n",
    "    \n",
    "    Parameters\n",
    "    ----------\n",
    "    X : np.array or scipy.sparse\n",
    "        Matriz para ser classificada. \n",
    "        Deve ter rigorosamente o mesmo numero de features da matriz utilizada para treinar o classificador.\n",
    "    \n",
    "    clf : SKLearn object that implements predict\n",
    "        Classificador, deve implementar o método predict e ter sido previamente treinado\n",
    "        defaults to None, nesse caso importa um classificador previamente treinado \n",
    "    \"\"\"\n",
    "    \n",
    "    if(clf==None):\n",
    "        clf = pickle.load(open('RidgeMultidump.p', 'rb'))\n",
    "    return clf.predict(X)"
   ]
  },
  {
   "cell_type": "markdown",
   "id": "aware-hurricane",
   "metadata": {},
   "source": [
    "## Classificação Binária\n",
    "\n",
    "Converter da escala de 0 a 10, para negativos/positivos"
   ]
  },
  {
   "cell_type": "code",
   "execution_count": 6,
   "id": "attended-subject",
   "metadata": {},
   "outputs": [],
   "source": [
    "y_boolean = [0 if val<5 else 1 for val in y]"
   ]
  },
  {
   "cell_type": "markdown",
   "id": "presidential-advocacy",
   "metadata": {},
   "source": [
    "### Steemers\n",
    "\n",
    "O stemmer reduz uma palavra á sua raiz, ou seja, remove plurais, conjugacao de verbos, etc"
   ]
  },
  {
   "cell_type": "markdown",
   "id": "imported-thread",
   "metadata": {},
   "source": [
    "#### Sem Steeming"
   ]
  },
  {
   "cell_type": "code",
   "execution_count": 7,
   "id": "valuable-lending",
   "metadata": {},
   "outputs": [
    {
     "name": "stdout",
     "output_type": "stream",
     "text": [
      "Token len 40269\n",
      "0.50525\n"
     ]
    }
   ],
   "source": [
    "tfidf_raw = TfidfVectorizer(min_df=3, token_pattern=r'\\b[a-zA-Z]{3,}\\b').fit(Docs)\n",
    "vector = text2vector(X, tfidf=tfidf_raw)\n",
    "dl_raw = LogisticRegression(max_iter = 1000, C=3.3, tol = 1e-3).fit(vector,y_boolean)\n",
    "print('Token len' , len(tfidf_raw.get_feature_names()))\n",
    "print(dl_raw.score(vector, y_boolean))"
   ]
  },
  {
   "cell_type": "markdown",
   "id": "pretty-pressure",
   "metadata": {},
   "source": [
    "#### Porter"
   ]
  },
  {
   "cell_type": "code",
   "execution_count": 8,
   "id": "known-aruba",
   "metadata": {},
   "outputs": [
    {
     "name": "stdout",
     "output_type": "stream",
     "text": [
      "Token len 26773\n",
      "0.945525\n"
     ]
    }
   ],
   "source": [
    "X = preProcessDocs(Docs, stemmer='porter')\n",
    "tfidf_p = TfidfVectorizer(min_df=3, token_pattern=r'\\b[a-zA-Z]{3,}\\b').fit(X)\n",
    "vector = text2vector(X, tfidf=tfidf_p)\n",
    "dl_p = LogisticRegression(max_iter = 1000, C=3.3, tol = 1e-3).fit(vector,y_boolean)\n",
    "print('Token len' , len(tfidf_p.get_feature_names()))\n",
    "print(dl_p.score(vector, y_boolean))"
   ]
  },
  {
   "cell_type": "markdown",
   "id": "current-assistant",
   "metadata": {},
   "source": [
    "#### Snowball"
   ]
  },
  {
   "cell_type": "code",
   "execution_count": 9,
   "id": "behind-bundle",
   "metadata": {},
   "outputs": [
    {
     "name": "stdout",
     "output_type": "stream",
     "text": [
      "Token len 26394\n",
      "0.94535\n"
     ]
    }
   ],
   "source": [
    "X = preProcessDocs(Docs, stemmer='snowball')\n",
    "tfidf_s = TfidfVectorizer(min_df=3, token_pattern=r'\\b[a-zA-Z]{3,}\\b').fit(X)\n",
    "vector = text2vector(X, tfidf=tfidf_s)\n",
    "dl_s = LogisticRegression(max_iter = 1000, C=3.3, tol = 1e-3).fit(vector,y_boolean)\n",
    "print('Token len' , len(tfidf_s.get_feature_names()))\n",
    "print(dl_s.score(vector, y_boolean))"
   ]
  },
  {
   "cell_type": "markdown",
   "id": "abstract-transaction",
   "metadata": {},
   "source": [
    "#### Lancaster"
   ]
  },
  {
   "cell_type": "code",
   "execution_count": 10,
   "id": "patent-profession",
   "metadata": {
    "scrolled": true
   },
   "outputs": [
    {
     "name": "stdout",
     "output_type": "stream",
     "text": [
      "Token len 21883\n",
      "0.939425\n"
     ]
    }
   ],
   "source": [
    "X = preProcessDocs(Docs, stemmer='lancaster')\n",
    "tfidf_l = TfidfVectorizer(min_df=3, token_pattern=r'\\b[a-zA-Z]{3,}\\b').fit(X)\n",
    "vector = text2vector(X, tfidf=tfidf_l)\n",
    "dl_l = LogisticRegression(max_iter = 1000, C=3.3, tol = 1e-3).fit(vector,y_boolean)\n",
    "print('Token len' , len(tfidf_l.get_feature_names()))\n",
    "print(dl_l.score(vector, y_boolean))"
   ]
  },
  {
   "cell_type": "markdown",
   "id": "fitting-number",
   "metadata": {},
   "source": [
    "Comporar documento original com o documento depois de ter sido feito o pré processamento"
   ]
  },
  {
   "cell_type": "code",
   "execution_count": 11,
   "id": "rough-experience",
   "metadata": {
    "scrolled": false
   },
   "outputs": [
    {
     "name": "stdout",
     "output_type": "stream",
     "text": [
      "Original \n",
      " Zero Day leads you to think, even re-think why two boys/young men would do what they did - commit mutual suicide via slaughtering their classmates. It captures what must be beyond a bizarre mode of being for two humans who have decided to withdraw from common civility in order to define their own/mutual world via coupled destruction.<br /><br />It is not a perfect movie but given what money/time the filmmaker and actors had - it is a remarkable product. In terms of explaining the motives and actions of the two young suicide/murderers it is better than 'Elephant' - in terms of being a film that gets under our 'rationalistic' skin it is a far, far better film than almost anything you are likely to see. <br /><br />Flawed but honest with a terrible honesty.\n",
      "\n",
      "Stemmed \n",
      " zero day lead you to think ev re think why two boy young men would do what they did commit mut suicid via slaught their classm it capt what must be beyond a bizar mod of being for two hum who hav decid to withdraw from common civil in ord to defin their own mut world via coupl destruct it is not a perfect movy but giv what money tim the filmmak and act had it is a remark produc in term of explain the mot and act of the two young suicid murd it is bet than eleph in term of being a film that get und our rat skin it is a far far bet film than almost anyth you ar lik to see flaw but honest with a terr honesty\n",
      "\n"
     ]
    }
   ],
   "source": [
    "print(f'Original \\n {Docs[0]}\\n')\n",
    "print(f'Stemmed \\n {X[0]}\\n')"
   ]
  },
  {
   "cell_type": "code",
   "execution_count": 12,
   "id": "failing-witness",
   "metadata": {
    "scrolled": true
   },
   "outputs": [
    {
     "name": "stdout",
     "output_type": "stream",
     "text": [
      "R 44001.42049334827\n",
      "P 28315.486105602708\n",
      "S 27919.818056804357\n",
      "L 23294.036245575753\n"
     ]
    }
   ],
   "source": [
    "print('R' ,40269/0.915175)\n",
    "print('P' ,26773/0.945525)\n",
    "print('S' ,26394/0.94535)\n",
    "print('L' ,21883/0.939425)"
   ]
  },
  {
   "cell_type": "markdown",
   "id": "fiscal-marriage",
   "metadata": {},
   "source": [
    "É possivel ver que o lancaster é o que reduz ao maximo a quantidade de tokens, alem disso vamos optar por utilizar o Lancaster pois precisava de uma quantidade de tokens menores para atingir os teoricos 100% de score."
   ]
  },
  {
   "cell_type": "markdown",
   "id": "compact-picture",
   "metadata": {},
   "source": [
    "## Comparar modelos lineares"
   ]
  },
  {
   "cell_type": "code",
   "execution_count": 13,
   "id": "appreciated-transfer",
   "metadata": {
    "scrolled": true
   },
   "outputs": [],
   "source": [
    "X = preProcessDocs(Docs)\n",
    "## ficheiro auxiliar que guarda o documento preprocessado\n",
    "with open('docs_dump.p', 'wb') as f:\n",
    "    pickle.dump(X, f)"
   ]
  },
  {
   "cell_type": "code",
   "execution_count": 14,
   "id": "convinced-discretion",
   "metadata": {},
   "outputs": [
    {
     "name": "stdout",
     "output_type": "stream",
     "text": [
      "Started at 03:54:17\n",
      "Fitting 5 folds for each of 30 candidates, totalling 150 fits\n"
     ]
    },
    {
     "name": "stderr",
     "output_type": "stream",
     "text": [
      "[Parallel(n_jobs=-1)]: Using backend LokyBackend with 4 concurrent workers.\n",
      "[Parallel(n_jobs=-1)]: Done  24 tasks      | elapsed:  5.7min\n",
      "[Parallel(n_jobs=-1)]: Done 120 tasks      | elapsed: 28.1min\n",
      "[Parallel(n_jobs=-1)]: Done 150 out of 150 | elapsed: 32.8min finished\n"
     ]
    },
    {
     "name": "stdout",
     "output_type": "stream",
     "text": [
      "[Pipeline] ............. (step 1 of 2) Processing tfidf, total=  20.7s\n"
     ]
    },
    {
     "name": "stderr",
     "output_type": "stream",
     "text": [
      "C:\\ProgramData\\Anaconda3\\lib\\site-packages\\sklearn\\pipeline.py:292: UserWarning: Persisting input arguments took 9.24s to run.\n",
      "If this happens often in your code, it can cause performance problems \n",
      "(results will be correct in all cases). \n",
      "The reason for this is probably some large input arguments for a wrapped\n",
      " function (e.g. large strings).\n",
      "THIS IS A JOBLIB ISSUE. If you can, kindly provide the joblib's team with an\n",
      " example so that they can fix the problem.\n",
      "  X, fitted_transformer = fit_transform_one_cached(\n"
     ]
    },
    {
     "name": "stdout",
     "output_type": "stream",
     "text": [
      "[Pipeline] ............... (step 2 of 2) Processing clf, total=   8.6s\n",
      "Done at 04:27:48\n"
     ]
    }
   ],
   "source": [
    "with TemporaryDirectory(prefix=\"sklearn_graph_cache_\") as tmpdir:\n",
    "    global pipeline, grid_param, grid_search\n",
    "    \n",
    "    pipeline =Pipeline([\n",
    "        ('tfidf' , TfidfVectorizer()),\n",
    "        ('clf' , LogisticRegression(max_iter = 1000, tol=1e-3))\n",
    "    ], memory=tmpdir, verbose=True)\n",
    "\n",
    "    grid_param ={\n",
    "        'tfidf__strip_accents' :[None, 'unicode'],\n",
    "        #'tfidf__stop_words' : [None, 'english'],\n",
    "        'tfidf__token_pattern' : [r'\\b\\w{3,}\\b', r'\\b[a-zA-Z]{3,}\\b'], #\n",
    "        'tfidf__min_df' : [3,4,5], #\n",
    "        'tfidf__max_df' : [0.25, 0.5, 0.75], \n",
    "        'tfidf__ngram_range' : [(1,1), (1,2), (1,3) , (2,2)] , # BBBBB\n",
    "        'tfidf__norm' : ['l1', 'l2'],\n",
    "        'tfidf__max_features' : [None, 15000,20000,25000,30000],\n",
    "\n",
    "        #'clf__C' : np.linspace(0.1,10,100),\n",
    "        'clf__C' : [1,3,10,30,100], \n",
    "        #'clf__C' : [3.3],\n",
    "        'clf__solver' : ['sag', 'saga'],\n",
    "        #'clf__tol' : (1e-3, 1e-4, 1e-5)\n",
    "    }\n",
    "    t0 =time.localtime()\n",
    "    print('Started at'  , time.strftime(\"%H:%M:%S\", t0))\n",
    "    ## Se tiveres mais memoria que eu(8Gb), aumenta o pre_dispatch para um valor maior\n",
    "    grid_search = RandomizedSearchCV(pipeline, grid_param, cv = 5, n_jobs=-1, verbose=3,\\\n",
    "                                     pre_dispatch=8,n_iter = 30).fit(X, y_boolean)\n",
    "\n",
    "    t1 = time.localtime()\n",
    "    print('Done at' , time.strftime(\"%H:%M:%S\", t1))\n",
    "\n",
    "## guardar os resultados do grid_search\n",
    "with open('dump.p', 'wb') as f:\n",
    "    pickle.dump({'in' : grid_param ,\n",
    "                 'out': grid_search}, f)"
   ]
  },
  {
   "cell_type": "code",
   "execution_count": 15,
   "id": "intense-armstrong",
   "metadata": {
    "scrolled": false
   },
   "outputs": [
    {
     "name": "stdout",
     "output_type": "stream",
     "text": [
      "Pipeline(memory='C:\\\\Users\\\\pedro\\\\AppData\\\\Local\\\\Temp\\\\sklearn_graph_cache__b1l3hhf',\n",
      "         steps=[('tfidf',\n",
      "                 TfidfVectorizer(max_df=0.5, min_df=3, ngram_range=(1, 2),\n",
      "                                 token_pattern='\\\\b\\\\w{3,}\\\\b')),\n",
      "                ('clf',\n",
      "                 LogisticRegression(C=30, max_iter=1000, solver='sag',\n",
      "                                    tol=0.001))],\n",
      "         verbose=True)\n"
     ]
    }
   ],
   "source": [
    "print(grid_search.best_estimator_)"
   ]
  },
  {
   "cell_type": "markdown",
   "id": "parental-smooth",
   "metadata": {},
   "source": [
    "###### Em vez de correr o codigo em cima, podemos fazer import do ficheiro dump"
   ]
  },
  {
   "cell_type": "code",
   "execution_count": 16,
   "id": "about-karaoke",
   "metadata": {
    "jupyter": {
     "outputs_hidden": true
    }
   },
   "outputs": [
    {
     "name": "stdout",
     "output_type": "stream",
     "text": [
      "Pipeline(memory='C:\\\\Users\\\\pedro\\\\AppData\\\\Local\\\\Temp\\\\sklearn_graph_cache__b1l3hhf',\n",
      "         steps=[('tfidf',\n",
      "                 TfidfVectorizer(max_df=0.5, min_df=3, ngram_range=(1, 2),\n",
      "                                 token_pattern='\\\\b\\\\w{3,}\\\\b')),\n",
      "                ('clf',\n",
      "                 LogisticRegression(C=30, max_iter=1000, solver='sag',\n",
      "                                    tol=0.001))],\n",
      "         verbose=True)\n"
     ]
    }
   ],
   "source": [
    "with open('dump.p' ,'rb') as f:\n",
    "    global grid_param, grid_search\n",
    "    temp = pickle.load(f)\n",
    "    grid_param = temp['in']\n",
    "    grid_search = temp['out']\n",
    "print(grid_search.best_estimator_)"
   ]
  },
  {
   "cell_type": "code",
   "execution_count": 17,
   "id": "impressed-gardening",
   "metadata": {
    "jupyter": {
     "outputs_hidden": true
    }
   },
   "outputs": [
    {
     "name": "stdout",
     "output_type": "stream",
     "text": [
      "TOKEN PATTERN : \\b[a-zA-Z]{3,}\\b , \n",
      "MinDF 5\n",
      "Result 0.899925 \n",
      "\n",
      "\n",
      "TOKEN PATTERN : \\b\\w{3,}\\b , \n",
      "MinDF 3\n",
      "Result 0.83925 \n",
      "\n",
      "\n",
      "TOKEN PATTERN : \\b[a-zA-Z]{3,}\\b , \n",
      "MinDF 5\n",
      "Result 0.8651250000000001 \n",
      "\n",
      "\n",
      "TOKEN PATTERN : \\b[a-zA-Z]{3,}\\b , \n",
      "MinDF 3\n",
      "Result 0.8525750000000001 \n",
      "\n",
      "\n",
      "TOKEN PATTERN : \\b[a-zA-Z]{3,}\\b , \n",
      "MinDF 3\n",
      "Result 0.8910750000000001 \n",
      "\n",
      "\n",
      "TOKEN PATTERN : \\b\\w{3,}\\b , \n",
      "MinDF 3\n",
      "Result 0.9069749999999999 \n",
      "\n",
      "\n",
      "TOKEN PATTERN : \\b[a-zA-Z]{3,}\\b , \n",
      "MinDF 3\n",
      "Result 0.868125 \n",
      "\n",
      "\n",
      "TOKEN PATTERN : \\b[a-zA-Z]{3,}\\b , \n",
      "MinDF 5\n",
      "Result 0.886275 \n",
      "\n",
      "\n",
      "TOKEN PATTERN : \\b\\w{3,}\\b , \n",
      "MinDF 4\n",
      "Result 0.860275 \n",
      "\n",
      "\n",
      "TOKEN PATTERN : \\b\\w{3,}\\b , \n",
      "MinDF 4\n",
      "Result 0.885 \n",
      "\n",
      "\n",
      "TOKEN PATTERN : \\b[a-zA-Z]{3,}\\b , \n",
      "MinDF 3\n",
      "Result 0.84765 \n",
      "\n",
      "\n",
      "TOKEN PATTERN : \\b\\w{3,}\\b , \n",
      "MinDF 3\n",
      "Result 0.8815999999999999 \n",
      "\n",
      "\n",
      "TOKEN PATTERN : \\b[a-zA-Z]{3,}\\b , \n",
      "MinDF 5\n",
      "Result 0.884675 \n",
      "\n",
      "\n",
      "TOKEN PATTERN : \\b\\w{3,}\\b , \n",
      "MinDF 3\n",
      "Result 0.9003249999999999 \n",
      "\n",
      "\n",
      "TOKEN PATTERN : \\b[a-zA-Z]{3,}\\b , \n",
      "MinDF 4\n",
      "Result 0.876675 \n",
      "\n",
      "\n",
      "TOKEN PATTERN : \\b\\w{3,}\\b , \n",
      "MinDF 4\n",
      "Result 0.8609500000000001 \n",
      "\n",
      "\n",
      "TOKEN PATTERN : \\b[a-zA-Z]{3,}\\b , \n",
      "MinDF 5\n",
      "Result 0.88135 \n",
      "\n",
      "\n",
      "TOKEN PATTERN : \\b\\w{3,}\\b , \n",
      "MinDF 3\n",
      "Result 0.8968999999999999 \n",
      "\n",
      "\n",
      "TOKEN PATTERN : \\b[a-zA-Z]{3,}\\b , \n",
      "MinDF 3\n",
      "Result 0.8805250000000001 \n",
      "\n",
      "\n",
      "TOKEN PATTERN : \\b\\w{3,}\\b , \n",
      "MinDF 3\n",
      "Result 0.900175 \n",
      "\n",
      "\n",
      "TOKEN PATTERN : \\b[a-zA-Z]{3,}\\b , \n",
      "MinDF 4\n",
      "Result 0.86545 \n",
      "\n",
      "\n",
      "TOKEN PATTERN : \\b[a-zA-Z]{3,}\\b , \n",
      "MinDF 3\n",
      "Result 0.8653000000000001 \n",
      "\n",
      "\n",
      "TOKEN PATTERN : \\b[a-zA-Z]{3,}\\b , \n",
      "MinDF 5\n",
      "Result 0.8306749999999999 \n",
      "\n",
      "\n",
      "TOKEN PATTERN : \\b\\w{3,}\\b , \n",
      "MinDF 3\n",
      "Result 0.8701000000000001 \n",
      "\n",
      "\n",
      "TOKEN PATTERN : \\b\\w{3,}\\b , \n",
      "MinDF 3\n",
      "Result 0.8701000000000001 \n",
      "\n",
      "\n",
      "TOKEN PATTERN : \\b\\w{3,}\\b , \n",
      "MinDF 5\n",
      "Result 0.886125 \n",
      "\n",
      "\n",
      "TOKEN PATTERN : \\b[a-zA-Z]{3,}\\b , \n",
      "MinDF 3\n",
      "Result 0.879325 \n",
      "\n",
      "\n",
      "TOKEN PATTERN : \\b[a-zA-Z]{3,}\\b , \n",
      "MinDF 3\n",
      "Result 0.8707 \n",
      "\n",
      "\n",
      "TOKEN PATTERN : \\b[a-zA-Z]{3,}\\b , \n",
      "MinDF 3\n",
      "Result 0.885575 \n",
      "\n",
      "\n",
      "TOKEN PATTERN : \\b[a-zA-Z]{3,}\\b , \n",
      "MinDF 4\n",
      "Result 0.8861000000000001 \n",
      "\n",
      "\n"
     ]
    }
   ],
   "source": [
    "for i in range(len(grid_search.cv_results_['std_test_score'])):\n",
    "    print(f'TOKEN PATTERN : {grid_search.cv_results_[\"param_tfidf__token_pattern\"][i]} , '+\n",
    "          f'\\nMinDF {grid_search.cv_results_[\"param_tfidf__min_df\"][i]}' +\n",
    "          f'\\nResult {grid_search.cv_results_[\"mean_test_score\"][i]} \\n\\n')"
   ]
  },
  {
   "cell_type": "markdown",
   "id": "separate-aside",
   "metadata": {},
   "source": [
    "###  TFIDF optimizado\n",
    "\n",
    "Não é exatamente o mesmo que foi eleito pelo pipeline, mas este remove stop words e palavras redundantes porque ajuda a reduzir o ruido. Grava tambem o objeto num documento pickle"
   ]
  },
  {
   "cell_type": "code",
   "execution_count": 18,
   "id": "expanded-means",
   "metadata": {
    "scrolled": true
   },
   "outputs": [],
   "source": [
    "with open('tfidf_dump.p', 'wb') as f:\n",
    "    tfidf = TfidfVectorizer(max_df=0.5 , min_df=4,ngram_range=(1, 2), norm='l2', token_pattern=r'\\b\\w{3,}\\b'\\\n",
    "                            ,stop_words='english').fit(X)\n",
    "    pickle.dump(tfidf, f)"
   ]
  },
  {
   "cell_type": "code",
   "execution_count": 19,
   "id": "necessary-mount",
   "metadata": {
    "scrolled": false
   },
   "outputs": [
    {
     "data": {
      "text/plain": [
       "174366"
      ]
     },
     "execution_count": 19,
     "metadata": {},
     "output_type": "execute_result"
    }
   ],
   "source": [
    "len(tfidf.get_feature_names())"
   ]
  },
  {
   "cell_type": "code",
   "execution_count": 20,
   "id": "psychological-sewing",
   "metadata": {
    "jupyter": {
     "outputs_hidden": true
    }
   },
   "outputs": [
    {
     "data": {
      "text/plain": [
       "(40000, 174366)"
      ]
     },
     "execution_count": 20,
     "metadata": {},
     "output_type": "execute_result"
    }
   ],
   "source": [
    "vector = text2vector(X)\n",
    "with open('vector_dump.p', 'wb') as f:\n",
    "    pickle.dump(vector, f)\n",
    "vector.shape"
   ]
  },
  {
   "cell_type": "markdown",
   "id": "third-contract",
   "metadata": {},
   "source": [
    "## LogisticRegression booleana"
   ]
  },
  {
   "cell_type": "code",
   "execution_count": 21,
   "id": "continuing-phone",
   "metadata": {},
   "outputs": [],
   "source": []
  },
  {
   "cell_type": "code",
   "execution_count": 22,
   "id": "satisfactory-speech",
   "metadata": {},
   "outputs": [
    {
     "name": "stdout",
     "output_type": "stream",
     "text": [
      "1.0\n",
      "0.8968\n"
     ]
    }
   ],
   "source": [
    "x_train, x_test, y_train, y_test = train_test_split(vector, y_boolean, test_size=1/4)\n",
    "\n",
    "dl = LogisticRegressionCV(max_iter = 1000, Cs=3, tol = 1e-3, cv=5,\\\n",
    "                          penalty='l2', solver='saga', n_jobs=-1).fit(x_train, y_train)\n",
    "print(dl.score(x_train, y_train))\n",
    "print(dl.score(x_test, y_test))"
   ]
  },
  {
   "cell_type": "markdown",
   "id": "working-bermuda",
   "metadata": {},
   "source": [
    "## LogisticRegression multi-classe"
   ]
  },
  {
   "cell_type": "code",
   "execution_count": 23,
   "id": "progressive-tourist",
   "metadata": {
    "jupyter": {
     "outputs_hidden": true
    }
   },
   "outputs": [
    {
     "name": "stdout",
     "output_type": "stream",
     "text": [
      "0.7869666666666667\n",
      "0.4336\n"
     ]
    }
   ],
   "source": [
    "x_train, x_test, y_train, y_test = train_test_split(vector, y, test_size=1/4)\n",
    "\n",
    "dl = LogisticRegressionCV(max_iter = 1000, Cs=3, tol = 1e-3, cv=5, \\\n",
    "                          penalty='l2', solver='saga').fit(x_train, y_train)\n",
    "print(dl.score(x_train, y_train))\n",
    "print(dl.score(x_test, y_test))"
   ]
  },
  {
   "cell_type": "markdown",
   "id": "marked-kelly",
   "metadata": {},
   "source": [
    "## Linear SVC (booleana)"
   ]
  },
  {
   "cell_type": "code",
   "execution_count": 24,
   "id": "through-republican",
   "metadata": {},
   "outputs": [],
   "source": [
    "X1,X2,y1,y2=train_test_split(vector,y_boolean,test_size=1/4)"
   ]
  },
  {
   "cell_type": "code",
   "execution_count": 25,
   "id": "authorized-moderator",
   "metadata": {},
   "outputs": [
    {
     "name": "stdout",
     "output_type": "stream",
     "text": [
      "Started at 04:36:54\n",
      "Fitting 5 folds for each of 5 candidates, totalling 25 fits\n"
     ]
    },
    {
     "name": "stderr",
     "output_type": "stream",
     "text": [
      "[Parallel(n_jobs=-1)]: Using backend LokyBackend with 4 concurrent workers.\n",
      "[Parallel(n_jobs=-1)]: Done  25 out of  25 | elapsed:   59.7s finished\n"
     ]
    },
    {
     "name": "stdout",
     "output_type": "stream",
     "text": [
      "Done at 04:37:55 took 60.91223382949829 seconds\n"
     ]
    }
   ],
   "source": [
    "with TemporaryDirectory(prefix=\"sklearn_graph_cache_\") as tmpdir:\n",
    "    pipeline = Pipeline([\n",
    "        ('svm' , LinearSVC(dual=True)) \n",
    "    ] , memory=tmpdir)\n",
    "    \n",
    "    grid_param = {\n",
    "        'svm__C' : [0.1,1.0,5.0,10.0,100.0]\n",
    "    }\n",
    "    t0 =time.time()\n",
    "    print('Started at'  , time.strftime(\"%H:%M:%S\", time.localtime()))\n",
    "    grid_search = GridSearchCV(pipeline, grid_param, n_jobs=-1, verbose=2).fit(X1,y1)\n",
    "    print(f'Done at {time.strftime(\"%H:%M:%S\", time.localtime())} took {str(time.time()-t0)} seconds')"
   ]
  },
  {
   "cell_type": "code",
   "execution_count": 26,
   "id": "front-armor",
   "metadata": {
    "scrolled": true
   },
   "outputs": [
    {
     "data": {
      "text/plain": [
       "LinearSVC()"
      ]
     },
     "execution_count": 26,
     "metadata": {},
     "output_type": "execute_result"
    }
   ],
   "source": [
    "svm= grid_search.best_estimator_[0]\n",
    "svm"
   ]
  },
  {
   "cell_type": "code",
   "execution_count": 27,
   "id": "acute-eleven",
   "metadata": {
    "scrolled": true
   },
   "outputs": [],
   "source": [
    "ye=svm.predict(X2)"
   ]
  },
  {
   "cell_type": "code",
   "execution_count": 28,
   "id": "difficult-blair",
   "metadata": {
    "scrolled": true
   },
   "outputs": [
    {
     "name": "stdout",
     "output_type": "stream",
     "text": [
      "N erros(teste): 1007\n",
      "Matriz confusao\n",
      " [[4492  526]\n",
      " [ 481 4501]] \n",
      "\n",
      "Linear SVC Score train:  0.9992333333333333\n",
      "Linear SVC Score test:  0.8993\n"
     ]
    }
   ],
   "source": [
    "print('N erros(teste):',np.sum(y2!=ye))\n",
    "print('Matriz confusao\\n' , confusion_matrix(y2,ye), '\\n')\n",
    "print(\"Linear SVC Score train: \", svm.score(X1,y1))\n",
    "print(\"Linear SVC Score test: \", svm.score(X2,y2))"
   ]
  },
  {
   "cell_type": "code",
   "execution_count": 29,
   "id": "technological-drill",
   "metadata": {},
   "outputs": [],
   "source": [
    "with open('svc_bool_dump.p', 'wb') as f:\n",
    "    pickle.dump(svm, f)"
   ]
  },
  {
   "cell_type": "markdown",
   "id": "russian-diamond",
   "metadata": {},
   "source": [
    "# Linear SVC (multiclasse)"
   ]
  },
  {
   "cell_type": "code",
   "execution_count": 30,
   "id": "transsexual-narrative",
   "metadata": {},
   "outputs": [],
   "source": [
    "X1,X2,y1,y2=train_test_split(Normalizer().fit_transform(vector), y ,test_size=1/4)"
   ]
  },
  {
   "cell_type": "code",
   "execution_count": 31,
   "id": "personal-toyota",
   "metadata": {
    "scrolled": true
   },
   "outputs": [
    {
     "name": "stdout",
     "output_type": "stream",
     "text": [
      "Started at 04:37:55\n",
      "Fitting 5 folds for each of 10 candidates, totalling 50 fits\n"
     ]
    },
    {
     "name": "stderr",
     "output_type": "stream",
     "text": [
      "[Parallel(n_jobs=-1)]: Using backend LokyBackend with 4 concurrent workers.\n",
      "[Parallel(n_jobs=-1)]: Done  33 tasks      | elapsed:  3.5min\n",
      "[Parallel(n_jobs=-1)]: Done  50 out of  50 | elapsed: 10.0min finished\n"
     ]
    },
    {
     "name": "stdout",
     "output_type": "stream",
     "text": [
      "Done at 04:48:04 took 608.1466355323792 seconds\n"
     ]
    }
   ],
   "source": [
    "with TemporaryDirectory(prefix=\"sklearn_graph_cache_\") as tmpdir:\n",
    "    pipeline = Pipeline([\n",
    "        ('svm' , LinearSVC()) \n",
    "    ] , memory=tmpdir)\n",
    "    \n",
    "    grid_param = {\n",
    "        'svm__dual' : [True, False],\n",
    "        'svm__C' : [0.1,1.0,5.0,10.0,100.0]\n",
    "    }\n",
    "    t0 =time.time()\n",
    "    print('Started at'  , time.strftime(\"%H:%M:%S\", time.localtime()))\n",
    "    grid_search = GridSearchCV(pipeline, grid_param, n_jobs=-1, verbose=2).fit(X1,y1)\n",
    "    print(f'Done at {time.strftime(\"%H:%M:%S\", time.localtime())} took {str(time.time()-t0)} seconds')"
   ]
  },
  {
   "cell_type": "code",
   "execution_count": 32,
   "id": "south-learning",
   "metadata": {},
   "outputs": [
    {
     "data": {
      "text/plain": [
       "LinearSVC(C=0.1, dual=False)"
      ]
     },
     "execution_count": 32,
     "metadata": {},
     "output_type": "execute_result"
    }
   ],
   "source": [
    "svm= grid_search.best_estimator_[0]\n",
    "svm"
   ]
  },
  {
   "cell_type": "code",
   "execution_count": 33,
   "id": "according-student",
   "metadata": {},
   "outputs": [],
   "source": [
    "ye=svm.predict(X2)"
   ]
  },
  {
   "cell_type": "code",
   "execution_count": 34,
   "id": "novel-shareware",
   "metadata": {
    "scrolled": true
   },
   "outputs": [
    {
     "name": "stdout",
     "output_type": "stream",
     "text": [
      "N erros(teste): 5599\n",
      "Matriz confusao\n",
      " [[1894   15   24   60   11   10    2  107]\n",
      " [ 681   24   54   98   11   15    1   79]\n",
      " [ 505   18   75  161   36   21    1  103]\n",
      " [ 380   13   70  308   76   42    7  158]\n",
      " [  85    1   26   78  201  192   21  330]\n",
      " [  75    3   11   43  131  192   32  622]\n",
      " [  47    2    5   22   48  104   26  675]\n",
      " [ 107    3    4   24   50   80   19 1681]] \n",
      "\n",
      "Linear SVC Score train:  0.7711\n",
      "Linear SVC Score test:  0.4401\n"
     ]
    }
   ],
   "source": [
    "print('N erros(teste):',np.sum(y2!=ye))\n",
    "conf_matrix = confusion_matrix(y2,ye)\n",
    "print('Matriz confusao\\n' , conf_matrix,  '\\n')\n",
    "print(\"Linear SVC Score train: \", svm.score(X1,y1))\n",
    "print(\"Linear SVC Score test: \", svm.score(X2,y2))"
   ]
  },
  {
   "cell_type": "markdown",
   "id": "terminal-irrigation",
   "metadata": {},
   "source": [
    "Estas condições de teste não são as mais adequadas para o conjunto de dados pois como podemos visualizar no teste acima, os valores de score para o conjunto de train e teste são bastante díspares,sendo o de train bastante bom ao contrário do de test que não é muito bom."
   ]
  },
  {
   "cell_type": "markdown",
   "id": "creative-press",
   "metadata": {},
   "source": [
    "# Ridge (boolean)"
   ]
  },
  {
   "cell_type": "code",
   "execution_count": 35,
   "id": "strong-bottom",
   "metadata": {},
   "outputs": [],
   "source": [
    "X1,X2,y1,y2=train_test_split(vector,y_boolean,test_size=1/5)"
   ]
  },
  {
   "cell_type": "code",
   "execution_count": 36,
   "id": "constitutional-laser",
   "metadata": {},
   "outputs": [
    {
     "name": "stdout",
     "output_type": "stream",
     "text": [
      "Started at 04:48:04\n",
      "Fitting 5 folds for each of 10 candidates, totalling 50 fits\n"
     ]
    },
    {
     "name": "stderr",
     "output_type": "stream",
     "text": [
      "[Parallel(n_jobs=-1)]: Using backend LokyBackend with 4 concurrent workers.\n",
      "[Parallel(n_jobs=-1)]: Done  33 tasks      | elapsed:   13.3s\n",
      "[Parallel(n_jobs=-1)]: Done  50 out of  50 | elapsed:   16.6s finished\n"
     ]
    },
    {
     "name": "stdout",
     "output_type": "stream",
     "text": [
      "Done at 04:48:22 took 18.380524396896362 seconds\n"
     ]
    }
   ],
   "source": [
    "with TemporaryDirectory(prefix=\"sklearn_graph_cache_\") as tmpdir:\n",
    "    pipeline = Pipeline([\n",
    "        ('ridge' , RidgeClassifier()) \n",
    "    ] , memory=tmpdir)\n",
    "    \n",
    "    grid_param = {\n",
    "        'ridge__alpha' : [0.1,1.0,5.0,10.0,100.0],\n",
    "        'ridge__normalize':[True, False]\n",
    "    }\n",
    "    t0 =time.time()\n",
    "    print('Started at'  , time.strftime(\"%H:%M:%S\", time.localtime()))\n",
    "    grid_search = GridSearchCV(pipeline, grid_param, n_jobs=-1, verbose=2).fit(X1,y1)\n",
    "    print(f'Done at {time.strftime(\"%H:%M:%S\", time.localtime())} took {str(time.time()-t0)} seconds')"
   ]
  },
  {
   "cell_type": "code",
   "execution_count": 37,
   "id": "electoral-blast",
   "metadata": {},
   "outputs": [
    {
     "data": {
      "text/plain": [
       "RidgeClassifier()"
      ]
     },
     "execution_count": 37,
     "metadata": {},
     "output_type": "execute_result"
    }
   ],
   "source": [
    "ridge= grid_search.best_estimator_[0]\n",
    "ridge"
   ]
  },
  {
   "cell_type": "code",
   "execution_count": 38,
   "id": "peaceful-young",
   "metadata": {},
   "outputs": [],
   "source": [
    "ye=ridge.predict(X2)"
   ]
  },
  {
   "cell_type": "code",
   "execution_count": 39,
   "id": "going-builder",
   "metadata": {},
   "outputs": [
    {
     "name": "stdout",
     "output_type": "stream",
     "text": [
      "N erros(teste): 800\n",
      "Ridge Score train:  0.99521875\n",
      "Ridge SVC Score test:  0.9\n"
     ]
    }
   ],
   "source": [
    "print('N erros(teste):',np.sum(y2!=ye))\n",
    "print(\"Ridge Score train: \", ridge.score(X1,y1))\n",
    "print(\"Ridge SVC Score test: \", ridge.score(X2,y2))"
   ]
  },
  {
   "cell_type": "markdown",
   "id": "bottom-reach",
   "metadata": {},
   "source": [
    "# Ridge (multiclasse)"
   ]
  },
  {
   "cell_type": "code",
   "execution_count": 40,
   "id": "australian-parade",
   "metadata": {},
   "outputs": [],
   "source": [
    "X1,X2,y1,y2=train_test_split(vector,y,test_size=1/5)"
   ]
  },
  {
   "cell_type": "code",
   "execution_count": 41,
   "id": "included-fitness",
   "metadata": {},
   "outputs": [
    {
     "name": "stdout",
     "output_type": "stream",
     "text": [
      "Started at 04:48:23\n",
      "Fitting 5 folds for each of 5 candidates, totalling 25 fits\n"
     ]
    },
    {
     "name": "stderr",
     "output_type": "stream",
     "text": [
      "[Parallel(n_jobs=-1)]: Using backend LokyBackend with 4 concurrent workers.\n",
      "[Parallel(n_jobs=-1)]: Done  25 out of  25 | elapsed:   55.0s finished\n"
     ]
    },
    {
     "name": "stdout",
     "output_type": "stream",
     "text": [
      "Done at 04:49:22 took 59.286417722702026 seconds\n"
     ]
    }
   ],
   "source": [
    "with TemporaryDirectory(prefix=\"sklearn_graph_cache_\") as tmpdir:\n",
    "    pipeline = Pipeline([\n",
    "        ('ridge' , RidgeClassifier()) \n",
    "    ] , memory=tmpdir)\n",
    "    \n",
    "    grid_param = {\n",
    "        'ridge__alpha' : [0.1,1.0,5.0,10.0,100.0],\n",
    "    }\n",
    "    t0 =time.time()\n",
    "    print('Started at'  , time.strftime(\"%H:%M:%S\", time.localtime()))\n",
    "    grid_search = GridSearchCV(pipeline, grid_param, n_jobs=-1, verbose=2).fit(X1,y1)\n",
    "    print(f'Done at {time.strftime(\"%H:%M:%S\", time.localtime())} took {str(time.time()-t0)} seconds')"
   ]
  },
  {
   "cell_type": "code",
   "execution_count": 42,
   "id": "reliable-cabinet",
   "metadata": {},
   "outputs": [
    {
     "data": {
      "text/plain": [
       "RidgeClassifier(alpha=5.0)"
      ]
     },
     "execution_count": 42,
     "metadata": {},
     "output_type": "execute_result"
    }
   ],
   "source": [
    "ridge= grid_search.best_estimator_[0]\n",
    "ridge"
   ]
  },
  {
   "cell_type": "code",
   "execution_count": 43,
   "id": "adverse-missile",
   "metadata": {},
   "outputs": [],
   "source": [
    "ye=ridge.predict(X2)"
   ]
  },
  {
   "cell_type": "code",
   "execution_count": 44,
   "id": "quarterly-iraqi",
   "metadata": {
    "scrolled": false
   },
   "outputs": [
    {
     "name": "stdout",
     "output_type": "stream",
     "text": [
      "N erros(teste): 4546\n",
      "Matriz confusao\n",
      " [[1486   21   38   54    4    2    0   77]\n",
      " [ 504   16   38   74   11    7    2   55]\n",
      " [ 400   13   64  133   19   25    5   98]\n",
      " [ 317   14   84  209   48   42    9  131]\n",
      " [  66    4   15   75  146  149   18  300]\n",
      " [  47    2    9   35  115  160   20  569]\n",
      " [  34    2    6   11   35   69   20  527]\n",
      " [  78    3    4    9   41   67   11 1353]] \n",
      "\n",
      "Ridge Score train:  0.7715\n",
      "Ridge SVC Score test:  0.43175\n"
     ]
    }
   ],
   "source": [
    "print('N erros(teste):',np.sum(y2!=ye))\n",
    "print('Matriz confusao\\n' , confusion_matrix(y2,ye), '\\n')\n",
    "print(\"Ridge Score train: \", ridge.score(X1,y1))\n",
    "print(\"Ridge SVC Score test: \", ridge.score(X2,y2))"
   ]
  },
  {
   "cell_type": "code",
   "execution_count": 45,
   "id": "swedish-estate",
   "metadata": {},
   "outputs": [],
   "source": [
    "with open('RidgeMultidump.p', 'wb') as f:\n",
    "    pickle.dump(ridge, f)"
   ]
  },
  {
   "cell_type": "markdown",
   "id": "phantom-configuration",
   "metadata": {},
   "source": [
    "### MultinomialNB ( ‘Naive Bayes' ) (Multiclasse)"
   ]
  },
  {
   "cell_type": "code",
   "execution_count": 46,
   "id": "visible-fitness",
   "metadata": {},
   "outputs": [],
   "source": [
    "X1,X2,y1,y2=train_test_split(vector,y,test_size=1/4)"
   ]
  },
  {
   "cell_type": "code",
   "execution_count": 47,
   "id": "convenient-citizen",
   "metadata": {},
   "outputs": [
    {
     "name": "stdout",
     "output_type": "stream",
     "text": [
      "Started at 04:49:22\n",
      "Fitting 5 folds for each of 3 candidates, totalling 15 fits\n"
     ]
    },
    {
     "name": "stderr",
     "output_type": "stream",
     "text": [
      "[Parallel(n_jobs=-1)]: Using backend LokyBackend with 4 concurrent workers.\n",
      "[Parallel(n_jobs=-1)]: Done  15 out of  15 | elapsed:    1.1s finished\n"
     ]
    },
    {
     "name": "stdout",
     "output_type": "stream",
     "text": [
      "Done at 04:49:24 took 1.7648272514343262 seconds\n"
     ]
    }
   ],
   "source": [
    "with TemporaryDirectory(prefix=\"sklearn_graph_cache_\") as tmpdir:\n",
    "    pipeline = Pipeline([\n",
    "        ('multinb' , MultinomialNB()) \n",
    "    ] , memory=tmpdir)\n",
    "    \n",
    "    grid_param = {\n",
    "        'multinb__alpha' : [0.1, 1, 10]\n",
    "    }\n",
    "    t0 =time.time()\n",
    "    print('Started at'  , time.strftime(\"%H:%M:%S\", time.localtime()))\n",
    "    grid_search = GridSearchCV(pipeline, grid_param, n_jobs=-1, verbose=2).fit(X1,y1)\n",
    "    print(f'Done at {time.strftime(\"%H:%M:%S\", time.localtime())} took {str(time.time()-t0)} seconds')"
   ]
  },
  {
   "cell_type": "code",
   "execution_count": 48,
   "id": "appropriate-reading",
   "metadata": {
    "scrolled": true
   },
   "outputs": [
    {
     "data": {
      "text/plain": [
       "MultinomialNB(alpha=0.1)"
      ]
     },
     "execution_count": 48,
     "metadata": {},
     "output_type": "execute_result"
    }
   ],
   "source": [
    "multinb= grid_search.best_estimator_[0]\n",
    "multinb"
   ]
  },
  {
   "cell_type": "code",
   "execution_count": 49,
   "id": "prompt-share",
   "metadata": {},
   "outputs": [],
   "source": [
    "y2e = multinb.predict(X2)"
   ]
  },
  {
   "cell_type": "code",
   "execution_count": 50,
   "id": "outdoor-tracy",
   "metadata": {
    "scrolled": true
   },
   "outputs": [
    {
     "name": "stdout",
     "output_type": "stream",
     "text": [
      "N erros(teste): 5723\n"
     ]
    },
    {
     "ename": "ValueError",
     "evalue": "Found input variables with inconsistent numbers of samples: [10000, 8000]",
     "output_type": "error",
     "traceback": [
      "\u001b[1;31m---------------------------------------------------------------------------\u001b[0m",
      "\u001b[1;31mValueError\u001b[0m                                Traceback (most recent call last)",
      "\u001b[1;32m<ipython-input-50-b67c546de656>\u001b[0m in \u001b[0;36m<module>\u001b[1;34m\u001b[0m\n\u001b[0;32m      1\u001b[0m \u001b[0mprint\u001b[0m\u001b[1;33m(\u001b[0m\u001b[1;34m'N erros(teste):'\u001b[0m\u001b[1;33m,\u001b[0m\u001b[0mnp\u001b[0m\u001b[1;33m.\u001b[0m\u001b[0msum\u001b[0m\u001b[1;33m(\u001b[0m\u001b[0my2\u001b[0m\u001b[1;33m!=\u001b[0m\u001b[0my2e\u001b[0m\u001b[1;33m)\u001b[0m\u001b[1;33m)\u001b[0m\u001b[1;33m\u001b[0m\u001b[1;33m\u001b[0m\u001b[0m\n\u001b[1;32m----> 2\u001b[1;33m \u001b[0mprint\u001b[0m\u001b[1;33m(\u001b[0m\u001b[1;34m'Matriz confusao\\n'\u001b[0m \u001b[1;33m,\u001b[0m \u001b[0mconfusion_matrix\u001b[0m\u001b[1;33m(\u001b[0m\u001b[0my2\u001b[0m\u001b[1;33m,\u001b[0m\u001b[0mye\u001b[0m\u001b[1;33m)\u001b[0m\u001b[1;33m,\u001b[0m \u001b[1;34m'\\n'\u001b[0m\u001b[1;33m)\u001b[0m\u001b[1;33m\u001b[0m\u001b[1;33m\u001b[0m\u001b[0m\n\u001b[0m\u001b[0;32m      3\u001b[0m \u001b[0mprint\u001b[0m\u001b[1;33m(\u001b[0m\u001b[1;34m'Score '\u001b[0m\u001b[1;33m,\u001b[0m \u001b[0mmultinb\u001b[0m\u001b[1;33m.\u001b[0m\u001b[0mscore\u001b[0m\u001b[1;33m(\u001b[0m\u001b[0mX2\u001b[0m\u001b[1;33m,\u001b[0m \u001b[0my2\u001b[0m\u001b[1;33m)\u001b[0m\u001b[1;33m)\u001b[0m\u001b[1;33m\u001b[0m\u001b[1;33m\u001b[0m\u001b[0m\n",
      "\u001b[1;32mC:\\ProgramData\\Anaconda3\\lib\\site-packages\\sklearn\\utils\\validation.py\u001b[0m in \u001b[0;36minner_f\u001b[1;34m(*args, **kwargs)\u001b[0m\n\u001b[0;32m     70\u001b[0m                           FutureWarning)\n\u001b[0;32m     71\u001b[0m         \u001b[0mkwargs\u001b[0m\u001b[1;33m.\u001b[0m\u001b[0mupdate\u001b[0m\u001b[1;33m(\u001b[0m\u001b[1;33m{\u001b[0m\u001b[0mk\u001b[0m\u001b[1;33m:\u001b[0m \u001b[0marg\u001b[0m \u001b[1;32mfor\u001b[0m \u001b[0mk\u001b[0m\u001b[1;33m,\u001b[0m \u001b[0marg\u001b[0m \u001b[1;32min\u001b[0m \u001b[0mzip\u001b[0m\u001b[1;33m(\u001b[0m\u001b[0msig\u001b[0m\u001b[1;33m.\u001b[0m\u001b[0mparameters\u001b[0m\u001b[1;33m,\u001b[0m \u001b[0margs\u001b[0m\u001b[1;33m)\u001b[0m\u001b[1;33m}\u001b[0m\u001b[1;33m)\u001b[0m\u001b[1;33m\u001b[0m\u001b[1;33m\u001b[0m\u001b[0m\n\u001b[1;32m---> 72\u001b[1;33m         \u001b[1;32mreturn\u001b[0m \u001b[0mf\u001b[0m\u001b[1;33m(\u001b[0m\u001b[1;33m**\u001b[0m\u001b[0mkwargs\u001b[0m\u001b[1;33m)\u001b[0m\u001b[1;33m\u001b[0m\u001b[1;33m\u001b[0m\u001b[0m\n\u001b[0m\u001b[0;32m     73\u001b[0m     \u001b[1;32mreturn\u001b[0m \u001b[0minner_f\u001b[0m\u001b[1;33m\u001b[0m\u001b[1;33m\u001b[0m\u001b[0m\n\u001b[0;32m     74\u001b[0m \u001b[1;33m\u001b[0m\u001b[0m\n",
      "\u001b[1;32mC:\\ProgramData\\Anaconda3\\lib\\site-packages\\sklearn\\metrics\\_classification.py\u001b[0m in \u001b[0;36mconfusion_matrix\u001b[1;34m(y_true, y_pred, labels, sample_weight, normalize)\u001b[0m\n\u001b[0;32m    274\u001b[0m \u001b[1;33m\u001b[0m\u001b[0m\n\u001b[0;32m    275\u001b[0m     \"\"\"\n\u001b[1;32m--> 276\u001b[1;33m     \u001b[0my_type\u001b[0m\u001b[1;33m,\u001b[0m \u001b[0my_true\u001b[0m\u001b[1;33m,\u001b[0m \u001b[0my_pred\u001b[0m \u001b[1;33m=\u001b[0m \u001b[0m_check_targets\u001b[0m\u001b[1;33m(\u001b[0m\u001b[0my_true\u001b[0m\u001b[1;33m,\u001b[0m \u001b[0my_pred\u001b[0m\u001b[1;33m)\u001b[0m\u001b[1;33m\u001b[0m\u001b[1;33m\u001b[0m\u001b[0m\n\u001b[0m\u001b[0;32m    277\u001b[0m     \u001b[1;32mif\u001b[0m \u001b[0my_type\u001b[0m \u001b[1;32mnot\u001b[0m \u001b[1;32min\u001b[0m \u001b[1;33m(\u001b[0m\u001b[1;34m\"binary\"\u001b[0m\u001b[1;33m,\u001b[0m \u001b[1;34m\"multiclass\"\u001b[0m\u001b[1;33m)\u001b[0m\u001b[1;33m:\u001b[0m\u001b[1;33m\u001b[0m\u001b[1;33m\u001b[0m\u001b[0m\n\u001b[0;32m    278\u001b[0m         \u001b[1;32mraise\u001b[0m \u001b[0mValueError\u001b[0m\u001b[1;33m(\u001b[0m\u001b[1;34m\"%s is not supported\"\u001b[0m \u001b[1;33m%\u001b[0m \u001b[0my_type\u001b[0m\u001b[1;33m)\u001b[0m\u001b[1;33m\u001b[0m\u001b[1;33m\u001b[0m\u001b[0m\n",
      "\u001b[1;32mC:\\ProgramData\\Anaconda3\\lib\\site-packages\\sklearn\\metrics\\_classification.py\u001b[0m in \u001b[0;36m_check_targets\u001b[1;34m(y_true, y_pred)\u001b[0m\n\u001b[0;32m     79\u001b[0m     \u001b[0my_pred\u001b[0m \u001b[1;33m:\u001b[0m \u001b[0marray\u001b[0m \u001b[1;32mor\u001b[0m \u001b[0mindicator\u001b[0m \u001b[0mmatrix\u001b[0m\u001b[1;33m\u001b[0m\u001b[1;33m\u001b[0m\u001b[0m\n\u001b[0;32m     80\u001b[0m     \"\"\"\n\u001b[1;32m---> 81\u001b[1;33m     \u001b[0mcheck_consistent_length\u001b[0m\u001b[1;33m(\u001b[0m\u001b[0my_true\u001b[0m\u001b[1;33m,\u001b[0m \u001b[0my_pred\u001b[0m\u001b[1;33m)\u001b[0m\u001b[1;33m\u001b[0m\u001b[1;33m\u001b[0m\u001b[0m\n\u001b[0m\u001b[0;32m     82\u001b[0m     \u001b[0mtype_true\u001b[0m \u001b[1;33m=\u001b[0m \u001b[0mtype_of_target\u001b[0m\u001b[1;33m(\u001b[0m\u001b[0my_true\u001b[0m\u001b[1;33m)\u001b[0m\u001b[1;33m\u001b[0m\u001b[1;33m\u001b[0m\u001b[0m\n\u001b[0;32m     83\u001b[0m     \u001b[0mtype_pred\u001b[0m \u001b[1;33m=\u001b[0m \u001b[0mtype_of_target\u001b[0m\u001b[1;33m(\u001b[0m\u001b[0my_pred\u001b[0m\u001b[1;33m)\u001b[0m\u001b[1;33m\u001b[0m\u001b[1;33m\u001b[0m\u001b[0m\n",
      "\u001b[1;32mC:\\ProgramData\\Anaconda3\\lib\\site-packages\\sklearn\\utils\\validation.py\u001b[0m in \u001b[0;36mcheck_consistent_length\u001b[1;34m(*arrays)\u001b[0m\n\u001b[0;32m    253\u001b[0m     \u001b[0muniques\u001b[0m \u001b[1;33m=\u001b[0m \u001b[0mnp\u001b[0m\u001b[1;33m.\u001b[0m\u001b[0munique\u001b[0m\u001b[1;33m(\u001b[0m\u001b[0mlengths\u001b[0m\u001b[1;33m)\u001b[0m\u001b[1;33m\u001b[0m\u001b[1;33m\u001b[0m\u001b[0m\n\u001b[0;32m    254\u001b[0m     \u001b[1;32mif\u001b[0m \u001b[0mlen\u001b[0m\u001b[1;33m(\u001b[0m\u001b[0muniques\u001b[0m\u001b[1;33m)\u001b[0m \u001b[1;33m>\u001b[0m \u001b[1;36m1\u001b[0m\u001b[1;33m:\u001b[0m\u001b[1;33m\u001b[0m\u001b[1;33m\u001b[0m\u001b[0m\n\u001b[1;32m--> 255\u001b[1;33m         raise ValueError(\"Found input variables with inconsistent numbers of\"\n\u001b[0m\u001b[0;32m    256\u001b[0m                          \" samples: %r\" % [int(l) for l in lengths])\n\u001b[0;32m    257\u001b[0m \u001b[1;33m\u001b[0m\u001b[0m\n",
      "\u001b[1;31mValueError\u001b[0m: Found input variables with inconsistent numbers of samples: [10000, 8000]"
     ]
    }
   ],
   "source": [
    "print('N erros(teste):',np.sum(y2!=y2e))\n",
    "print('Matriz confusao\\n' , confusion_matrix(y2,ye), '\\n')\n",
    "print('Score ', multinb.score(X2, y2))"
   ]
  },
  {
   "cell_type": "markdown",
   "id": "tropical-bradley",
   "metadata": {},
   "source": [
    "### MultinomialNB ( ‘Naive Bayes' ) (Boolean)"
   ]
  },
  {
   "cell_type": "code",
   "execution_count": null,
   "id": "ahead-banking",
   "metadata": {},
   "outputs": [],
   "source": [
    "X1,X2,y1,y2=train_test_split(vector,y_boolean,test_size=1/4)"
   ]
  },
  {
   "cell_type": "code",
   "execution_count": null,
   "id": "crude-concord",
   "metadata": {},
   "outputs": [],
   "source": [
    "with TemporaryDirectory(prefix=\"sklearn_graph_cache_\") as tmpdir:\n",
    "    pipeline = Pipeline([\n",
    "        ('multinb' , MultinomialNB()) \n",
    "    ] , memory=tmpdir)\n",
    "    \n",
    "    grid_param = {\n",
    "        'multinb__alpha' : [0.1, 1, 10]\n",
    "    }\n",
    "    t0 =time.time()\n",
    "    print('Started at'  , time.strftime(\"%H:%M:%S\", time.localtime()))\n",
    "    grid_search = GridSearchCV(pipeline, grid_param, n_jobs=-1, verbose=2).fit(X1,y1)\n",
    "    print(f'Done at {time.strftime(\"%H:%M:%S\", time.localtime())} took {str(time.time()-t0)} seconds')"
   ]
  },
  {
   "cell_type": "code",
   "execution_count": null,
   "id": "saving-ceramic",
   "metadata": {},
   "outputs": [],
   "source": [
    "multinb= grid_search.best_estimator_[0]\n",
    "multinb"
   ]
  },
  {
   "cell_type": "code",
   "execution_count": null,
   "id": "french-ownership",
   "metadata": {},
   "outputs": [],
   "source": [
    "y2e = multinb.predict(X2)"
   ]
  },
  {
   "cell_type": "code",
   "execution_count": null,
   "id": "heard-cherry",
   "metadata": {},
   "outputs": [],
   "source": [
    "print('N erros(teste):',np.sum(y2!=y2e))\n",
    "print('Matriz confusao\\n' , confusion_matrix(y2,ye), '\\n')\n",
    "print('Score ', multinb.score(X2, y2))"
   ]
  },
  {
   "cell_type": "markdown",
   "id": "second-horizon",
   "metadata": {},
   "source": [
    "## Decomposição em componentes principais\n",
    "\n",
    "Temos 40000 documentos, com 170000 tokens, logo para reduzir a complixidade usamos LDA. A LDA remove os componentes com pouco relevo."
   ]
  },
  {
   "cell_type": "code",
   "execution_count": 51,
   "id": "taken-edinburgh",
   "metadata": {
    "scrolled": true
   },
   "outputs": [
    {
     "data": {
      "text/plain": [
       "(40000, 174366)"
      ]
     },
     "execution_count": 51,
     "metadata": {},
     "output_type": "execute_result"
    }
   ],
   "source": [
    "vector.shape"
   ]
  },
  {
   "cell_type": "code",
   "execution_count": 52,
   "id": "varied-facility",
   "metadata": {},
   "outputs": [],
   "source": [
    "pca = TruncatedSVD(n_components=100).fit(vector)"
   ]
  },
  {
   "cell_type": "code",
   "execution_count": 53,
   "id": "precious-billion",
   "metadata": {},
   "outputs": [
    {
     "data": {
      "text/plain": [
       "0.05306399911981366"
      ]
     },
     "execution_count": 53,
     "metadata": {},
     "output_type": "execute_result"
    }
   ],
   "source": [
    "sum(pca.explained_variance_ratio_)"
   ]
  },
  {
   "cell_type": "code",
   "execution_count": 54,
   "id": "consistent-plaza",
   "metadata": {},
   "outputs": [],
   "source": [
    "with open('pca_dump.p' ,'wb') as f:\n",
    "    pickle.dump(pca , f)"
   ]
  },
  {
   "cell_type": "code",
   "execution_count": 56,
   "id": "seven-health",
   "metadata": {},
   "outputs": [
    {
     "name": "stdout",
     "output_type": "stream",
     "text": [
      "Num Componentes    10 ||  Variance  0.0099617900\n",
      "Num Componentes    20 ||  Variance  0.0162114546\n",
      "Num Componentes    30 ||  Variance  0.0216348239\n",
      "Num Componentes    50 ||  Variance  0.0305994647\n",
      "Num Componentes   100 ||  Variance  0.0489051279\n",
      "Num Componentes   200 ||  Variance  0.0780041568\n",
      "Num Componentes   300 ||  Variance  0.1019431901\n",
      "Num Componentes   500 ||  Variance  0.1415056050\n",
      "Num Componentes  1000 ||  Variance  0.2134037217\n",
      "Num Componentes  1500 ||  Variance  0.2654003144\n"
     ]
    }
   ],
   "source": [
    "lista = [10,20,30,50,100,200,300,500,1000,1500]\n",
    "variance_sum =[]\n",
    "for n_comps in lista:\n",
    "    pca = TruncatedSVD(n_components=n_comps, n_iter=2, ).fit(vector)\n",
    "    variance_sum.append(pca.explained_variance_ratio_.sum())\n",
    "    print(f'Num Componentes {n_comps : >5} ||  Variance { variance_sum[-1]: .10f}')"
   ]
  },
  {
   "cell_type": "code",
   "execution_count": 57,
   "id": "statistical-airfare",
   "metadata": {},
   "outputs": [
    {
     "data": {
      "image/png": "[encoded data removed]",
      "text/plain": [
       "<Figure size 432x288 with 1 Axes>"
      ]
     },
     "metadata": {
      "needs_background": "light"
     },
     "output_type": "display_data"
    }
   ],
   "source": [
    "plt.plot(lista, variance_sum, marker='o')\n",
    "plt.plot([lista[0], lista[-1]] , [variance_sum[0], variance_sum[-1]])\n",
    "\n",
    "plt.xlabel('Numero componentes')\n",
    "plt.xticks(lista)\n",
    "plt.ylabel('variance')\n",
    "plt.title('Variancia por numero de componentes')\n",
    "plt.grid(True)"
   ]
  },
  {
   "cell_type": "code",
   "execution_count": null,
   "id": "present-efficiency",
   "metadata": {
    "scrolled": true
   },
   "outputs": [],
   "source": [
    "with open('pca_dump.p' , 'rb') as f:\n",
    "    global pca\n",
    "    pca = pickle.load(f)"
   ]
  },
  {
   "cell_type": "code",
   "execution_count": 59,
   "id": "color-wedding",
   "metadata": {},
   "outputs": [
    {
     "data": {
      "text/plain": [
       "(40000, 1500)"
      ]
     },
     "execution_count": 59,
     "metadata": {},
     "output_type": "execute_result"
    }
   ],
   "source": [
    "vec = pca.transform(vector)\n",
    "vec.shape"
   ]
  },
  {
   "cell_type": "code",
   "execution_count": null,
   "id": "finite-marks",
   "metadata": {},
   "outputs": [],
   "source": [
    "dl = LogisticRegressionCV(Cs=3, max_iter=1000, multi_class='auto', n_jobs=-1, penalty='l2', solver='saga', \n",
    "                     tol=0.001).fit(vec, y_boolean)\n",
    "print(dl.score(vec, y_boolean))\n",
    "for target, score in dl.scores_.items():\n",
    "    print(f'Class {target} \\nScore {score}\\n\\n')"
   ]
  },
  {
   "cell_type": "code",
   "execution_count": null,
   "id": "major-jimmy",
   "metadata": {
    "jupyter": {
     "outputs_hidden": true
    }
   },
   "outputs": [],
   "source": [
    "dl = LogisticRegressionCV(Cs=3, max_iter=1000,  n_jobs=-1, penalty='l2', solver='saga', \n",
    "                     tol=0.001).fit(vec, y)\n",
    "print(dl.score(vec, y))\n",
    "for target, score in dl.scores_.items():\n",
    "    print(f'Class {target} \\nScores\\n{score}\\n\\n')"
   ]
  },
  {
   "cell_type": "markdown",
   "id": "failing-kitchen",
   "metadata": {},
   "source": [
    "## OneVsRestClassifier (Boolean)"
   ]
  },
  {
   "cell_type": "code",
   "execution_count": 60,
   "id": "exceptional-mailman",
   "metadata": {
    "scrolled": true
   },
   "outputs": [],
   "source": [
    "X1,X2,y1,y2=train_test_split(vec,y_boolean,test_size=1/4)"
   ]
  },
  {
   "cell_type": "code",
   "execution_count": 61,
   "id": "tracked-tomorrow",
   "metadata": {},
   "outputs": [],
   "source": [
    "clf = OneVsRestClassifier(SVC(), n_jobs=-1).fit(X1, y1)\n",
    "ye = clf.predict(X2)"
   ]
  },
  {
   "cell_type": "code",
   "execution_count": 62,
   "id": "external-player",
   "metadata": {},
   "outputs": [
    {
     "name": "stdout",
     "output_type": "stream",
     "text": [
      "Score train 0.9723666666666667\n",
      "Score test  0.8937\n"
     ]
    }
   ],
   "source": [
    "print('Score train' ,clf.score(X1, y1))\n",
    "print('Score test ' ,clf.score(X2, y2))"
   ]
  },
  {
   "cell_type": "markdown",
   "id": "opened-logging",
   "metadata": {},
   "source": [
    "## OneVsRestClassifier (Multiclass)"
   ]
  },
  {
   "cell_type": "code",
   "execution_count": 63,
   "id": "brave-cheese",
   "metadata": {},
   "outputs": [],
   "source": [
    "X1,X2,y1,y2=train_test_split(vec,y,test_size=1/4)"
   ]
  },
  {
   "cell_type": "code",
   "execution_count": null,
   "id": "double-infection",
   "metadata": {},
   "outputs": [],
   "source": [
    "clf = OneVsRestClassifier(SVC(), n_jobs=-1).fit(X1, y1)\n",
    "ye = clf.predict(X2)"
   ]
  },
  {
   "cell_type": "code",
   "execution_count": null,
   "id": "driving-cancer",
   "metadata": {},
   "outputs": [],
   "source": [
    "print('Score train' ,clf.score(X1, y1))\n",
    "print('Score test ' ,clf.score(X2, y2))"
   ]
  },
  {
   "cell_type": "markdown",
   "id": "golden-cycle",
   "metadata": {},
   "source": [
    "# Clustering\n",
    "\n",
    "Depois de termos os componentes principais podemos partir para o clustering"
   ]
  },
  {
   "cell_type": "markdown",
   "id": "activated-enclosure",
   "metadata": {},
   "source": [
    "## Clustering, demora um bocado. Tipo 20 minutos para 100 componentes\n",
    "Ajuda a calcular o numero de cluster otimo, entre 8 e max_k"
   ]
  },
  {
   "cell_type": "code",
   "execution_count": null,
   "id": "higher-realtor",
   "metadata": {
    "scrolled": false
   },
   "outputs": [],
   "source": [
    "min_k = len(np.unique(y))\n",
    "max_k = 100\n",
    "indx = np.linspace(min_k,max_k, num=20, dtype=np.uint8)\n",
    "sse = []\n",
    "\n",
    "for k in indx:\n",
    "    kmeans = KMeans(n_clusters = k)\n",
    "\n",
    "    sse.append(kmeans.fit(x_train).inertia_)\n",
    "    print (str(k) + \": \"+ str(silhouette_score(x_train, kmeans.labels_, metric='euclidean')))"
   ]
  },
  {
   "cell_type": "code",
   "execution_count": null,
   "id": "funky-mountain",
   "metadata": {},
   "outputs": [],
   "source": [
    "plt.plot(indx, sse, marker='o')\n",
    "plt.plot([min_k, max_k] , [sse[0], sse[len(sse)-1]])\n",
    "\n",
    "\n",
    "plt.xlabel('Clusters Centroides')\n",
    "plt.xticks(indx)\n",
    "plt.ylabel('SSE')\n",
    "plt.title('SSE por número de clusters')\n",
    "plt.grid(True)\n"
   ]
  },
  {
   "cell_type": "code",
   "execution_count": null,
   "id": "binary-myrtle",
   "metadata": {},
   "outputs": [],
   "source": [
    "x1, y1 = min_k, sse[0]\n",
    "x2, y2 = max_k, sse[len(sse)-1]\n",
    "\n",
    "distances = []\n",
    "for i in range(len(wcss)):\n",
    "    x0 = indx[i]\n",
    "    y0 = wcss[i]\n",
    "    numerator = abs((y2-y1)*x0 - (x2-x1)*y0 + x2*y1 - y2*x1)\n",
    "    denominator = np.sqrt((y2 - y1)**2 + (x2 - x1)**2)\n",
    "    distances.append(np.round(numerator/denominator , 6))\n",
    "\n",
    "best_n = indx[distances.index(max(distances))]\n",
    "print(best_n)"
   ]
  },
  {
   "cell_type": "code",
   "execution_count": null,
   "id": "efficient-reflection",
   "metadata": {},
   "outputs": [],
   "source": [
    "with open('dump_cluster.p ', 'wb') as f:\n",
    "    pickle.dump({\n",
    "        'indx' : indx,\n",
    "        'sse' : sse,\n",
    "        'distances' : distances,\n",
    "        'best_n' : best_n\n",
    "    }, f)"
   ]
  },
  {
   "cell_type": "code",
   "execution_count": null,
   "id": "billion-sudan",
   "metadata": {},
   "outputs": [],
   "source": [
    "km = KMeans(n_clusters=best_n).fit(x_train)"
   ]
  },
  {
   "cell_type": "code",
   "execution_count": null,
   "id": "reserved-slave",
   "metadata": {},
   "outputs": [],
   "source": [
    "print(\"Top terms per cluster:\")\n",
    "original_space_centroids = pca.inverse_transform(km.cluster_centers_)\n",
    "order_centroids = original_space_centroids.argsort()[:, ::-1]\n",
    "\n",
    "terms = tfidf.get_feature_names()\n",
    "for i in range(len(km.cluster_centers_)):\n",
    "    print(\"Cluster %d:\" % i, end='')\n",
    "    for ind in order_centroids[i, :10]:\n",
    "        print(' %s' % terms[ind], end=',')\n",
    "    print()"
   ]
  },
  {
   "cell_type": "code",
   "execution_count": null,
   "id": "prime-decision",
   "metadata": {},
   "outputs": [],
   "source": []
  },
  {
   "cell_type": "code",
   "execution_count": null,
   "id": "early-greeting",
   "metadata": {},
   "outputs": [],
   "source": []
  },
  {
   "cell_type": "markdown",
   "id": "italian-steal",
   "metadata": {},
   "source": [
    "# Bibliografia\n",
    "\n",
    "### Geral\n",
    "- Slides Professor\n",
    "\n",
    "### Pré processamento do texto\n",
    "- https://blog.ekbana.com/pre-processing-text-in-python-ad13ea544dae\n",
    "- https://medium.com/@wenxuan0923/feature-extraction-from-text-using-countvectorizer-tfidfvectorizer-9f74f38f86cc\n",
    "\n",
    "### Escolher o classificador\n",
    "- https://scikit-learn.org/stable/tutorial/machine_learning_map/index.html\n",
    "\n",
    "### Grid Search\n",
    "- https://scikit-learn.org/stable/modules/grid_search.html\n",
    "- https://scikit-learn.org/stable/auto_examples/model_selection/grid_search_text_feature_extraction.html\n",
    "- https://www.youtube.com/watch?v=Gol_qOgRqfA\n",
    "\n",
    "### Pipeline\n",
    "- https://scikit-learn.org/stable/modules/generated/sklearn.pipeline.Pipeline.html#sklearn.pipeline.Pipeline\n",
    "\n",
    "### Clustering\n",
    "- https://medium.com/hanman/data-clustering-what-type-of-movies-are-in-the-imdb-top-250-7ef59372a93b\n",
    "- https://jtemporal.com/kmeans-and-elbow-method/\n",
    "\n",
    "### Naive Bayse\n",
    "- https://scikit-learn.org/stable/modules/generated/sklearn.naive_bayes.MultinomialNB.html\n",
    "\n",
    "### Decomposição PCA/LSA\n",
    "- https://scikit-learn.org/stable/modules/generated/sklearn.decomposition.TruncatedSVD.html#sklearn.decomposition.TruncatedSVD\n",
    "- https://www.datascienceassn.org/sites/default/files/users/user1/lsa_presentation_final.pdf\n",
    "- https://towardsdatascience.com/latent-semantic-analysis-intuition-math-implementation-a194aff870f8"
   ]
  }
 ],
 "metadata": {
  "kernelspec": {
   "display_name": "Python 3",
   "language": "python",
   "name": "python3"
  }
 },
 "nbformat": 4,
 "nbformat_minor": 5
}
